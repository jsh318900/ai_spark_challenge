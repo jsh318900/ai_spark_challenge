{
 "cells": [
  {
   "cell_type": "markdown",
   "id": "09a7542a",
   "metadata": {},
   "source": [
    "# 1. import"
   ]
  },
  {
   "cell_type": "code",
   "execution_count": 1,
   "id": "be145310",
   "metadata": {},
   "outputs": [],
   "source": [
    "import random\n",
    "import torch\n",
    "import torch.nn as nn\n",
    "import torch.optim as optim\n",
    "from torch.utils.data import Dataset, Sampler, DataLoader, Subset\n",
    "\n",
    "import numpy as np\n",
    "import pandas as pd\n",
    "import matplotlib.pyplot as plt\n",
    "from tqdm import tqdm\n",
    "\n",
    "from sklearn.model_selection import train_test_split\n",
    "from sklearn.preprocessing import OrdinalEncoder\n",
    "\n",
    "# 커스텀 파이토치 데이터셋 / 모델 + 유틸 함수 import\n",
    "from data_utils import *\n",
    "from feature_eng import *\n",
    "\n",
    "torch.manual_seed(12345)\n",
    "random.seed(12345)\n",
    "np.random.seed(12345)"
   ]
  },
  {
   "cell_type": "markdown",
   "id": "746dd376",
   "metadata": {},
   "source": [
    "# 2. 데이터 정보 + 상수 선언"
   ]
  },
  {
   "cell_type": "code",
   "execution_count": 2,
   "id": "2c369ba4",
   "metadata": {},
   "outputs": [],
   "source": [
    "aws_df = combine_df('./TRAIN_AWS/', './META/awsmap.csv')\n",
    "pm_df = combine_df('./TRAIN/', './META/pmmap.csv')"
   ]
  },
  {
   "cell_type": "markdown",
   "id": "f00c2542",
   "metadata": {},
   "source": [
    "## 2.1 기상 관측소 (AWS) 데이터"
   ]
  },
  {
   "cell_type": "code",
   "execution_count": 3,
   "id": "bf640a63",
   "metadata": {},
   "outputs": [
    {
     "name": "stdout",
     "output_type": "stream",
     "text": [
      "<class 'pandas.core.frame.DataFrame'>\n",
      "Int64Index: 1051920 entries, 0 to 35063\n",
      "Data columns (total 10 columns):\n",
      " #   Column     Non-Null Count    Dtype  \n",
      "---  ------     --------------    -----  \n",
      " 0   연도         1051920 non-null  int64  \n",
      " 1   일시         1051920 non-null  object \n",
      " 2   지점         1051920 non-null  object \n",
      " 3   기온(°C)     1032972 non-null  float64\n",
      " 4   풍향(deg)    1032972 non-null  float64\n",
      " 5   풍속(m/s)    1032972 non-null  float64\n",
      " 6   강수량(mm)    1032972 non-null  float64\n",
      " 7   습도(%)      1032972 non-null  float64\n",
      " 8   Latitude   1051920 non-null  float64\n",
      " 9   Longitude  1051920 non-null  float64\n",
      "dtypes: float64(7), int64(1), object(2)\n",
      "memory usage: 88.3+ MB\n"
     ]
    }
   ],
   "source": [
    "aws_df.info()"
   ]
  },
  {
   "cell_type": "markdown",
   "id": "d3ea5dc6",
   "metadata": {},
   "source": [
    "## 2.2 미세먼지 관측소 (PM) 데이터"
   ]
  },
  {
   "cell_type": "code",
   "execution_count": 4,
   "id": "a7db16e0",
   "metadata": {},
   "outputs": [
    {
     "name": "stdout",
     "output_type": "stream",
     "text": [
      "<class 'pandas.core.frame.DataFrame'>\n",
      "Int64Index: 596088 entries, 0 to 35063\n",
      "Data columns (total 6 columns):\n",
      " #   Column     Non-Null Count   Dtype  \n",
      "---  ------     --------------   -----  \n",
      " 0   연도         596088 non-null  int64  \n",
      " 1   일시         596088 non-null  object \n",
      " 2   측정소        596088 non-null  object \n",
      " 3   PM2.5      580546 non-null  float64\n",
      " 4   Latitude   596088 non-null  float64\n",
      " 5   Longitude  596088 non-null  float64\n",
      "dtypes: float64(3), int64(1), object(2)\n",
      "memory usage: 31.8+ MB\n"
     ]
    }
   ],
   "source": [
    "pm_df.info()"
   ]
  },
  {
   "cell_type": "markdown",
   "id": "06252e25",
   "metadata": {},
   "source": [
    "## 2. 3 상수 선언"
   ]
  },
  {
   "cell_type": "code",
   "execution_count": 5,
   "id": "c23ecfd9",
   "metadata": {},
   "outputs": [],
   "source": [
    "num_aws = 30           # 총 기상 관측소 개수\n",
    "num_pm = 17            # 총 미세먼지 관측소 개수\n",
    "num_neighbors = 5      # 예측시 고려할 근처 관측소 개수\n",
    "num_aws_features = 7   # 기상 특성 개수\n",
    "num_pm_features = 8    # 기상 특성 + 미세먼지 특성 개수\n",
    "num_timestamps = len(aws_df.groupby(['연도', '일시']).groups)\n",
    "\n",
    "aws_dir = './TRAIN_AWS/'"
   ]
  },
  {
   "cell_type": "markdown",
   "id": "3d97a2fa",
   "metadata": {},
   "source": [
    "# 3. AWS 예측 모델\n",
    "\n",
    "## 3.1 전처리"
   ]
  },
  {
   "cell_type": "code",
   "execution_count": 6,
   "id": "41fbb985",
   "metadata": {},
   "outputs": [],
   "source": [
    "# 위도 경도 정보 불러오기 + 위치 명 정수화 하기\n",
    "region_encoder = OrdinalEncoder()\n",
    "meta_df = pd.read_csv('./META/awsmap.csv')\n",
    "meta_df['지점'] = meta_df['Location'].copy()\n",
    "meta_df['Location'] = region_encoder.fit_transform(meta_df['지점'].to_frame())\n",
    "meta_df = meta_df.iloc[:, :-2].sort_values(by='Location')\n",
    "meta_df = pd.DataFrame(meta_df, index=meta_df['Location'], columns=['Latitude', 'Longitude'])"
   ]
  },
  {
   "cell_type": "code",
   "execution_count": 7,
   "id": "f654b677",
   "metadata": {},
   "outputs": [],
   "source": [
    "# 정수화된 지점 아이디와 지점 이름 매핑\n",
    "regions = list(region_encoder.inverse_transform(np.array(range(30)).reshape(-1, 1)).flatten())\n",
    "id_to_region = dict(zip(range(30), regions))\n",
    "regions_to_id = dict(zip(regions, range(30)))\n",
    "\n",
    "# 각 관측소 별 근처 5개의 관측소 구하기\n",
    "neighbors = {}\n",
    "for i in range(30):\n",
    "    point = meta_df.iloc[i]\n",
    "    temp = meta_df.copy()\n",
    "    temp['Latitude'] -= point[0]\n",
    "    temp['Longitude'] -= point[1]\n",
    "    temp['dist'] = temp['Latitude'] ** 2 + temp['Longitude'] ** 2\n",
    "    temp.sort_values(by='dist', inplace=True)\n",
    "    neighbors[i] = [int(x) for x in temp.index[1:num_neighbors + 1]]"
   ]
  },
  {
   "cell_type": "markdown",
   "id": "69778415",
   "metadata": {},
   "source": [
    "## 3.2 데이터 numpy array로 적제 후 PyTorch 데이터셋 생성하기"
   ]
  },
  {
   "cell_type": "code",
   "execution_count": 8,
   "id": "3b78b73a",
   "metadata": {},
   "outputs": [],
   "source": [
    "data = np.zeros((num_timestamps, num_aws, num_aws_features), float)\n",
    "data[:, :, :] = np.nan\n",
    "\n",
    "for i in range(30):\n",
    "    aws_df = pd.read_csv(aws_dir + id_to_region[i] + '.csv')\n",
    "    features = aws_df.values[:,3:]\n",
    "    lat = meta_df.iloc[i, 0]\n",
    "    long = meta_df.iloc[i, 1]\n",
    "    data[:, i, :-2] = features\n",
    "    data[:, i, -2:] = np.array([lat, long])"
   ]
  },
  {
   "cell_type": "code",
   "execution_count": 9,
   "id": "09b6029b",
   "metadata": {},
   "outputs": [],
   "source": [
    "# 훈련셋 검증셋 나누기\n",
    "dataset = AWSTrainDataset(data, num_aws=num_neighbors, time_size=10, neighbors=neighbors)\n",
    "train_idx, valid_idx = train_test_split(range(len(dataset)), test_size=0.2, random_state=12345)\n",
    "trainset, validset = Subset(dataset, train_idx), Subset(dataset, valid_idx)"
   ]
  },
  {
   "cell_type": "markdown",
   "id": "d62015fe",
   "metadata": {},
   "source": [
    "## 3.3 AWS 모델 훈련"
   ]
  },
  {
   "cell_type": "code",
   "execution_count": 14,
   "id": "3482dfc2",
   "metadata": {},
   "outputs": [],
   "source": [
    "# 하이퍼 파라미터\n",
    "num_lstm_out = 5\n",
    "hidden_size = 20\n",
    "time_size = 10\n",
    "batch_size = 12\n",
    "lr = 0.075\n",
    "patience = 2\n",
    "epochs = 30\n",
    "steps_per_epoch = len(trainset) // batch_size // 10\n",
    "valid_steps = len(validset) // batch_size // 10\n",
    "\n",
    "# 데이터로더\n",
    "trainloader = DataLoader(trainset, batch_size=batch_size, sampler=NonNullSampler(trainset))\n",
    "validloader = DataLoader(validset, batch_size=batch_size, sampler=NonNullSampler(validset))\n",
    "train_iter = iter(trainloader)\n",
    "valid_iter = iter(validloader)\n",
    "\n",
    "# 모델 생성 \n",
    "model = FeatureSeqNet(num_aws=num_neighbors, num_features=num_aws_features, time_size=time_size, hidden_size=hidden_size, num_lstm_out=num_lstm_out)\n",
    "model.to(float)\n",
    "\n",
    "# 옵티마이저, 스켸줄러, 손실함수 객체 생성\n",
    "optimizer = optim.Adagrad(lr=lr, params=model.parameters())\n",
    "scheduler = optim.lr_scheduler.ReduceLROnPlateau(optimizer=optimizer, patience=patience, mode='min', verbose=True)\n",
    "loss_fn = nn.L1Loss()\n",
    "\n",
    "# 훈련 결과 저장용\n",
    "metrics = {'train':[], 'valid':[]}"
   ]
  },
  {
   "cell_type": "code",
   "execution_count": 15,
   "id": "a183ec9f",
   "metadata": {
    "scrolled": false
   },
   "outputs": [
    {
     "name": "stderr",
     "output_type": "stream",
     "text": [
      "Train epoch 1 : 100%|███████████████████████████████████████████| 7009/7009 [01:39<00:00, 70.77it/s]\n",
      "Validation epoch 1 : 100%|█████████████████████████████████████| 1752/1752 [00:08<00:00, 214.50it/s]\n"
     ]
    },
    {
     "name": "stdout",
     "output_type": "stream",
     "text": [
      "Metrics: Train Loss: 0.052684102519389556, Valid Loss: 0.04908011934810848\n"
     ]
    },
    {
     "name": "stderr",
     "output_type": "stream",
     "text": [
      "Train epoch 2 : 100%|███████████████████████████████████████████| 7009/7009 [01:41<00:00, 69.22it/s]\n",
      "Validation epoch 2 : 100%|█████████████████████████████████████| 1752/1752 [00:08<00:00, 214.17it/s]\n"
     ]
    },
    {
     "name": "stdout",
     "output_type": "stream",
     "text": [
      "Metrics: Train Loss: 0.04820054476888081, Valid Loss: 0.04784378194090744\n"
     ]
    },
    {
     "name": "stderr",
     "output_type": "stream",
     "text": [
      "Train epoch 3 : 100%|███████████████████████████████████████████| 7009/7009 [01:35<00:00, 73.28it/s]\n",
      "Validation epoch 3 : 100%|█████████████████████████████████████| 1752/1752 [00:08<00:00, 203.02it/s]\n"
     ]
    },
    {
     "name": "stdout",
     "output_type": "stream",
     "text": [
      "Metrics: Train Loss: 0.047643288137584436, Valid Loss: 0.04696283395532162\n"
     ]
    },
    {
     "name": "stderr",
     "output_type": "stream",
     "text": [
      "Train epoch 4 : 100%|███████████████████████████████████████████| 7009/7009 [01:51<00:00, 62.74it/s]\n",
      "Validation epoch 4 : 100%|█████████████████████████████████████| 1752/1752 [00:10<00:00, 174.19it/s]\n"
     ]
    },
    {
     "name": "stdout",
     "output_type": "stream",
     "text": [
      "Metrics: Train Loss: 0.047388533992857085, Valid Loss: 0.04714507865860879\n"
     ]
    },
    {
     "name": "stderr",
     "output_type": "stream",
     "text": [
      "Train epoch 5 : 100%|███████████████████████████████████████████| 7009/7009 [01:53<00:00, 61.85it/s]\n",
      "Validation epoch 5 : 100%|█████████████████████████████████████| 1752/1752 [00:09<00:00, 180.02it/s]\n"
     ]
    },
    {
     "name": "stdout",
     "output_type": "stream",
     "text": [
      "Metrics: Train Loss: 0.046976176394156244, Valid Loss: 0.04724141208544068\n"
     ]
    },
    {
     "name": "stderr",
     "output_type": "stream",
     "text": [
      "Train epoch 6 : 100%|███████████████████████████████████████████| 7009/7009 [01:44<00:00, 67.03it/s]\n",
      "Validation epoch 6 : 100%|█████████████████████████████████████| 1752/1752 [00:07<00:00, 219.45it/s]\n"
     ]
    },
    {
     "name": "stdout",
     "output_type": "stream",
     "text": [
      "Metrics: Train Loss: 0.0469547323743288, Valid Loss: 0.04674176111460126\n"
     ]
    },
    {
     "name": "stderr",
     "output_type": "stream",
     "text": [
      "Train epoch 7 : 100%|███████████████████████████████████████████| 7009/7009 [01:35<00:00, 73.35it/s]\n",
      "Validation epoch 7 : 100%|█████████████████████████████████████| 1752/1752 [00:07<00:00, 224.81it/s]\n"
     ]
    },
    {
     "name": "stdout",
     "output_type": "stream",
     "text": [
      "Metrics: Train Loss: 0.04681184905489146, Valid Loss: 0.046614858945416365\n"
     ]
    },
    {
     "name": "stderr",
     "output_type": "stream",
     "text": [
      "Train epoch 8 : 100%|███████████████████████████████████████████| 7009/7009 [01:34<00:00, 74.45it/s]\n",
      "Validation epoch 8 : 100%|█████████████████████████████████████| 1752/1752 [00:08<00:00, 213.25it/s]\n"
     ]
    },
    {
     "name": "stdout",
     "output_type": "stream",
     "text": [
      "Metrics: Train Loss: 0.04653187683921152, Valid Loss: 0.04654317038315111\n"
     ]
    },
    {
     "name": "stderr",
     "output_type": "stream",
     "text": [
      "Train epoch 9 : 100%|███████████████████████████████████████████| 7009/7009 [01:34<00:00, 73.89it/s]\n",
      "Validation epoch 9 : 100%|█████████████████████████████████████| 1752/1752 [00:08<00:00, 218.35it/s]\n"
     ]
    },
    {
     "name": "stdout",
     "output_type": "stream",
     "text": [
      "Metrics: Train Loss: 0.04648367498108611, Valid Loss: 0.04651882348184977\n"
     ]
    },
    {
     "name": "stderr",
     "output_type": "stream",
     "text": [
      "Train epoch 10 : 100%|██████████████████████████████████████████| 7009/7009 [01:34<00:00, 74.45it/s]\n",
      "Validation epoch 10 : 100%|████████████████████████████████████| 1752/1752 [00:08<00:00, 217.89it/s]\n"
     ]
    },
    {
     "name": "stdout",
     "output_type": "stream",
     "text": [
      "Metrics: Train Loss: 0.04632013831529437, Valid Loss: 0.04656064232184211\n"
     ]
    },
    {
     "name": "stderr",
     "output_type": "stream",
     "text": [
      "Train epoch 11 : 100%|██████████████████████████████████████████| 7009/7009 [01:35<00:00, 73.30it/s]\n",
      "Validation epoch 11 : 100%|████████████████████████████████████| 1752/1752 [00:08<00:00, 214.39it/s]\n"
     ]
    },
    {
     "name": "stdout",
     "output_type": "stream",
     "text": [
      "Metrics: Train Loss: 0.04619382161215389, Valid Loss: 0.04638304721663339\n"
     ]
    },
    {
     "name": "stderr",
     "output_type": "stream",
     "text": [
      "Train epoch 12 : 100%|██████████████████████████████████████████| 7009/7009 [01:35<00:00, 73.43it/s]\n",
      "Validation epoch 12 : 100%|████████████████████████████████████| 1752/1752 [00:08<00:00, 214.47it/s]\n"
     ]
    },
    {
     "name": "stdout",
     "output_type": "stream",
     "text": [
      "Metrics: Train Loss: 0.04617705459743926, Valid Loss: 0.04602640221726027\n"
     ]
    },
    {
     "name": "stderr",
     "output_type": "stream",
     "text": [
      "Train epoch 13 : 100%|██████████████████████████████████████████| 7009/7009 [01:34<00:00, 74.13it/s]\n",
      "Validation epoch 13 : 100%|████████████████████████████████████| 1752/1752 [00:08<00:00, 215.64it/s]\n"
     ]
    },
    {
     "name": "stdout",
     "output_type": "stream",
     "text": [
      "Metrics: Train Loss: 0.04607227370340264, Valid Loss: 0.04595350297172826\n"
     ]
    },
    {
     "name": "stderr",
     "output_type": "stream",
     "text": [
      "Train epoch 14 : 100%|██████████████████████████████████████████| 7009/7009 [01:46<00:00, 65.86it/s]\n",
      "Validation epoch 14 : 100%|████████████████████████████████████| 1752/1752 [00:09<00:00, 182.58it/s]\n"
     ]
    },
    {
     "name": "stdout",
     "output_type": "stream",
     "text": [
      "Metrics: Train Loss: 0.04597437359636996, Valid Loss: 0.04583577500198058\n"
     ]
    },
    {
     "name": "stderr",
     "output_type": "stream",
     "text": [
      "Train epoch 15 : 100%|██████████████████████████████████████████| 7009/7009 [01:44<00:00, 67.36it/s]\n",
      "Validation epoch 15 : 100%|████████████████████████████████████| 1752/1752 [00:10<00:00, 172.02it/s]\n"
     ]
    },
    {
     "name": "stdout",
     "output_type": "stream",
     "text": [
      "Metrics: Train Loss: 0.04589409667554011, Valid Loss: 0.04625404555370381\n"
     ]
    },
    {
     "name": "stderr",
     "output_type": "stream",
     "text": [
      "Train epoch 16 : 100%|██████████████████████████████████████████| 7009/7009 [01:37<00:00, 71.80it/s]\n",
      "Validation epoch 16 : 100%|████████████████████████████████████| 1752/1752 [00:08<00:00, 210.78it/s]\n"
     ]
    },
    {
     "name": "stdout",
     "output_type": "stream",
     "text": [
      "Metrics: Train Loss: 0.045908316151721695, Valid Loss: 0.046215117187399395\n"
     ]
    },
    {
     "name": "stderr",
     "output_type": "stream",
     "text": [
      "Train epoch 17 : 100%|██████████████████████████████████████████| 7009/7009 [01:42<00:00, 68.05it/s]\n",
      "Validation epoch 17 : 100%|████████████████████████████████████| 1752/1752 [00:09<00:00, 194.49it/s]\n"
     ]
    },
    {
     "name": "stdout",
     "output_type": "stream",
     "text": [
      "Metrics: Train Loss: 0.04570358725342474, Valid Loss: 0.04553809456894562\n"
     ]
    },
    {
     "name": "stderr",
     "output_type": "stream",
     "text": [
      "Train epoch 18 : 100%|██████████████████████████████████████████| 7009/7009 [01:39<00:00, 70.24it/s]\n",
      "Validation epoch 18 : 100%|████████████████████████████████████| 1752/1752 [00:08<00:00, 217.46it/s]\n"
     ]
    },
    {
     "name": "stdout",
     "output_type": "stream",
     "text": [
      "Metrics: Train Loss: 0.04567995942126298, Valid Loss: 0.045399801047251775\n"
     ]
    },
    {
     "name": "stderr",
     "output_type": "stream",
     "text": [
      "Train epoch 19 : 100%|██████████████████████████████████████████| 7009/7009 [01:37<00:00, 72.13it/s]\n",
      "Validation epoch 19 : 100%|████████████████████████████████████| 1752/1752 [00:09<00:00, 177.58it/s]\n"
     ]
    },
    {
     "name": "stdout",
     "output_type": "stream",
     "text": [
      "Metrics: Train Loss: 0.0457069763286785, Valid Loss: 0.045841100833936874\n"
     ]
    },
    {
     "name": "stderr",
     "output_type": "stream",
     "text": [
      "Train epoch 20 : 100%|██████████████████████████████████████████| 7009/7009 [01:52<00:00, 62.31it/s]\n",
      "Validation epoch 20 : 100%|████████████████████████████████████| 1752/1752 [00:09<00:00, 178.21it/s]\n"
     ]
    },
    {
     "name": "stdout",
     "output_type": "stream",
     "text": [
      "Metrics: Train Loss: 0.04558843486251431, Valid Loss: 0.04526609247627133\n"
     ]
    },
    {
     "name": "stderr",
     "output_type": "stream",
     "text": [
      "Train epoch 21 : 100%|██████████████████████████████████████████| 7009/7009 [01:42<00:00, 68.41it/s]\n",
      "Validation epoch 21 : 100%|████████████████████████████████████| 1752/1752 [00:07<00:00, 229.28it/s]\n"
     ]
    },
    {
     "name": "stdout",
     "output_type": "stream",
     "text": [
      "Metrics: Train Loss: 0.04542982798768626, Valid Loss: 0.045581897996505624\n"
     ]
    },
    {
     "name": "stderr",
     "output_type": "stream",
     "text": [
      "Train epoch 22 : 100%|██████████████████████████████████████████| 7009/7009 [01:31<00:00, 76.78it/s]\n",
      "Validation epoch 22 : 100%|████████████████████████████████████| 1752/1752 [00:07<00:00, 225.06it/s]\n"
     ]
    },
    {
     "name": "stdout",
     "output_type": "stream",
     "text": [
      "Metrics: Train Loss: 0.04554602494310286, Valid Loss: 0.04561308217628826\n"
     ]
    },
    {
     "name": "stderr",
     "output_type": "stream",
     "text": [
      "Train epoch 23 : 100%|██████████████████████████████████████████| 7009/7009 [01:30<00:00, 77.43it/s]\n",
      "Validation epoch 23 : 100%|████████████████████████████████████| 1752/1752 [00:07<00:00, 224.22it/s]\n"
     ]
    },
    {
     "name": "stdout",
     "output_type": "stream",
     "text": [
      "Epoch 00023: reducing learning rate of group 0 to 7.5000e-03.\n",
      "Metrics: Train Loss: 0.045467642745787566, Valid Loss: 0.045278252289755815\n"
     ]
    },
    {
     "name": "stderr",
     "output_type": "stream",
     "text": [
      "Train epoch 24 : 100%|██████████████████████████████████████████| 7009/7009 [01:31<00:00, 76.48it/s]\n",
      "Validation epoch 24 : 100%|████████████████████████████████████| 1752/1752 [00:07<00:00, 225.25it/s]\n"
     ]
    },
    {
     "name": "stdout",
     "output_type": "stream",
     "text": [
      "Metrics: Train Loss: 0.04532785238172621, Valid Loss: 0.0456201273349513\n"
     ]
    },
    {
     "name": "stderr",
     "output_type": "stream",
     "text": [
      "Train epoch 25 : 100%|██████████████████████████████████████████| 7009/7009 [01:30<00:00, 77.56it/s]\n",
      "Validation epoch 25 : 100%|████████████████████████████████████| 1752/1752 [00:07<00:00, 231.70it/s]\n"
     ]
    },
    {
     "name": "stdout",
     "output_type": "stream",
     "text": [
      "Metrics: Train Loss: 0.04532992746383057, Valid Loss: 0.04559117801849866\n"
     ]
    },
    {
     "name": "stderr",
     "output_type": "stream",
     "text": [
      "Train epoch 26 : 100%|██████████████████████████████████████████| 7009/7009 [01:31<00:00, 76.79it/s]\n",
      "Validation epoch 26 : 100%|████████████████████████████████████| 1752/1752 [00:07<00:00, 228.56it/s]\n"
     ]
    },
    {
     "name": "stdout",
     "output_type": "stream",
     "text": [
      "Epoch 00026: reducing learning rate of group 0 to 7.5000e-04.\n",
      "Metrics: Train Loss: 0.04527989870200146, Valid Loss: 0.0454048959226702\n"
     ]
    },
    {
     "name": "stderr",
     "output_type": "stream",
     "text": [
      "Train epoch 27 : 100%|██████████████████████████████████████████| 7009/7009 [01:30<00:00, 77.86it/s]\n",
      "Validation epoch 27 : 100%|████████████████████████████████████| 1752/1752 [00:07<00:00, 222.98it/s]\n"
     ]
    },
    {
     "name": "stdout",
     "output_type": "stream",
     "text": [
      "Metrics: Train Loss: 0.04510254768653439, Valid Loss: 0.04521145930166926\n"
     ]
    },
    {
     "name": "stderr",
     "output_type": "stream",
     "text": [
      "Train epoch 28 : 100%|██████████████████████████████████████████| 7009/7009 [01:31<00:00, 76.67it/s]\n",
      "Validation epoch 28 : 100%|████████████████████████████████████| 1752/1752 [00:07<00:00, 225.49it/s]\n"
     ]
    },
    {
     "name": "stdout",
     "output_type": "stream",
     "text": [
      "Metrics: Train Loss: 0.045142828604617505, Valid Loss: 0.045210753613354956\n"
     ]
    },
    {
     "name": "stderr",
     "output_type": "stream",
     "text": [
      "Train epoch 29 : 100%|██████████████████████████████████████████| 7009/7009 [01:30<00:00, 77.60it/s]\n",
      "Validation epoch 29 : 100%|████████████████████████████████████| 1752/1752 [00:07<00:00, 226.18it/s]\n"
     ]
    },
    {
     "name": "stdout",
     "output_type": "stream",
     "text": [
      "Metrics: Train Loss: 0.04517194509644741, Valid Loss: 0.045404276479397446\n"
     ]
    },
    {
     "name": "stderr",
     "output_type": "stream",
     "text": [
      "Train epoch 30 : 100%|██████████████████████████████████████████| 7009/7009 [01:30<00:00, 77.21it/s]\n",
      "Validation epoch 30 : 100%|████████████████████████████████████| 1752/1752 [00:07<00:00, 231.88it/s]"
     ]
    },
    {
     "name": "stdout",
     "output_type": "stream",
     "text": [
      "Metrics: Train Loss: 0.04507864373356155, Valid Loss: 0.04497438716788401\n"
     ]
    },
    {
     "name": "stderr",
     "output_type": "stream",
     "text": [
      "\n"
     ]
    }
   ],
   "source": [
    "# 훈련 루프\n",
    "for epoch in range(1, epochs + 1):\n",
    "    model.train()\n",
    "    train_loss = 0\n",
    "    for step in tqdm(range(steps_per_epoch), desc=f'Train epoch {epoch} ', ncols=100):\n",
    "        inputs, targets = next(train_iter)\n",
    "        output = model(inputs, targets)\n",
    "        output = output.view(-1)\n",
    "        targets = targets.view(-1)\n",
    "        loss = loss_fn(output, targets)\n",
    "        \n",
    "        optimizer.zero_grad()\n",
    "        loss.backward()\n",
    "        torch.nn.utils.clip_grad_norm_(model.parameters(), 1)\n",
    "        optimizer.step()\n",
    "        train_loss += loss.item()\n",
    "    train_loss /= steps_per_epoch\n",
    "    metrics['train'].append(train_loss)\n",
    "\n",
    "    model.eval()\n",
    "    val_loss = 0\n",
    "    for step in tqdm(range(valid_steps), desc=f'Validation epoch {epoch} ', ncols=100):\n",
    "        inputs, targets = next(valid_iter)\n",
    "        output = model(inputs, targets)\n",
    "        output = output.view(-1)\n",
    "        targets = targets.view(-1)\n",
    "        loss = loss_fn(output, targets)\n",
    "        val_loss += loss.item()\n",
    "\n",
    "    val_loss /= valid_steps\n",
    "    metrics['valid'].append(val_loss)\n",
    "    scheduler.step(val_loss)\n",
    "    \n",
    "    print(f'Metrics: Train Loss: {train_loss}, Valid Loss: {val_loss}')"
   ]
  },
  {
   "cell_type": "markdown",
   "id": "ae359709",
   "metadata": {},
   "source": [
    "## 3.4 AWS 모델 훈련 시각화"
   ]
  },
  {
   "cell_type": "code",
   "execution_count": 16,
   "id": "e40e6045",
   "metadata": {},
   "outputs": [
    {
     "data": {
      "image/png": "[encoded data removed]",
      "text/plain": [
       "<Figure size 640x480 with 1 Axes>"
      ]
     },
     "metadata": {},
     "output_type": "display_data"
    }
   ],
   "source": [
    "train_metrics = metrics['train']\n",
    "val_metrics = metrics['valid']\n",
    "plt.plot(range(len(train_metrics)), train_metrics, label='Train')\n",
    "plt.plot(range(1, len(val_metrics) + 1), val_metrics, label='Valid')\n",
    "plt.legend()\n",
    "plt.show()"
   ]
  },
  {
   "cell_type": "markdown",
   "id": "3e39fc79",
   "metadata": {},
   "source": [
    "## 3.5 AWS 결측치 예측"
   ]
  },
  {
   "cell_type": "code",
   "execution_count": 17,
   "id": "20185c96",
   "metadata": {},
   "outputs": [],
   "source": [
    "# 시간 (index)과 관측소 (column)별로 측정값이 있는지 없는지 계산하여 DataFrame 형식으로 리턴\n",
    "def null_time_intervals(root_dir, metadata_path, regions_to_id):\n",
    "    dfs = []\n",
    "    meta_df = pd.read_csv(metadata_path)\n",
    "    for i in range(meta_df.shape[0]):\n",
    "        csv_path = meta_df.iloc[i]['Location'] + '.csv'\n",
    "        measure_df = pd.read_csv(root_dir + csv_path)\n",
    "        null_datapoints = measure_df.isnull().sum(axis=1) > 0\n",
    "        dfs.append(null_datapoints)\n",
    "    result = pd.DataFrame()\n",
    "    for i in range(meta_df.shape[0]):\n",
    "        result[regions_to_id[meta_df.iloc[i]['Location']]] = dfs[i]\n",
    "    return pd.DataFrame(result, columns=list(range(num_aws)))\n",
    "\n",
    "# 결측값들의 (time_idx, aws_idx)의 리스트 만들기\n",
    "null_times = null_time_intervals('./TRAIN_AWS/', './META/awsmap.csv', regions_to_id)\n",
    "null_list = []\n",
    "for time_idx in range(num_timestamps):\n",
    "    for aws_idx in range(num_aws):\n",
    "        if null_times.iloc[time_idx, aws_idx]:\n",
    "            null_list.append((time_idx, aws_idx))"
   ]
  },
  {
   "cell_type": "code",
   "execution_count": 18,
   "id": "eeca1db7",
   "metadata": {},
   "outputs": [],
   "source": [
    "# 결측치 채우기\n",
    "model.eval()\n",
    "spatial_enc = model.spatial_encoder\n",
    "seq_enc = model.sequential_encoder\n",
    "decoder = model.decoder\n",
    "\n",
    "\n",
    "data = dataset.data\n",
    "for time_idx, aws_idx in null_list:\n",
    "    inputs = torch.Tensor(dataset.get(time_idx, aws_idx))\n",
    "    spatial_x = spatial_enc(inputs.unsqueeze(0).double())\n",
    "    cnn_out = seq_enc(spatial_x).reshape(1, 1, -1)\n",
    "    output, _ = decoder.lstm(cnn_out.repeat((1,1,2)).double())\n",
    "    output = decoder.affine(torch.concat([cnn_out, output], dim=2).double()).flatten()\n",
    "    if np.isnan(output.detach().numpy()).sum() > 0:\n",
    "        raise Exception()\n",
    "    data[time_idx, aws_idx, :-2] = output.detach().numpy()"
   ]
  },
  {
   "cell_type": "markdown",
   "id": "9e4a499f",
   "metadata": {},
   "source": [
    "## 3.6 AWS 모델 이용하여 PM 관측소의 기상정보 예측"
   ]
  },
  {
   "cell_type": "code",
   "execution_count": 19,
   "id": "117cc3cd",
   "metadata": {},
   "outputs": [],
   "source": [
    "# pm\n",
    "pm_encoder = OrdinalEncoder()\n",
    "pm_meta_df = pd.read_csv('./META/pmmap.csv')\n",
    "pm_meta_df['측정소'] = pm_meta_df['Location'].copy()\n",
    "pm_meta_df['Location'] = pm_encoder.fit_transform(pm_meta_df['측정소'].to_frame())\n",
    "pm_meta_df = pm_meta_df.iloc[:, :-2].sort_values(by='Location')\n",
    "pm_meta_df = pd.DataFrame(pm_meta_df, index=pm_meta_df['Location'], columns=['Latitude', 'Longitude'])\n",
    "\n",
    "neighbors = {}\n",
    "num_aws = 5\n",
    "for i in range(17):\n",
    "    point = pm_meta_df.iloc[i]\n",
    "    temp = meta_df.copy()\n",
    "    temp['Latitude'] -= point[0]\n",
    "    temp['Longitude'] -= point[1]\n",
    "    temp['dist'] = temp['Latitude'] ** 2 + temp['Longitude'] ** 2\n",
    "    temp.sort_values(by='dist', inplace=True)\n",
    "    neighbors[i] = [int(x) for x in temp.index[1:num_aws + 1]]\n",
    "\n",
    "    ids = np.arange(17).reshape(-1, 1)\n",
    "pms = pm_encoder.inverse_transform(ids).flatten()\n",
    "pm_to_id = dict(zip(pms, ids.flatten()))\n",
    "id_to_pm = dict(zip(ids.flatten(), pms))"
   ]
  },
  {
   "cell_type": "code",
   "execution_count": 20,
   "id": "7b117157",
   "metadata": {},
   "outputs": [
    {
     "name": "stderr",
     "output_type": "stream",
     "text": [
      "100%|█████████████████████████████████████████████████████████| 35054/35054 [10:58<00:00, 53.24it/s]\n"
     ]
    }
   ],
   "source": [
    "pm_data = np.zeros((num_timestamps, 17, 7))\n",
    "for time_idx in tqdm(range(10, num_timestamps), ncols=100):\n",
    "    for pm_idx in range(17):\n",
    "        pm_pos = list(pm_meta_df.iloc[pm_idx])\n",
    "        inputs = torch.Tensor(dataset.get(time_idx, aws_idx))\n",
    "        spatial_x = spatial_enc(inputs.unsqueeze(0).double())\n",
    "        cnn_out = seq_enc(spatial_x).reshape(1, 1, -1)\n",
    "        output, _ = decoder.lstm(cnn_out.repeat((1,1,2)).double())\n",
    "        output = decoder.affine(torch.concat([cnn_out, output], dim=2).double()).flatten()\n",
    "        if np.isnan(output.detach().numpy()).sum() > 0:\n",
    "            raise Exception()\n",
    "        pm_data[time_idx, pm_idx, :-2] = output.detach().numpy()\n",
    "        pm_data[time_idx, pm_idx, -2:] = pm_pos"
   ]
  },
  {
   "cell_type": "markdown",
   "id": "6e1be6c7",
   "metadata": {},
   "source": [
    "# 4. PM 예측 모델"
   ]
  },
  {
   "cell_type": "markdown",
   "id": "bd8bd39a",
   "metadata": {},
   "source": [
    "## 4.1 PM 데이터 전처리"
   ]
  },
  {
   "cell_type": "code",
   "execution_count": 21,
   "id": "62aa5861",
   "metadata": {},
   "outputs": [],
   "source": [
    "# 0번째 특성 PM2.5 추가\n",
    "data = np.zeros((pm_data.shape[0], pm_data.shape[1], pm_data.shape[2] + 1))\n",
    "data[:, :, 1:] = pm_data[:, :, :]\n",
    "data[:10, :, 3] = np.nan\n",
    "data[:, :, 0] = np.nan\n",
    "\n",
    "for i in range(num_pm):\n",
    "    df = pd.read_csv(f'./TRAIN/{id_to_pm[i]}.csv')\n",
    "    for time_idx in range(data.shape[0]):\n",
    "        data[time_idx, i, 0] = df.iloc[time_idx]['PM2.5']"
   ]
  },
  {
   "cell_type": "code",
   "execution_count": 22,
   "id": "779a4868",
   "metadata": {},
   "outputs": [],
   "source": [
    "pm_meta_df = pd.read_csv('./META/pmmap.csv')\n",
    "pm_meta_df['측정소'] = pm_meta_df['Location'].copy()\n",
    "pm_meta_df['Location'] = pm_encoder.transform(pm_meta_df['측정소'].to_frame())\n",
    "pm_meta_df = pm_meta_df.iloc[:, :-2].sort_values(by='Location')\n",
    "pm_meta_df = pd.DataFrame(pm_meta_df, index=pm_meta_df['Location'], columns=['Latitude', 'Longitude'])\n",
    "\n",
    "neighbors = {}\n",
    "num_aws = 5\n",
    "for i in range(17):\n",
    "    point = pm_meta_df.iloc[i]\n",
    "    temp = pm_meta_df.copy()\n",
    "    temp['Latitude'] -= point[0]\n",
    "    temp['Longitude'] -= point[1]\n",
    "    temp['dist'] = temp['Latitude'] ** 2 + temp['Longitude'] ** 2\n",
    "    temp.sort_values(by='dist', inplace=True)\n",
    "    neighbors[i] = [int(x) for x in temp.index[1:num_aws + 1]]"
   ]
  },
  {
   "cell_type": "markdown",
   "id": "e044eccd",
   "metadata": {},
   "source": [
    "## 4.2 PyTorch 데이터셋 생성하기"
   ]
  },
  {
   "cell_type": "code",
   "execution_count": 23,
   "id": "c54db012",
   "metadata": {},
   "outputs": [],
   "source": [
    "dataset = PMTrainDataset(data, num_aws=num_neighbors, time_size=time_size, neighbors=neighbors)\n",
    "train_idx, valid_idx = train_test_split(range(len(dataset)), test_size=0.2, random_state=12345)\n",
    "trainset, validset = Subset(dataset, train_idx), Subset(dataset, valid_idx)\n",
    "trainloader = DataLoader(trainset, batch_size=batch_size, sampler=NonNullSampler(trainset))\n",
    "validloader = DataLoader(validset, batch_size=batch_size, sampler=NonNullSampler(validset))"
   ]
  },
  {
   "cell_type": "markdown",
   "id": "945df2b2",
   "metadata": {},
   "source": [
    "## 4.3 PM 모델 훈련"
   ]
  },
  {
   "cell_type": "code",
   "execution_count": 24,
   "id": "94b2747c",
   "metadata": {},
   "outputs": [],
   "source": [
    "# 하이퍼파라미터\n",
    "num_lstm_out = 6\n",
    "lr = 0.05\n",
    "patience = 2\n",
    "epochs = 30\n",
    "steps_per_epoch = len(trainset) // batch_size // 10\n",
    "valid_steps = len(validset) // batch_size // 10\n",
    "\n",
    "# 모델 생성\n",
    "model = FeatureSeqNet(num_aws=num_neighbors, num_features=num_pm_features, time_size=time_size, hidden_size=hidden_size, num_lstm_out=num_lstm_out)\n",
    "model.to(float)\n",
    "\n",
    "# 옵티마이저, 스켸줄러, 손실함수 생성\n",
    "optimizer = optim.Adagrad(lr=lr, params=model.parameters())\n",
    "scheduler = optim.lr_scheduler.ReduceLROnPlateau(optimizer=optimizer, patience=patience, mode='min', verbose=True)\n",
    "loss_fn = nn.L1Loss()\n",
    "train_iter = iter(trainloader)\n",
    "valid_iter = iter(validloader)\n",
    "\n",
    "# 훈련 결과 저장용\n",
    "metrics = {'train':[], 'valid':[], 'pm mae':[]}"
   ]
  },
  {
   "cell_type": "code",
   "execution_count": 25,
   "id": "8ac8c214",
   "metadata": {
    "scrolled": false
   },
   "outputs": [
    {
     "name": "stderr",
     "output_type": "stream",
     "text": [
      "Train epoch 1 : 100%|███████████████████████████████████████████| 3970/3970 [00:48<00:00, 82.23it/s]\n",
      "Validation epoch 1 : 100%|███████████████████████████████████████| 992/992 [00:04<00:00, 239.69it/s]\n"
     ]
    },
    {
     "name": "stdout",
     "output_type": "stream",
     "text": [
      "Metrics: Train Loss: 0.032734189665255604, Valid Loss: 0.028323936007708297, Valid PM MAE: 0.017818057639521694\n"
     ]
    },
    {
     "name": "stderr",
     "output_type": "stream",
     "text": [
      "Train epoch 2 : 100%|███████████████████████████████████████████| 3970/3970 [00:49<00:00, 80.85it/s]\n",
      "Validation epoch 2 : 100%|███████████████████████████████████████| 992/992 [00:04<00:00, 233.32it/s]\n"
     ]
    },
    {
     "name": "stdout",
     "output_type": "stream",
     "text": [
      "Metrics: Train Loss: 0.025662667235291387, Valid Loss: 0.022331399516599987, Valid PM MAE: 0.017949715218566774\n"
     ]
    },
    {
     "name": "stderr",
     "output_type": "stream",
     "text": [
      "Train epoch 3 : 100%|███████████████████████████████████████████| 3970/3970 [00:49<00:00, 80.87it/s]\n",
      "Validation epoch 3 : 100%|███████████████████████████████████████| 992/992 [00:04<00:00, 234.87it/s]\n"
     ]
    },
    {
     "name": "stdout",
     "output_type": "stream",
     "text": [
      "Metrics: Train Loss: 0.021697412417926835, Valid Loss: 0.020759861037269005, Valid PM MAE: 0.017771387675010117\n"
     ]
    },
    {
     "name": "stderr",
     "output_type": "stream",
     "text": [
      "Train epoch 4 : 100%|███████████████████████████████████████████| 3970/3970 [00:49<00:00, 80.14it/s]\n",
      "Validation epoch 4 : 100%|███████████████████████████████████████| 992/992 [00:04<00:00, 225.90it/s]\n"
     ]
    },
    {
     "name": "stdout",
     "output_type": "stream",
     "text": [
      "Metrics: Train Loss: 0.020600050432800072, Valid Loss: 0.019790385804739807, Valid PM MAE: 0.017872850699050622\n"
     ]
    },
    {
     "name": "stderr",
     "output_type": "stream",
     "text": [
      "Train epoch 5 : 100%|███████████████████████████████████████████| 3970/3970 [00:49<00:00, 79.59it/s]\n",
      "Validation epoch 5 : 100%|███████████████████████████████████████| 992/992 [00:04<00:00, 227.31it/s]\n"
     ]
    },
    {
     "name": "stdout",
     "output_type": "stream",
     "text": [
      "Metrics: Train Loss: 0.020084123269835674, Valid Loss: 0.019895892251698948, Valid PM MAE: 0.01758292446482648\n"
     ]
    },
    {
     "name": "stderr",
     "output_type": "stream",
     "text": [
      "Train epoch 6 : 100%|███████████████████████████████████████████| 3970/3970 [00:49<00:00, 80.90it/s]\n",
      "Validation epoch 6 : 100%|███████████████████████████████████████| 992/992 [00:04<00:00, 225.46it/s]\n"
     ]
    },
    {
     "name": "stdout",
     "output_type": "stream",
     "text": [
      "Metrics: Train Loss: 0.01972064694728625, Valid Loss: 0.01959276952423493, Valid PM MAE: 0.017625560479862346\n"
     ]
    },
    {
     "name": "stderr",
     "output_type": "stream",
     "text": [
      "Train epoch 7 : 100%|███████████████████████████████████████████| 3970/3970 [00:49<00:00, 80.70it/s]\n",
      "Validation epoch 7 : 100%|███████████████████████████████████████| 992/992 [00:04<00:00, 215.08it/s]\n"
     ]
    },
    {
     "name": "stdout",
     "output_type": "stream",
     "text": [
      "Metrics: Train Loss: 0.019521130370803372, Valid Loss: 0.01931063047894245, Valid PM MAE: 0.017444101064855885\n"
     ]
    },
    {
     "name": "stderr",
     "output_type": "stream",
     "text": [
      "Train epoch 8 : 100%|███████████████████████████████████████████| 3970/3970 [00:49<00:00, 80.48it/s]\n",
      "Validation epoch 8 : 100%|███████████████████████████████████████| 992/992 [00:04<00:00, 230.59it/s]\n"
     ]
    },
    {
     "name": "stdout",
     "output_type": "stream",
     "text": [
      "Metrics: Train Loss: 0.019303376630064546, Valid Loss: 0.019079105976473405, Valid PM MAE: 0.017574253294384962\n"
     ]
    },
    {
     "name": "stderr",
     "output_type": "stream",
     "text": [
      "Train epoch 9 : 100%|███████████████████████████████████████████| 3970/3970 [00:49<00:00, 80.28it/s]\n",
      "Validation epoch 9 : 100%|███████████████████████████████████████| 992/992 [00:04<00:00, 229.52it/s]\n"
     ]
    },
    {
     "name": "stdout",
     "output_type": "stream",
     "text": [
      "Metrics: Train Loss: 0.019125560344172437, Valid Loss: 0.01883320630726235, Valid PM MAE: 0.017476406698339695\n"
     ]
    },
    {
     "name": "stderr",
     "output_type": "stream",
     "text": [
      "Train epoch 10 : 100%|██████████████████████████████████████████| 3970/3970 [00:49<00:00, 79.48it/s]\n",
      "Validation epoch 10 : 100%|██████████████████████████████████████| 992/992 [00:04<00:00, 230.97it/s]\n"
     ]
    },
    {
     "name": "stdout",
     "output_type": "stream",
     "text": [
      "Epoch 00010: reducing learning rate of group 0 to 5.0000e-03.\n",
      "Metrics: Train Loss: 0.0190481108648596, Valid Loss: 0.01901444558734726, Valid PM MAE: 0.017514017806583928\n"
     ]
    },
    {
     "name": "stderr",
     "output_type": "stream",
     "text": [
      "Train epoch 11 : 100%|██████████████████████████████████████████| 3970/3970 [00:49<00:00, 80.67it/s]\n",
      "Validation epoch 11 : 100%|██████████████████████████████████████| 992/992 [00:04<00:00, 232.87it/s]\n"
     ]
    },
    {
     "name": "stdout",
     "output_type": "stream",
     "text": [
      "Metrics: Train Loss: 0.018825548871488202, Valid Loss: 0.0184957707570241, Valid PM MAE: 0.01745551189102515\n"
     ]
    },
    {
     "name": "stderr",
     "output_type": "stream",
     "text": [
      "Train epoch 12 : 100%|██████████████████████████████████████████| 3970/3970 [00:50<00:00, 78.97it/s]\n",
      "Validation epoch 12 : 100%|██████████████████████████████████████| 992/992 [00:04<00:00, 234.57it/s]\n"
     ]
    },
    {
     "name": "stdout",
     "output_type": "stream",
     "text": [
      "Metrics: Train Loss: 0.01864191565855965, Valid Loss: 0.01866514737408071, Valid PM MAE: 0.017250958401100004\n"
     ]
    },
    {
     "name": "stderr",
     "output_type": "stream",
     "text": [
      "Train epoch 13 : 100%|██████████████████████████████████████████| 3970/3970 [00:49<00:00, 80.83it/s]\n",
      "Validation epoch 13 : 100%|██████████████████████████████████████| 992/992 [00:04<00:00, 232.39it/s]\n"
     ]
    },
    {
     "name": "stdout",
     "output_type": "stream",
     "text": [
      "Metrics: Train Loss: 0.01866426041414667, Valid Loss: 0.01874536067621741, Valid PM MAE: 0.017193139159663327\n"
     ]
    },
    {
     "name": "stderr",
     "output_type": "stream",
     "text": [
      "Train epoch 14 : 100%|██████████████████████████████████████████| 3970/3970 [00:49<00:00, 79.99it/s]\n",
      "Validation epoch 14 : 100%|██████████████████████████████████████| 992/992 [00:04<00:00, 227.62it/s]\n"
     ]
    },
    {
     "name": "stdout",
     "output_type": "stream",
     "text": [
      "Metrics: Train Loss: 0.01866167514487119, Valid Loss: 0.018619675569978324, Valid PM MAE: 0.017418662011482403\n"
     ]
    },
    {
     "name": "stderr",
     "output_type": "stream",
     "text": [
      "Train epoch 15 : 100%|██████████████████████████████████████████| 3970/3970 [00:49<00:00, 80.47it/s]\n",
      "Validation epoch 15 : 100%|██████████████████████████████████████| 992/992 [00:04<00:00, 227.73it/s]\n"
     ]
    },
    {
     "name": "stdout",
     "output_type": "stream",
     "text": [
      "Metrics: Train Loss: 0.018684408620216215, Valid Loss: 0.018534039487991975, Valid PM MAE: 0.01714203457306951\n"
     ]
    },
    {
     "name": "stderr",
     "output_type": "stream",
     "text": [
      "Train epoch 16 : 100%|██████████████████████████████████████████| 3970/3970 [00:50<00:00, 79.23it/s]\n",
      "Validation epoch 16 : 100%|██████████████████████████████████████| 992/992 [00:04<00:00, 223.66it/s]\n"
     ]
    },
    {
     "name": "stdout",
     "output_type": "stream",
     "text": [
      "Metrics: Train Loss: 0.01869433511425798, Valid Loss: 0.018456055911370114, Valid PM MAE: 0.017186745914211928\n"
     ]
    },
    {
     "name": "stderr",
     "output_type": "stream",
     "text": [
      "Train epoch 17 : 100%|██████████████████████████████████████████| 3970/3970 [00:49<00:00, 80.54it/s]\n",
      "Validation epoch 17 : 100%|██████████████████████████████████████| 992/992 [00:04<00:00, 221.06it/s]\n"
     ]
    },
    {
     "name": "stdout",
     "output_type": "stream",
     "text": [
      "Metrics: Train Loss: 0.01860670454346265, Valid Loss: 0.018454018777258, Valid PM MAE: 0.017305877312554042\n"
     ]
    },
    {
     "name": "stderr",
     "output_type": "stream",
     "text": [
      "Train epoch 18 : 100%|██████████████████████████████████████████| 3970/3970 [00:49<00:00, 80.98it/s]\n",
      "Validation epoch 18 : 100%|██████████████████████████████████████| 992/992 [00:04<00:00, 222.57it/s]\n"
     ]
    },
    {
     "name": "stdout",
     "output_type": "stream",
     "text": [
      "Epoch 00018: reducing learning rate of group 0 to 5.0000e-04.\n",
      "Metrics: Train Loss: 0.018635474337329153, Valid Loss: 0.01854650836670435, Valid PM MAE: 0.01756913095016387\n"
     ]
    },
    {
     "name": "stderr",
     "output_type": "stream",
     "text": [
      "Train epoch 19 : 100%|██████████████████████████████████████████| 3970/3970 [00:49<00:00, 80.15it/s]\n",
      "Validation epoch 19 : 100%|██████████████████████████████████████| 992/992 [00:04<00:00, 224.63it/s]\n"
     ]
    },
    {
     "name": "stdout",
     "output_type": "stream",
     "text": [
      "Metrics: Train Loss: 0.01856953963604415, Valid Loss: 0.01844729904894309, Valid PM MAE: 0.017074998526834737\n"
     ]
    },
    {
     "name": "stderr",
     "output_type": "stream",
     "text": [
      "Train epoch 20 : 100%|██████████████████████████████████████████| 3970/3970 [00:49<00:00, 80.55it/s]\n",
      "Validation epoch 20 : 100%|██████████████████████████████████████| 992/992 [00:04<00:00, 228.46it/s]\n"
     ]
    },
    {
     "name": "stdout",
     "output_type": "stream",
     "text": [
      "Metrics: Train Loss: 0.018610261183188575, Valid Loss: 0.01882234892927756, Valid PM MAE: 0.017528788586282772\n"
     ]
    },
    {
     "name": "stderr",
     "output_type": "stream",
     "text": [
      "Train epoch 21 : 100%|██████████████████████████████████████████| 3970/3970 [00:49<00:00, 80.32it/s]\n",
      "Validation epoch 21 : 100%|██████████████████████████████████████| 992/992 [00:04<00:00, 231.52it/s]\n"
     ]
    },
    {
     "name": "stdout",
     "output_type": "stream",
     "text": [
      "Metrics: Train Loss: 0.01863283139483704, Valid Loss: 0.018739658235871388, Valid PM MAE: 0.017358265454702614\n"
     ]
    },
    {
     "name": "stderr",
     "output_type": "stream",
     "text": [
      "Train epoch 22 : 100%|██████████████████████████████████████████| 3970/3970 [00:49<00:00, 80.60it/s]\n",
      "Validation epoch 22 : 100%|██████████████████████████████████████| 992/992 [00:04<00:00, 236.18it/s]\n"
     ]
    },
    {
     "name": "stdout",
     "output_type": "stream",
     "text": [
      "Epoch 00022: reducing learning rate of group 0 to 5.0000e-05.\n",
      "Metrics: Train Loss: 0.01860479417107466, Valid Loss: 0.01860888332513492, Valid PM MAE: 0.017246309024348844\n"
     ]
    },
    {
     "name": "stderr",
     "output_type": "stream",
     "text": [
      "Train epoch 23 : 100%|██████████████████████████████████████████| 3970/3970 [00:49<00:00, 80.50it/s]\n",
      "Validation epoch 23 : 100%|██████████████████████████████████████| 992/992 [00:04<00:00, 234.37it/s]\n"
     ]
    },
    {
     "name": "stdout",
     "output_type": "stream",
     "text": [
      "Metrics: Train Loss: 0.018638278385360325, Valid Loss: 0.01835207621992596, Valid PM MAE: 0.017339431511701597\n"
     ]
    },
    {
     "name": "stderr",
     "output_type": "stream",
     "text": [
      "Train epoch 24 : 100%|██████████████████████████████████████████| 3970/3970 [00:49<00:00, 80.16it/s]\n",
      "Validation epoch 24 : 100%|██████████████████████████████████████| 992/992 [00:04<00:00, 234.48it/s]\n"
     ]
    },
    {
     "name": "stdout",
     "output_type": "stream",
     "text": [
      "Metrics: Train Loss: 0.018613659171086143, Valid Loss: 0.018610899367789754, Valid PM MAE: 0.01754209423853647\n"
     ]
    },
    {
     "name": "stderr",
     "output_type": "stream",
     "text": [
      "Train epoch 25 : 100%|██████████████████████████████████████████| 3970/3970 [00:49<00:00, 79.86it/s]\n",
      "Validation epoch 25 : 100%|██████████████████████████████████████| 992/992 [00:04<00:00, 225.12it/s]\n"
     ]
    },
    {
     "name": "stdout",
     "output_type": "stream",
     "text": [
      "Epoch 00025: reducing learning rate of group 0 to 5.0000e-06.\n",
      "Metrics: Train Loss: 0.018568489959803824, Valid Loss: 0.01847894824992718, Valid PM MAE: 0.01733121700681852\n"
     ]
    },
    {
     "name": "stderr",
     "output_type": "stream",
     "text": [
      "Train epoch 26 : 100%|██████████████████████████████████████████| 3970/3970 [00:48<00:00, 81.57it/s]\n",
      "Validation epoch 26 : 100%|██████████████████████████████████████| 992/992 [00:04<00:00, 219.96it/s]\n"
     ]
    },
    {
     "name": "stdout",
     "output_type": "stream",
     "text": [
      "Metrics: Train Loss: 0.01861664038880661, Valid Loss: 0.018521021707844258, Valid PM MAE: 0.017198746851440443\n"
     ]
    },
    {
     "name": "stderr",
     "output_type": "stream",
     "text": [
      "Train epoch 27 : 100%|██████████████████████████████████████████| 3970/3970 [00:49<00:00, 79.96it/s]\n",
      "Validation epoch 27 : 100%|██████████████████████████████████████| 992/992 [00:04<00:00, 227.14it/s]\n"
     ]
    },
    {
     "name": "stdout",
     "output_type": "stream",
     "text": [
      "Metrics: Train Loss: 0.018621298924024213, Valid Loss: 0.01857197528034536, Valid PM MAE: 0.017424844780881434\n"
     ]
    },
    {
     "name": "stderr",
     "output_type": "stream",
     "text": [
      "Train epoch 28 : 100%|██████████████████████████████████████████| 3970/3970 [00:49<00:00, 80.22it/s]\n",
      "Validation epoch 28 : 100%|██████████████████████████████████████| 992/992 [00:04<00:00, 221.40it/s]\n"
     ]
    },
    {
     "name": "stdout",
     "output_type": "stream",
     "text": [
      "Epoch 00028: reducing learning rate of group 0 to 5.0000e-07.\n",
      "Metrics: Train Loss: 0.018624618558967916, Valid Loss: 0.018429758210085755, Valid PM MAE: 0.017220255806696495\n"
     ]
    },
    {
     "name": "stderr",
     "output_type": "stream",
     "text": [
      "Train epoch 29 : 100%|██████████████████████████████████████████| 3970/3970 [00:50<00:00, 79.34it/s]\n",
      "Validation epoch 29 : 100%|██████████████████████████████████████| 992/992 [00:04<00:00, 231.98it/s]\n"
     ]
    },
    {
     "name": "stdout",
     "output_type": "stream",
     "text": [
      "Metrics: Train Loss: 0.018595387196113602, Valid Loss: 0.018542147186448053, Valid PM MAE: 0.01731975653322817\n"
     ]
    },
    {
     "name": "stderr",
     "output_type": "stream",
     "text": [
      "Train epoch 30 : 100%|██████████████████████████████████████████| 3970/3970 [00:49<00:00, 80.10it/s]\n",
      "Validation epoch 30 : 100%|██████████████████████████████████████| 992/992 [00:04<00:00, 219.93it/s]"
     ]
    },
    {
     "name": "stdout",
     "output_type": "stream",
     "text": [
      "Metrics: Train Loss: 0.018595769395224015, Valid Loss: 0.018538734549398993, Valid PM MAE: 0.017343065592969564\n"
     ]
    },
    {
     "name": "stderr",
     "output_type": "stream",
     "text": [
      "\n"
     ]
    }
   ],
   "source": [
    "# 훈련 루프\n",
    "for epoch in range(1, epochs + 1):\n",
    "    model.train()\n",
    "    train_loss = 0\n",
    "    for step in tqdm(range(steps_per_epoch), desc=f'Train epoch {epoch} ', ncols=100):\n",
    "        inputs, targets = next(train_iter)\n",
    "        output = model(inputs, targets)\n",
    "        output = output.view(-1)\n",
    "        targets = targets.view(-1)\n",
    "        loss = loss_fn(output, targets)\n",
    "        optimizer.zero_grad()\n",
    "        loss.backward()\n",
    "        torch.nn.utils.clip_grad_norm_(model.parameters(), 1)\n",
    "        optimizer.step()\n",
    "        train_loss += loss.item()\n",
    "    train_loss /= steps_per_epoch\n",
    "    metrics['train'].append(train_loss)\n",
    "\n",
    "    model.eval()\n",
    "    val_loss = 0\n",
    "    val_mae = 0\n",
    "    for step in tqdm(range(valid_steps), desc=f'Validation epoch {epoch} ', ncols=100):\n",
    "        inputs, targets = next(valid_iter)\n",
    "        output = model(inputs, targets)\n",
    "        pm_out = output[:, :, 0].view(-1)\n",
    "        pm_target = targets[:, :, 0].view(-1)\n",
    "        output = output.view(-1)\n",
    "        targets = targets.view(-1)\n",
    "        loss = loss_fn(output, targets)\n",
    "        val_loss += loss.item()\n",
    "        val_mae += loss_fn(pm_out, pm_target).item()\n",
    "\n",
    "    val_loss /= valid_steps\n",
    "    val_mae /= valid_steps\n",
    "    metrics['valid'].append(val_loss)\n",
    "    metrics['pm mae'].append(val_mae)\n",
    "    scheduler.step(val_mae)\n",
    "    \n",
    "    print(f'Metrics: Train Loss: {train_loss}, Valid Loss: {val_loss}, Valid PM MAE: {val_mae}')"
   ]
  },
  {
   "cell_type": "code",
   "execution_count": 26,
   "id": "744fa780",
   "metadata": {},
   "outputs": [
    {
     "data": {
      "image/png": "[encoded data removed]",
      "text/plain": [
       "<Figure size 640x480 with 1 Axes>"
      ]
     },
     "metadata": {},
     "output_type": "display_data"
    }
   ],
   "source": [
    "train_metrics = metrics['train']\n",
    "val_metrics = metrics['valid']\n",
    "plt.plot(range(len(train_metrics)), train_metrics, label='Train')\n",
    "plt.plot(range(1, len(val_metrics) + 1), val_metrics, label='Valid')\n",
    "plt.legend()\n",
    "plt.show()"
   ]
  },
  {
   "cell_type": "code",
   "execution_count": null,
   "id": "44e129fb",
   "metadata": {},
   "outputs": [],
   "source": []
  }
 ],
 "metadata": {
  "kernelspec": {
   "display_name": "Python 3",
   "language": "python",
   "name": "python3"
  },
  "language_info": {
   "codemirror_mode": {
    "name": "ipython",
    "version": 3
   },
   "file_extension": ".py",
   "mimetype": "text/x-python",
   "name": "python",
   "nbconvert_exporter": "python",
   "pygments_lexer": "ipython3",
   "version": "3.10.9"
  }
 },
 "nbformat": 4,
 "nbformat_minor": 5
}
