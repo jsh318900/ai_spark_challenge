{
 "cells": [
  {
   "cell_type": "markdown",
   "id": "09a7542a",
   "metadata": {},
   "source": [
    "# 1. import"
   ]
  },
  {
   "cell_type": "code",
   "execution_count": 4,
   "id": "be145310",
   "metadata": {},
   "outputs": [],
   "source": [
    "import random\n",
    "import torch\n",
    "import torch.nn as nn\n",
    "import torch.optim as optim\n",
    "from torch.utils.data import Dataset, Sampler, DataLoader, Subset\n",
    "\n",
    "import numpy as np\n",
    "import pandas as pd\n",
    "import matplotlib.pyplot as plt\n",
    "from tqdm import tqdm\n",
    "\n",
    "from sklearn.model_selection import train_test_split\n",
    "from sklearn.preprocessing import OrdinalEncoder\n",
    "\n",
    "# 커스텀 파이토치 데이터셋 / 모델 + 유틸 함수 import\n",
    "from data_utils import *\n",
    "from feature_eng import *\n",
    "\n",
    "torch.manual_seed(12345)\n",
    "random.seed(12345)\n",
    "np.random.seed(12345)"
   ]
  },
  {
   "cell_type": "markdown",
   "id": "746dd376",
   "metadata": {},
   "source": [
    "# 2. 데이터 정보 + 상수 선언"
   ]
  },
  {
   "cell_type": "code",
   "execution_count": null,
   "id": "2c369ba4",
   "metadata": {},
   "outputs": [],
   "source": [
    "aws_df = combine_df('./TRAIN_AWS/', './META/awsmap.csv')\n",
    "pm_df = combine_df('./TRAIN/', './META/pmmap.csv')"
   ]
  },
  {
   "cell_type": "markdown",
   "id": "f00c2542",
   "metadata": {},
   "source": [
    "## 2.1 기상 관측소 (AWS) 데이터"
   ]
  },
  {
   "cell_type": "code",
   "execution_count": 2,
   "id": "bf640a63",
   "metadata": {},
   "outputs": [
    {
     "name": "stdout",
     "output_type": "stream",
     "text": [
      "<class 'pandas.core.frame.DataFrame'>\n",
      "Int64Index: 1051920 entries, 0 to 35063\n",
      "Data columns (total 10 columns):\n",
      " #   Column     Non-Null Count    Dtype  \n",
      "---  ------     --------------    -----  \n",
      " 0   연도         1051920 non-null  int64  \n",
      " 1   일시         1051920 non-null  object \n",
      " 2   지점         1051920 non-null  object \n",
      " 3   기온(°C)     1032972 non-null  float64\n",
      " 4   풍향(deg)    1032972 non-null  float64\n",
      " 5   풍속(m/s)    1032972 non-null  float64\n",
      " 6   강수량(mm)    1032972 non-null  float64\n",
      " 7   습도(%)      1032972 non-null  float64\n",
      " 8   Latitude   1051920 non-null  float64\n",
      " 9   Longitude  1051920 non-null  float64\n",
      "dtypes: float64(7), int64(1), object(2)\n",
      "memory usage: 88.3+ MB\n"
     ]
    }
   ],
   "source": [
    "aws_df.info()"
   ]
  },
  {
   "cell_type": "markdown",
   "id": "d3ea5dc6",
   "metadata": {},
   "source": [
    "## 2.2 미세먼지 관측소 (PM) 데이터"
   ]
  },
  {
   "cell_type": "code",
   "execution_count": 3,
   "id": "a7db16e0",
   "metadata": {},
   "outputs": [
    {
     "name": "stdout",
     "output_type": "stream",
     "text": [
      "<class 'pandas.core.frame.DataFrame'>\n",
      "Int64Index: 596088 entries, 0 to 35063\n",
      "Data columns (total 6 columns):\n",
      " #   Column     Non-Null Count   Dtype  \n",
      "---  ------     --------------   -----  \n",
      " 0   연도         596088 non-null  int64  \n",
      " 1   일시         596088 non-null  object \n",
      " 2   측정소        596088 non-null  object \n",
      " 3   PM2.5      580546 non-null  float64\n",
      " 4   Latitude   596088 non-null  float64\n",
      " 5   Longitude  596088 non-null  float64\n",
      "dtypes: float64(3), int64(1), object(2)\n",
      "memory usage: 31.8+ MB\n"
     ]
    }
   ],
   "source": [
    "pm_df.info()"
   ]
  },
  {
   "cell_type": "markdown",
   "id": "06252e25",
   "metadata": {},
   "source": [
    "## 2. 3 상수 선언"
   ]
  },
  {
   "cell_type": "code",
   "execution_count": 14,
   "id": "c23ecfd9",
   "metadata": {},
   "outputs": [],
   "source": [
    "num_aws = 30           # 총 기상 관측소 개수\n",
    "num_pm = 17            # 총 미세먼지 관측소 개수\n",
    "num_neighbors = 5      # 예측시 고려할 근처 관측소 개수\n",
    "num_aws_features = 7   # 기상 특성 개수\n",
    "num_pm_features = 8    # 기상 특성 + 미세먼지 특성 개수\n",
    "num_timestamps = len(aws_df.groupby(['연도', '일시']).groups)\n",
    "\n",
    "aws_dir = './TRAIN_AWS/'"
   ]
  },
  {
   "cell_type": "markdown",
   "id": "3d97a2fa",
   "metadata": {},
   "source": [
    "# 3. AWS 예측 모델\n",
    "\n",
    "## 3.1 전처리"
   ]
  },
  {
   "cell_type": "code",
   "execution_count": 7,
   "id": "41fbb985",
   "metadata": {},
   "outputs": [],
   "source": [
    "# 위도 경도 정보 불러오기 + 위치 명 정수화 하기\n",
    "region_encoder = OrdinalEncoder()\n",
    "meta_df = pd.read_csv('./META/awsmap.csv')\n",
    "meta_df['지점'] = meta_df['Location'].copy()\n",
    "meta_df['Location'] = region_encoder.fit_transform(meta_df['지점'].to_frame())\n",
    "meta_df = meta_df.iloc[:, :-2].sort_values(by='Location')\n",
    "meta_df = pd.DataFrame(meta_df, index=meta_df['Location'], columns=['Latitude', 'Longitude'])"
   ]
  },
  {
   "cell_type": "code",
   "execution_count": 37,
   "id": "f654b677",
   "metadata": {},
   "outputs": [],
   "source": [
    "# 정수화된 지점 아이디와 지점 이름 매핑\n",
    "regions = list(region_encoder.inverse_transform(np.array(range(30)).reshape(-1, 1)).flatten())\n",
    "id_to_region = dict(zip(range(30), regions))\n",
    "regions_to_id = dict(zip(regions, range(30)))\n",
    "\n",
    "# 각 관측소 별 근처 5개의 관측소 구하기\n",
    "neighbors = {}\n",
    "for i in range(30):\n",
    "    point = meta_df.iloc[i]\n",
    "    temp = meta_df.copy()\n",
    "    temp['Latitude'] -= point[0]\n",
    "    temp['Longitude'] -= point[1]\n",
    "    temp['dist'] = temp['Latitude'] ** 2 + temp['Longitude'] ** 2\n",
    "    temp.sort_values(by='dist', inplace=True)\n",
    "    neighbors[i] = [int(x) for x in temp.index[1:num_neighbors + 1]]"
   ]
  },
  {
   "cell_type": "markdown",
   "id": "69778415",
   "metadata": {},
   "source": [
    "## 3.2 데이터 numpy array로 적제 후 PyTorch 데이터셋 생성하기"
   ]
  },
  {
   "cell_type": "code",
   "execution_count": 15,
   "id": "3b78b73a",
   "metadata": {},
   "outputs": [],
   "source": [
    "data = np.zeros((num_timestamps, num_aws, num_aws_features), float)\n",
    "data[:, :, :] = np.nan\n",
    "\n",
    "for i in range(30):\n",
    "    aws_df = pd.read_csv(aws_dir + id_to_region[i] + '.csv')\n",
    "    features = aws_df.values[:,3:]\n",
    "    lat = meta_df.iloc[i, 0]\n",
    "    long = meta_df.iloc[i, 1]\n",
    "    data[:, i, :-2] = features\n",
    "    data[:, i, -2:] = np.array([lat, long])"
   ]
  },
  {
   "cell_type": "code",
   "execution_count": 20,
   "id": "09b6029b",
   "metadata": {},
   "outputs": [],
   "source": [
    "# 훈련셋 검증셋 나누기\n",
    "dataset = AWSTrainDataset(data, num_aws=num_neighbors, time_size=10, neighbors=neighbors)\n",
    "train_idx, valid_idx = train_test_split(range(len(dataset)), test_size=0.2, random_state=12345)\n",
    "trainset, validset = Subset(dataset, train_idx), Subset(dataset, valid_idx)"
   ]
  },
  {
   "cell_type": "markdown",
   "id": "d62015fe",
   "metadata": {},
   "source": [
    "## 3.3 AWS 모델 훈련"
   ]
  },
  {
   "cell_type": "code",
   "execution_count": 28,
   "id": "3482dfc2",
   "metadata": {},
   "outputs": [],
   "source": [
    "# 하이퍼 파라미터\n",
    "num_lstm_out = 5\n",
    "hidden_size = 20\n",
    "time_size = 10\n",
    "batch_size = 12\n",
    "lr = 0.05\n",
    "patience = 2\n",
    "epochs = 30\n",
    "steps_per_epoch = len(trainset) // batch_size // 10\n",
    "valid_steps = len(validset) // batch_size // 10\n",
    "\n",
    "# 데이터로더\n",
    "trainloader = DataLoader(trainset, batch_size=batch_size, sampler=NonNullSampler(trainset))\n",
    "validloader = DataLoader(validset, batch_size=batch_size, sampler=NonNullSampler(validset))\n",
    "train_iter = iter(trainloader)\n",
    "valid_iter = iter(validloader)\n",
    "\n",
    "# 모델 생성 \n",
    "model = FeatureSeqNet(num_aws=num_neighbors, num_features=num_aws_features, time_size=time_size, hidden_size=hidden_size, num_lstm_out=num_lstm_out)\n",
    "model.to(float)\n",
    "\n",
    "# 옵티마이저, 스켸줄러, 손실함수 객체 생성\n",
    "optimizer = optim.Adagrad(lr=lr, params=model.parameters())\n",
    "scheduler = optim.lr_scheduler.ReduceLROnPlateau(optimizer=optimizer, patience=patience, mode='min', verbose=True)\n",
    "loss_fn = nn.MSELoss()\n",
    "\n",
    "# 훈련 결과 저장용\n",
    "metrics = {'train':[], 'valid':[]}"
   ]
  },
  {
   "cell_type": "code",
   "execution_count": 29,
   "id": "a183ec9f",
   "metadata": {
    "scrolled": false
   },
   "outputs": [
    {
     "name": "stderr",
     "output_type": "stream",
     "text": [
      "Train epoch 1 : 100%|███████████████████████████████████████████| 7009/7009 [01:35<00:00, 73.69it/s]\n",
      "Validation epoch 1 : 100%|█████████████████████████████████████| 1752/1752 [00:08<00:00, 203.91it/s]\n"
     ]
    },
    {
     "name": "stdout",
     "output_type": "stream",
     "text": [
      "Metrics: Train Loss: 0.015961606820759144, Valid Loss: 0.014971890439711893\n"
     ]
    },
    {
     "name": "stderr",
     "output_type": "stream",
     "text": [
      "Train epoch 2 : 100%|███████████████████████████████████████████| 7009/7009 [01:35<00:00, 73.70it/s]\n",
      "Validation epoch 2 : 100%|█████████████████████████████████████| 1752/1752 [00:07<00:00, 223.03it/s]\n"
     ]
    },
    {
     "name": "stdout",
     "output_type": "stream",
     "text": [
      "Metrics: Train Loss: 0.014873180931725072, Valid Loss: 0.014691683980925341\n"
     ]
    },
    {
     "name": "stderr",
     "output_type": "stream",
     "text": [
      "Train epoch 3 : 100%|███████████████████████████████████████████| 7009/7009 [01:35<00:00, 73.10it/s]\n",
      "Validation epoch 3 : 100%|█████████████████████████████████████| 1752/1752 [00:08<00:00, 215.25it/s]\n"
     ]
    },
    {
     "name": "stdout",
     "output_type": "stream",
     "text": [
      "Metrics: Train Loss: 0.01460316225454933, Valid Loss: 0.014698503582416778\n"
     ]
    },
    {
     "name": "stderr",
     "output_type": "stream",
     "text": [
      "Train epoch 4 : 100%|███████████████████████████████████████████| 7009/7009 [01:33<00:00, 74.58it/s]\n",
      "Validation epoch 4 : 100%|█████████████████████████████████████| 1752/1752 [00:08<00:00, 216.51it/s]\n"
     ]
    },
    {
     "name": "stdout",
     "output_type": "stream",
     "text": [
      "Metrics: Train Loss: 0.014516754220439314, Valid Loss: 0.01457145885853718\n"
     ]
    },
    {
     "name": "stderr",
     "output_type": "stream",
     "text": [
      "Train epoch 5 : 100%|███████████████████████████████████████████| 7009/7009 [01:40<00:00, 69.99it/s]\n",
      "Validation epoch 5 : 100%|█████████████████████████████████████| 1752/1752 [00:08<00:00, 218.33it/s]\n"
     ]
    },
    {
     "name": "stdout",
     "output_type": "stream",
     "text": [
      "Metrics: Train Loss: 0.014371240385302993, Valid Loss: 0.014278767244235652\n"
     ]
    },
    {
     "name": "stderr",
     "output_type": "stream",
     "text": [
      "Train epoch 6 : 100%|███████████████████████████████████████████| 7009/7009 [01:40<00:00, 70.04it/s]\n",
      "Validation epoch 6 : 100%|█████████████████████████████████████| 1752/1752 [00:07<00:00, 219.87it/s]\n"
     ]
    },
    {
     "name": "stdout",
     "output_type": "stream",
     "text": [
      "Metrics: Train Loss: 0.014313364039971256, Valid Loss: 0.014246761686797815\n"
     ]
    },
    {
     "name": "stderr",
     "output_type": "stream",
     "text": [
      "Train epoch 7 : 100%|███████████████████████████████████████████| 7009/7009 [01:36<00:00, 72.87it/s]\n",
      "Validation epoch 7 : 100%|█████████████████████████████████████| 1752/1752 [00:08<00:00, 213.89it/s]\n"
     ]
    },
    {
     "name": "stdout",
     "output_type": "stream",
     "text": [
      "Metrics: Train Loss: 0.014218630095169086, Valid Loss: 0.014258865844194222\n"
     ]
    },
    {
     "name": "stderr",
     "output_type": "stream",
     "text": [
      "Train epoch 8 : 100%|███████████████████████████████████████████| 7009/7009 [01:40<00:00, 69.71it/s]\n",
      "Validation epoch 8 : 100%|█████████████████████████████████████| 1752/1752 [00:08<00:00, 212.79it/s]\n"
     ]
    },
    {
     "name": "stdout",
     "output_type": "stream",
     "text": [
      "Metrics: Train Loss: 0.014248640702763873, Valid Loss: 0.014351534024668329\n"
     ]
    },
    {
     "name": "stderr",
     "output_type": "stream",
     "text": [
      "Train epoch 9 : 100%|███████████████████████████████████████████| 7009/7009 [01:38<00:00, 71.44it/s]\n",
      "Validation epoch 9 : 100%|█████████████████████████████████████| 1752/1752 [00:08<00:00, 213.02it/s]\n"
     ]
    },
    {
     "name": "stdout",
     "output_type": "stream",
     "text": [
      "Epoch 00009: reducing learning rate of group 0 to 5.0000e-03.\n",
      "Metrics: Train Loss: 0.014183063611101466, Valid Loss: 0.014248033123664081\n"
     ]
    },
    {
     "name": "stderr",
     "output_type": "stream",
     "text": [
      "Train epoch 10 : 100%|██████████████████████████████████████████| 7009/7009 [01:37<00:00, 71.88it/s]\n",
      "Validation epoch 10 : 100%|████████████████████████████████████| 1752/1752 [00:08<00:00, 210.74it/s]\n"
     ]
    },
    {
     "name": "stdout",
     "output_type": "stream",
     "text": [
      "Metrics: Train Loss: 0.01401440972033273, Valid Loss: 0.014131299129888763\n"
     ]
    },
    {
     "name": "stderr",
     "output_type": "stream",
     "text": [
      "Train epoch 11 : 100%|██████████████████████████████████████████| 7009/7009 [01:36<00:00, 72.79it/s]\n",
      "Validation epoch 11 : 100%|████████████████████████████████████| 1752/1752 [00:08<00:00, 211.16it/s]\n"
     ]
    },
    {
     "name": "stdout",
     "output_type": "stream",
     "text": [
      "Metrics: Train Loss: 0.014064373440971584, Valid Loss: 0.014187867152699747\n"
     ]
    },
    {
     "name": "stderr",
     "output_type": "stream",
     "text": [
      "Train epoch 12 : 100%|██████████████████████████████████████████| 7009/7009 [01:33<00:00, 74.69it/s]\n",
      "Validation epoch 12 : 100%|████████████████████████████████████| 1752/1752 [00:07<00:00, 219.02it/s]\n"
     ]
    },
    {
     "name": "stdout",
     "output_type": "stream",
     "text": [
      "Metrics: Train Loss: 0.014014139215213772, Valid Loss: 0.014056824612280066\n"
     ]
    },
    {
     "name": "stderr",
     "output_type": "stream",
     "text": [
      "Train epoch 13 : 100%|██████████████████████████████████████████| 7009/7009 [01:33<00:00, 74.99it/s]\n",
      "Validation epoch 13 : 100%|████████████████████████████████████| 1752/1752 [00:08<00:00, 216.18it/s]\n"
     ]
    },
    {
     "name": "stdout",
     "output_type": "stream",
     "text": [
      "Metrics: Train Loss: 0.014061252132919958, Valid Loss: 0.01407927913630693\n"
     ]
    },
    {
     "name": "stderr",
     "output_type": "stream",
     "text": [
      "Train epoch 14 : 100%|██████████████████████████████████████████| 7009/7009 [01:34<00:00, 74.27it/s]\n",
      "Validation epoch 14 : 100%|████████████████████████████████████| 1752/1752 [00:08<00:00, 213.18it/s]\n"
     ]
    },
    {
     "name": "stdout",
     "output_type": "stream",
     "text": [
      "Metrics: Train Loss: 0.014047964668612672, Valid Loss: 0.014059758057880466\n"
     ]
    },
    {
     "name": "stderr",
     "output_type": "stream",
     "text": [
      "Train epoch 15 : 100%|██████████████████████████████████████████| 7009/7009 [01:35<00:00, 73.50it/s]\n",
      "Validation epoch 15 : 100%|████████████████████████████████████| 1752/1752 [00:08<00:00, 217.61it/s]\n"
     ]
    },
    {
     "name": "stdout",
     "output_type": "stream",
     "text": [
      "Epoch 00015: reducing learning rate of group 0 to 5.0000e-04.\n",
      "Metrics: Train Loss: 0.014050762454343318, Valid Loss: 0.014060517453646218\n"
     ]
    },
    {
     "name": "stderr",
     "output_type": "stream",
     "text": [
      "Train epoch 16 : 100%|██████████████████████████████████████████| 7009/7009 [01:32<00:00, 75.40it/s]\n",
      "Validation epoch 16 : 100%|████████████████████████████████████| 1752/1752 [00:08<00:00, 215.84it/s]\n"
     ]
    },
    {
     "name": "stdout",
     "output_type": "stream",
     "text": [
      "Metrics: Train Loss: 0.014128827489903352, Valid Loss: 0.013983727284602995\n"
     ]
    },
    {
     "name": "stderr",
     "output_type": "stream",
     "text": [
      "Train epoch 17 : 100%|██████████████████████████████████████████| 7009/7009 [01:34<00:00, 73.88it/s]\n",
      "Validation epoch 17 : 100%|████████████████████████████████████| 1752/1752 [00:07<00:00, 221.11it/s]\n"
     ]
    },
    {
     "name": "stdout",
     "output_type": "stream",
     "text": [
      "Metrics: Train Loss: 0.013985671387562888, Valid Loss: 0.014021089328411037\n"
     ]
    },
    {
     "name": "stderr",
     "output_type": "stream",
     "text": [
      "Train epoch 18 : 100%|██████████████████████████████████████████| 7009/7009 [01:34<00:00, 73.94it/s]\n",
      "Validation epoch 18 : 100%|████████████████████████████████████| 1752/1752 [00:08<00:00, 215.39it/s]\n"
     ]
    },
    {
     "name": "stdout",
     "output_type": "stream",
     "text": [
      "Metrics: Train Loss: 0.014025243645369988, Valid Loss: 0.014059478764931067\n"
     ]
    },
    {
     "name": "stderr",
     "output_type": "stream",
     "text": [
      "Train epoch 19 : 100%|██████████████████████████████████████████| 7009/7009 [01:35<00:00, 73.61it/s]\n",
      "Validation epoch 19 : 100%|████████████████████████████████████| 1752/1752 [00:08<00:00, 215.50it/s]\n"
     ]
    },
    {
     "name": "stdout",
     "output_type": "stream",
     "text": [
      "Epoch 00019: reducing learning rate of group 0 to 5.0000e-05.\n",
      "Metrics: Train Loss: 0.013946504179122231, Valid Loss: 0.014067230003429198\n"
     ]
    },
    {
     "name": "stderr",
     "output_type": "stream",
     "text": [
      "Train epoch 20 : 100%|██████████████████████████████████████████| 7009/7009 [01:36<00:00, 72.94it/s]\n",
      "Validation epoch 20 : 100%|████████████████████████████████████| 1752/1752 [00:08<00:00, 216.71it/s]\n"
     ]
    },
    {
     "name": "stdout",
     "output_type": "stream",
     "text": [
      "Metrics: Train Loss: 0.014105275374072334, Valid Loss: 0.014156505031997538\n"
     ]
    },
    {
     "name": "stderr",
     "output_type": "stream",
     "text": [
      "Train epoch 21 : 100%|██████████████████████████████████████████| 7009/7009 [01:37<00:00, 71.81it/s]\n",
      "Validation epoch 21 : 100%|████████████████████████████████████| 1752/1752 [00:08<00:00, 199.50it/s]\n"
     ]
    },
    {
     "name": "stdout",
     "output_type": "stream",
     "text": [
      "Metrics: Train Loss: 0.014097616116150452, Valid Loss: 0.014061461233549405\n"
     ]
    },
    {
     "name": "stderr",
     "output_type": "stream",
     "text": [
      "Train epoch 22 : 100%|██████████████████████████████████████████| 7009/7009 [01:40<00:00, 69.73it/s]\n",
      "Validation epoch 22 : 100%|████████████████████████████████████| 1752/1752 [00:08<00:00, 200.64it/s]\n"
     ]
    },
    {
     "name": "stdout",
     "output_type": "stream",
     "text": [
      "Epoch 00022: reducing learning rate of group 0 to 5.0000e-06.\n",
      "Metrics: Train Loss: 0.013976587108765212, Valid Loss: 0.014011941207235902\n"
     ]
    },
    {
     "name": "stderr",
     "output_type": "stream",
     "text": [
      "Train epoch 23 : 100%|██████████████████████████████████████████| 7009/7009 [01:43<00:00, 67.58it/s]\n",
      "Validation epoch 23 : 100%|████████████████████████████████████| 1752/1752 [00:08<00:00, 208.97it/s]\n"
     ]
    },
    {
     "name": "stdout",
     "output_type": "stream",
     "text": [
      "Metrics: Train Loss: 0.013973254670774383, Valid Loss: 0.014045468060823425\n"
     ]
    },
    {
     "name": "stderr",
     "output_type": "stream",
     "text": [
      "Train epoch 24 : 100%|██████████████████████████████████████████| 7009/7009 [01:33<00:00, 74.75it/s]\n",
      "Validation epoch 24 : 100%|████████████████████████████████████| 1752/1752 [00:08<00:00, 211.41it/s]\n"
     ]
    },
    {
     "name": "stdout",
     "output_type": "stream",
     "text": [
      "Metrics: Train Loss: 0.014015126812126258, Valid Loss: 0.014052620032459558\n"
     ]
    },
    {
     "name": "stderr",
     "output_type": "stream",
     "text": [
      "Train epoch 25 : 100%|██████████████████████████████████████████| 7009/7009 [01:34<00:00, 73.94it/s]\n",
      "Validation epoch 25 : 100%|████████████████████████████████████| 1752/1752 [00:08<00:00, 214.45it/s]\n"
     ]
    },
    {
     "name": "stdout",
     "output_type": "stream",
     "text": [
      "Epoch 00025: reducing learning rate of group 0 to 5.0000e-07.\n",
      "Metrics: Train Loss: 0.014034641289633842, Valid Loss: 0.014232606237545348\n"
     ]
    },
    {
     "name": "stderr",
     "output_type": "stream",
     "text": [
      "Train epoch 26 : 100%|██████████████████████████████████████████| 7009/7009 [01:35<00:00, 73.55it/s]\n",
      "Validation epoch 26 : 100%|████████████████████████████████████| 1752/1752 [00:08<00:00, 214.47it/s]\n"
     ]
    },
    {
     "name": "stdout",
     "output_type": "stream",
     "text": [
      "Metrics: Train Loss: 0.014009349801098813, Valid Loss: 0.013966349943302083\n"
     ]
    },
    {
     "name": "stderr",
     "output_type": "stream",
     "text": [
      "Train epoch 27 : 100%|██████████████████████████████████████████| 7009/7009 [01:32<00:00, 75.97it/s]\n",
      "Validation epoch 27 : 100%|████████████████████████████████████| 1752/1752 [00:07<00:00, 220.76it/s]\n"
     ]
    },
    {
     "name": "stdout",
     "output_type": "stream",
     "text": [
      "Metrics: Train Loss: 0.013967645620019039, Valid Loss: 0.0138529176858361\n"
     ]
    },
    {
     "name": "stderr",
     "output_type": "stream",
     "text": [
      "Train epoch 28 : 100%|██████████████████████████████████████████| 7009/7009 [01:34<00:00, 74.44it/s]\n",
      "Validation epoch 28 : 100%|████████████████████████████████████| 1752/1752 [00:07<00:00, 221.49it/s]\n"
     ]
    },
    {
     "name": "stdout",
     "output_type": "stream",
     "text": [
      "Metrics: Train Loss: 0.014001294823678586, Valid Loss: 0.01405839579112619\n"
     ]
    },
    {
     "name": "stderr",
     "output_type": "stream",
     "text": [
      "Train epoch 29 : 100%|██████████████████████████████████████████| 7009/7009 [01:32<00:00, 75.37it/s]\n",
      "Validation epoch 29 : 100%|████████████████████████████████████| 1752/1752 [00:07<00:00, 221.59it/s]\n"
     ]
    },
    {
     "name": "stdout",
     "output_type": "stream",
     "text": [
      "Metrics: Train Loss: 0.014168396102740925, Valid Loss: 0.014081529446522101\n"
     ]
    },
    {
     "name": "stderr",
     "output_type": "stream",
     "text": [
      "Train epoch 30 : 100%|██████████████████████████████████████████| 7009/7009 [01:33<00:00, 75.30it/s]\n",
      "Validation epoch 30 : 100%|████████████████████████████████████| 1752/1752 [00:09<00:00, 180.33it/s]"
     ]
    },
    {
     "name": "stdout",
     "output_type": "stream",
     "text": [
      "Epoch 00030: reducing learning rate of group 0 to 5.0000e-08.\n",
      "Metrics: Train Loss: 0.014006538051382056, Valid Loss: 0.014042156401889265\n"
     ]
    },
    {
     "name": "stderr",
     "output_type": "stream",
     "text": [
      "\n"
     ]
    }
   ],
   "source": [
    "# 훈련 루프\n",
    "for epoch in range(1, epochs + 1):\n",
    "    model.train()\n",
    "    train_loss = 0\n",
    "    for step in tqdm(range(steps_per_epoch), desc=f'Train epoch {epoch} ', ncols=100):\n",
    "        inputs, targets = next(train_iter)\n",
    "        output = model(inputs, targets)\n",
    "        output = output.view(-1)\n",
    "        targets = targets.view(-1)\n",
    "        loss = loss_fn(output, targets)\n",
    "        \n",
    "        optimizer.zero_grad()\n",
    "        loss.backward()\n",
    "        torch.nn.utils.clip_grad_norm_(model.parameters(), 1)\n",
    "        optimizer.step()\n",
    "        train_loss += loss.item()\n",
    "    train_loss /= steps_per_epoch\n",
    "    metrics['train'].append(train_loss)\n",
    "\n",
    "    model.eval()\n",
    "    val_loss = 0\n",
    "    for step in tqdm(range(valid_steps), desc=f'Validation epoch {epoch} ', ncols=100):\n",
    "        inputs, targets = next(valid_iter)\n",
    "        output = model(inputs, targets)\n",
    "        output = output.view(-1)\n",
    "        targets = targets.view(-1)\n",
    "        loss = loss_fn(output, targets)\n",
    "        val_loss += loss.item()\n",
    "\n",
    "    val_loss /= valid_steps\n",
    "    metrics['valid'].append(val_loss)\n",
    "    scheduler.step(val_loss)\n",
    "    \n",
    "    print(f'Metrics: Train Loss: {train_loss}, Valid Loss: {val_loss}')"
   ]
  },
  {
   "cell_type": "markdown",
   "id": "ae359709",
   "metadata": {},
   "source": [
    "## 3.4 AWS 모델 훈련 시각화"
   ]
  },
  {
   "cell_type": "code",
   "execution_count": 32,
   "id": "e40e6045",
   "metadata": {},
   "outputs": [
    {
     "data": {
      "image/png": "[encoded data removed]",
      "text/plain": [
       "<Figure size 640x480 with 1 Axes>"
      ]
     },
     "metadata": {},
     "output_type": "display_data"
    }
   ],
   "source": [
    "train_metrics = metrics['train']\n",
    "val_metrics = metrics['valid']\n",
    "plt.plot(range(len(train_metrics)), train_metrics, label='Train')\n",
    "plt.plot(range(1, len(val_metrics) + 1), val_metrics, label='Valid')\n",
    "plt.legend()\n",
    "plt.show()"
   ]
  },
  {
   "cell_type": "markdown",
   "id": "3e39fc79",
   "metadata": {},
   "source": [
    "## 3.5 AWS 결측치 예측"
   ]
  },
  {
   "cell_type": "code",
   "execution_count": 40,
   "id": "20185c96",
   "metadata": {},
   "outputs": [],
   "source": [
    "# 시간 (index)과 관측소 (column)별로 측정값이 있는지 없는지 계산하여 DataFrame 형식으로 리턴\n",
    "def null_time_intervals(root_dir, metadata_path, regions_to_id):\n",
    "    dfs = []\n",
    "    meta_df = pd.read_csv(metadata_path)\n",
    "    for i in range(meta_df.shape[0]):\n",
    "        csv_path = meta_df.iloc[i]['Location'] + '.csv'\n",
    "        measure_df = pd.read_csv(root_dir + csv_path)\n",
    "        null_datapoints = measure_df.isnull().sum(axis=1) > 0\n",
    "        dfs.append(null_datapoints)\n",
    "    result = pd.DataFrame()\n",
    "    for i in range(meta_df.shape[0]):\n",
    "        result[regions_to_id[meta_df.iloc[i]['Location']]] = dfs[i]\n",
    "    return pd.DataFrame(result, columns=list(range(num_aws)))\n",
    "\n",
    "# 결측값들의 (time_idx, aws_idx)의 리스트 만들기\n",
    "null_times = null_time_intervals('./TRAIN_AWS/', './META/awsmap.csv', regions_to_id)\n",
    "null_list = []\n",
    "for time_idx in range(num_timestamps):\n",
    "    for aws_idx in range(num_aws):\n",
    "        if null_times.iloc[time_idx, aws_idx]:\n",
    "            null_list.append((time_idx, aws_idx))"
   ]
  },
  {
   "cell_type": "code",
   "execution_count": 47,
   "id": "eeca1db7",
   "metadata": {},
   "outputs": [],
   "source": [
    "# 결측치 채우기\n",
    "model.eval()\n",
    "spatial_enc = model.spatial_encoder\n",
    "seq_enc = model.sequential_encoder\n",
    "decoder = model.decoder\n",
    "\n",
    "\n",
    "data = dataset.data\n",
    "for time_idx, aws_idx in null_list:\n",
    "    inputs = torch.Tensor(dataset.get(time_idx, aws_idx))\n",
    "    spatial_x = spatial_enc(inputs.unsqueeze(0).double())\n",
    "    cnn_out = seq_enc(spatial_x).reshape(1, 1, -1)\n",
    "    output, _ = decoder.lstm(cnn_out.repeat((1,1,2)).double())\n",
    "    output = decoder.affine(torch.concat([cnn_out, output], dim=2).double()).flatten()\n",
    "    if np.isnan(output.detach().numpy()).sum() > 0:\n",
    "        raise Exception()\n",
    "    data[time_idx, aws_idx, :-2] = output.detach().numpy()"
   ]
  },
  {
   "cell_type": "markdown",
   "id": "9e4a499f",
   "metadata": {},
   "source": [
    "## 3.6 AWS 모델 이용하여 PM 관측소의 기상정보 예측"
   ]
  },
  {
   "cell_type": "code",
   "execution_count": 61,
   "id": "117cc3cd",
   "metadata": {},
   "outputs": [],
   "source": [
    "# pm\n",
    "pm_encoder = OrdinalEncoder()\n",
    "pm_meta_df = pd.read_csv('./META/pmmap.csv')\n",
    "pm_meta_df['측정소'] = pm_meta_df['Location'].copy()\n",
    "pm_meta_df['Location'] = pm_encoder.fit_transform(pm_meta_df['측정소'].to_frame())\n",
    "pm_meta_df = pm_meta_df.iloc[:, :-2].sort_values(by='Location')\n",
    "pm_meta_df = pd.DataFrame(pm_meta_df, index=pm_meta_df['Location'], columns=['Latitude', 'Longitude'])\n",
    "\n",
    "neighbors = {}\n",
    "num_aws = 5\n",
    "for i in range(17):\n",
    "    point = pm_meta_df.iloc[i]\n",
    "    temp = meta_df.copy()\n",
    "    temp['Latitude'] -= point[0]\n",
    "    temp['Longitude'] -= point[1]\n",
    "    temp['dist'] = temp['Latitude'] ** 2 + temp['Longitude'] ** 2\n",
    "    temp.sort_values(by='dist', inplace=True)\n",
    "    neighbors[i] = [int(x) for x in temp.index[1:num_aws + 1]]\n",
    "\n",
    "    ids = np.arange(17).reshape(-1, 1)\n",
    "pms = pm_encoder.inverse_transform(ids).flatten()\n",
    "pm_to_id = dict(zip(pms, ids.flatten()))\n",
    "id_to_pm = dict(zip(ids.flatten(), pms))"
   ]
  },
  {
   "cell_type": "code",
   "execution_count": 51,
   "id": "7b117157",
   "metadata": {},
   "outputs": [
    {
     "name": "stderr",
     "output_type": "stream",
     "text": [
      "100%|█████████████████████████████████████████████████████████| 35054/35054 [12:03<00:00, 48.47it/s]\n"
     ]
    }
   ],
   "source": [
    "pm_data = np.zeros((num_timestamps, 17, 7))\n",
    "for time_idx in tqdm(range(10, num_timestamps), ncols=100):\n",
    "    for pm_idx in range(17):\n",
    "        pm_pos = list(pm_meta_df.iloc[pm_idx])\n",
    "        inputs = torch.Tensor(dataset.get(time_idx, aws_idx))\n",
    "        spatial_x = spatial_enc(inputs.unsqueeze(0).double())\n",
    "        cnn_out = seq_enc(spatial_x).reshape(1, 1, -1)\n",
    "        output, _ = decoder.lstm(cnn_out.repeat((1,1,2)).double())\n",
    "        output = decoder.affine(torch.concat([cnn_out, output], dim=2).double()).flatten()\n",
    "        if np.isnan(output.detach().numpy()).sum() > 0:\n",
    "            raise Exception()\n",
    "        pm_data[time_idx, pm_idx, :-2] = output.detach().numpy()\n",
    "        pm_data[time_idx, pm_idx, -2:] = pm_pos"
   ]
  },
  {
   "cell_type": "markdown",
   "id": "6e1be6c7",
   "metadata": {},
   "source": [
    "# 4. PM 예측 모델"
   ]
  },
  {
   "cell_type": "markdown",
   "id": "bd8bd39a",
   "metadata": {},
   "source": [
    "## 4.1 PM 데이터 전처리"
   ]
  },
  {
   "cell_type": "code",
   "execution_count": 52,
   "id": "62aa5861",
   "metadata": {},
   "outputs": [],
   "source": [
    "# 0번째 특성 PM2.5 추가\n",
    "data = np.zeros((pm_data.shape[0], pm_data.shape[1], pm_data.shape[2] + 1))\n",
    "data[:, :, 1:] = pm_data[:, :, :]\n",
    "data[:10, :, 3] = np.nan\n",
    "data[:, :, 0] = np.nan\n",
    "\n",
    "for i in range(num_pm):\n",
    "    df = pd.read_csv(f'./TRAIN/{id_to_pm[i]}.csv')\n",
    "    for time_idx in range(data.shape[0]):\n",
    "        data[time_idx, i, 0] = df.iloc[time_idx]['PM2.5']"
   ]
  },
  {
   "cell_type": "code",
   "execution_count": 66,
   "id": "779a4868",
   "metadata": {},
   "outputs": [],
   "source": [
    "pm_meta_df = pd.read_csv('./META/pmmap.csv')\n",
    "pm_meta_df['측정소'] = pm_meta_df['Location'].copy()\n",
    "pm_meta_df['Location'] = pm_encoder.transform(pm_meta_df['측정소'].to_frame())\n",
    "pm_meta_df = pm_meta_df.iloc[:, :-2].sort_values(by='Location')\n",
    "pm_meta_df = pd.DataFrame(pm_meta_df, index=pm_meta_df['Location'], columns=['Latitude', 'Longitude'])\n",
    "\n",
    "neighbors = {}\n",
    "num_aws = 5\n",
    "for i in range(17):\n",
    "    point = pm_meta_df.iloc[i]\n",
    "    temp = pm_meta_df.copy()\n",
    "    temp['Latitude'] -= point[0]\n",
    "    temp['Longitude'] -= point[1]\n",
    "    temp['dist'] = temp['Latitude'] ** 2 + temp['Longitude'] ** 2\n",
    "    temp.sort_values(by='dist', inplace=True)\n",
    "    neighbors[i] = [int(x) for x in temp.index[1:num_aws + 1]]"
   ]
  },
  {
   "cell_type": "markdown",
   "id": "e044eccd",
   "metadata": {},
   "source": [
    "## 4.2 PyTorch 데이터셋 생성하기"
   ]
  },
  {
   "cell_type": "code",
   "execution_count": 67,
   "id": "c54db012",
   "metadata": {},
   "outputs": [],
   "source": [
    "dataset = PMTrainDataset(data, num_aws=num_neighbors, time_size=time_size, neighbors=neighbors)\n",
    "train_idx, valid_idx = train_test_split(range(len(dataset)), test_size=0.2, random_state=12345)\n",
    "trainset, validset = Subset(dataset, train_idx), Subset(dataset, valid_idx)\n",
    "trainloader = DataLoader(trainset, batch_size=batch_size, sampler=NonNullSampler(trainset))\n",
    "validloader = DataLoader(validset, batch_size=batch_size, sampler=NonNullSampler(validset))"
   ]
  },
  {
   "cell_type": "markdown",
   "id": "945df2b2",
   "metadata": {},
   "source": [
    "## 4.3 PM 모델 훈련"
   ]
  },
  {
   "cell_type": "code",
   "execution_count": 70,
   "id": "94b2747c",
   "metadata": {},
   "outputs": [],
   "source": [
    "# 하이퍼파라미터\n",
    "num_lstm_out = 6\n",
    "lr = 0.05\n",
    "patience = 2\n",
    "epochs = 30\n",
    "steps_per_epoch = len(trainset) // batch_size // 10\n",
    "valid_steps = len(validset) // batch_size // 10\n",
    "\n",
    "# 모델 생성\n",
    "model = FeatureSeqNet(num_aws=num_neighbors, num_features=num_pm_features, time_size=time_size, hidden_size=hidden_size, num_lstm_out=num_lstm_out)\n",
    "model.to(float)\n",
    "\n",
    "# 옵티마이저, 스켸줄러, 손실함수 생성\n",
    "optimizer = optim.Adagrad(lr=lr, params=model.parameters())\n",
    "scheduler = optim.lr_scheduler.ReduceLROnPlateau(optimizer=optimizer, patience=patience, mode='min', verbose=True)\n",
    "loss_fn = nn.MSELoss()\n",
    "train_iter = iter(trainloader)\n",
    "valid_iter = iter(validloader)\n",
    "mae = nn.L1Loss() # 대회 평가기준. 검증셋 평가용\n",
    "\n",
    "# 훈련 결과 저장용\n",
    "metrics = {'train':[], 'valid':[], 'mae':[]}"
   ]
  },
  {
   "cell_type": "code",
   "execution_count": 71,
   "id": "8ac8c214",
   "metadata": {
    "scrolled": false
   },
   "outputs": [
    {
     "name": "stderr",
     "output_type": "stream",
     "text": [
      "Train epoch 1 : 100%|███████████████████████████████████████████| 3970/3970 [00:52<00:00, 76.08it/s]\n",
      "Validation epoch 1 : 100%|███████████████████████████████████████| 992/992 [00:05<00:00, 194.98it/s]\n"
     ]
    },
    {
     "name": "stdout",
     "output_type": "stream",
     "text": [
      "Metrics: Train Loss: 0.004460872218620901, Valid Loss: 0.0032536521516516744, Valid MAE: 0.02007098775889642\n"
     ]
    },
    {
     "name": "stderr",
     "output_type": "stream",
     "text": [
      "Train epoch 2 : 100%|███████████████████████████████████████████| 3970/3970 [00:51<00:00, 77.46it/s]\n",
      "Validation epoch 2 : 100%|███████████████████████████████████████| 992/992 [00:05<00:00, 187.36it/s]\n"
     ]
    },
    {
     "name": "stdout",
     "output_type": "stream",
     "text": [
      "Metrics: Train Loss: 0.0031430708240233725, Valid Loss: 0.0028451092587971592, Valid MAE: 0.01993282705215449\n"
     ]
    },
    {
     "name": "stderr",
     "output_type": "stream",
     "text": [
      "Train epoch 3 : 100%|███████████████████████████████████████████| 3970/3970 [00:52<00:00, 75.93it/s]\n",
      "Validation epoch 3 : 100%|███████████████████████████████████████| 992/992 [00:04<00:00, 217.82it/s]\n"
     ]
    },
    {
     "name": "stdout",
     "output_type": "stream",
     "text": [
      "Metrics: Train Loss: 0.002185922018300023, Valid Loss: 0.0017760503344993578, Valid MAE: 0.018756018001576346\n"
     ]
    },
    {
     "name": "stderr",
     "output_type": "stream",
     "text": [
      "Train epoch 4 : 100%|███████████████████████████████████████████| 3970/3970 [00:51<00:00, 77.23it/s]\n",
      "Validation epoch 4 : 100%|███████████████████████████████████████| 992/992 [00:04<00:00, 228.86it/s]\n"
     ]
    },
    {
     "name": "stdout",
     "output_type": "stream",
     "text": [
      "Metrics: Train Loss: 0.0018200714913502746, Valid Loss: 0.0017078243386832554, Valid MAE: 0.01835939975248294\n"
     ]
    },
    {
     "name": "stderr",
     "output_type": "stream",
     "text": [
      "Train epoch 5 : 100%|███████████████████████████████████████████| 3970/3970 [00:50<00:00, 77.93it/s]\n",
      "Validation epoch 5 : 100%|███████████████████████████████████████| 992/992 [00:04<00:00, 214.42it/s]\n"
     ]
    },
    {
     "name": "stdout",
     "output_type": "stream",
     "text": [
      "Metrics: Train Loss: 0.0017107340521885068, Valid Loss: 0.0016180701796495072, Valid MAE: 0.019129661612978542\n"
     ]
    },
    {
     "name": "stderr",
     "output_type": "stream",
     "text": [
      "Train epoch 6 : 100%|███████████████████████████████████████████| 3970/3970 [00:51<00:00, 76.58it/s]\n",
      "Validation epoch 6 : 100%|███████████████████████████████████████| 992/992 [00:04<00:00, 221.32it/s]\n"
     ]
    },
    {
     "name": "stdout",
     "output_type": "stream",
     "text": [
      "Metrics: Train Loss: 0.0015495638245062848, Valid Loss: 0.001441635843467828, Valid MAE: 0.01832680896331954\n"
     ]
    },
    {
     "name": "stderr",
     "output_type": "stream",
     "text": [
      "Train epoch 7 : 100%|███████████████████████████████████████████| 3970/3970 [00:55<00:00, 71.46it/s]\n",
      "Validation epoch 7 : 100%|███████████████████████████████████████| 992/992 [00:04<00:00, 215.70it/s]\n"
     ]
    },
    {
     "name": "stdout",
     "output_type": "stream",
     "text": [
      "Metrics: Train Loss: 0.00143687171638898, Valid Loss: 0.0012442899155951101, Valid MAE: 0.01881456663535396\n"
     ]
    },
    {
     "name": "stderr",
     "output_type": "stream",
     "text": [
      "Train epoch 8 : 100%|███████████████████████████████████████████| 3970/3970 [00:53<00:00, 74.75it/s]\n",
      "Validation epoch 8 : 100%|███████████████████████████████████████| 992/992 [00:04<00:00, 211.39it/s]\n"
     ]
    },
    {
     "name": "stdout",
     "output_type": "stream",
     "text": [
      "Metrics: Train Loss: 0.0013331474843285265, Valid Loss: 0.001144061976229198, Valid MAE: 0.019346818703326735\n"
     ]
    },
    {
     "name": "stderr",
     "output_type": "stream",
     "text": [
      "Train epoch 9 : 100%|███████████████████████████████████████████| 3970/3970 [00:54<00:00, 73.34it/s]\n",
      "Validation epoch 9 : 100%|███████████████████████████████████████| 992/992 [00:04<00:00, 219.03it/s]\n"
     ]
    },
    {
     "name": "stdout",
     "output_type": "stream",
     "text": [
      "Epoch 00009: reducing learning rate of group 0 to 5.0000e-03.\n",
      "Metrics: Train Loss: 0.0012895669924970685, Valid Loss: 0.0011221850762178915, Valid MAE: 0.019562080747908862\n"
     ]
    },
    {
     "name": "stderr",
     "output_type": "stream",
     "text": [
      "Train epoch 10 : 100%|██████████████████████████████████████████| 3970/3970 [00:53<00:00, 74.17it/s]\n",
      "Validation epoch 10 : 100%|██████████████████████████████████████| 992/992 [00:05<00:00, 167.35it/s]\n"
     ]
    },
    {
     "name": "stdout",
     "output_type": "stream",
     "text": [
      "Metrics: Train Loss: 0.0012278483298587411, Valid Loss: 0.0010864512285005494, Valid MAE: 0.018523628265119035\n"
     ]
    },
    {
     "name": "stderr",
     "output_type": "stream",
     "text": [
      "Train epoch 11 : 100%|██████████████████████████████████████████| 3970/3970 [00:57<00:00, 69.46it/s]\n",
      "Validation epoch 11 : 100%|██████████████████████████████████████| 992/992 [00:04<00:00, 209.74it/s]\n"
     ]
    },
    {
     "name": "stdout",
     "output_type": "stream",
     "text": [
      "Metrics: Train Loss: 0.0012148831263317247, Valid Loss: 0.001095851678444042, Valid MAE: 0.01855000567277546\n"
     ]
    },
    {
     "name": "stderr",
     "output_type": "stream",
     "text": [
      "Train epoch 12 : 100%|██████████████████████████████████████████| 3970/3970 [00:53<00:00, 74.88it/s]\n",
      "Validation epoch 12 : 100%|██████████████████████████████████████| 992/992 [00:04<00:00, 202.12it/s]\n"
     ]
    },
    {
     "name": "stdout",
     "output_type": "stream",
     "text": [
      "Epoch 00012: reducing learning rate of group 0 to 5.0000e-04.\n",
      "Metrics: Train Loss: 0.001219832664918537, Valid Loss: 0.0010798399541358213, Valid MAE: 0.01883750690256855\n"
     ]
    },
    {
     "name": "stderr",
     "output_type": "stream",
     "text": [
      "Train epoch 13 : 100%|██████████████████████████████████████████| 3970/3970 [00:52<00:00, 75.04it/s]\n",
      "Validation epoch 13 : 100%|██████████████████████████████████████| 992/992 [00:04<00:00, 209.75it/s]\n"
     ]
    },
    {
     "name": "stdout",
     "output_type": "stream",
     "text": [
      "Metrics: Train Loss: 0.001217236808862871, Valid Loss: 0.0010773060914858737, Valid MAE: 0.018584132724151648\n"
     ]
    },
    {
     "name": "stderr",
     "output_type": "stream",
     "text": [
      "Train epoch 14 : 100%|██████████████████████████████████████████| 3970/3970 [00:53<00:00, 74.77it/s]\n",
      "Validation epoch 14 : 100%|██████████████████████████████████████| 992/992 [00:04<00:00, 215.73it/s]\n"
     ]
    },
    {
     "name": "stdout",
     "output_type": "stream",
     "text": [
      "Metrics: Train Loss: 0.0012155173420120532, Valid Loss: 0.001073655881413186, Valid MAE: 0.018610190088747817\n"
     ]
    },
    {
     "name": "stderr",
     "output_type": "stream",
     "text": [
      "Train epoch 15 : 100%|██████████████████████████████████████████| 3970/3970 [00:57<00:00, 69.57it/s]\n",
      "Validation epoch 15 : 100%|██████████████████████████████████████| 992/992 [00:04<00:00, 205.08it/s]\n"
     ]
    },
    {
     "name": "stdout",
     "output_type": "stream",
     "text": [
      "Epoch 00015: reducing learning rate of group 0 to 5.0000e-05.\n",
      "Metrics: Train Loss: 0.0012125783117438484, Valid Loss: 0.0010785080102762282, Valid MAE: 0.01849867997432894\n"
     ]
    },
    {
     "name": "stderr",
     "output_type": "stream",
     "text": [
      "Train epoch 16 : 100%|██████████████████████████████████████████| 3970/3970 [00:52<00:00, 76.11it/s]\n",
      "Validation epoch 16 : 100%|██████████████████████████████████████| 992/992 [00:04<00:00, 224.83it/s]\n"
     ]
    },
    {
     "name": "stdout",
     "output_type": "stream",
     "text": [
      "Metrics: Train Loss: 0.0012169084812498861, Valid Loss: 0.00110016960719981, Valid MAE: 0.018729322334667432\n"
     ]
    },
    {
     "name": "stderr",
     "output_type": "stream",
     "text": [
      "Train epoch 17 : 100%|██████████████████████████████████████████| 3970/3970 [00:51<00:00, 77.44it/s]\n",
      "Validation epoch 17 : 100%|██████████████████████████████████████| 992/992 [00:04<00:00, 206.24it/s]\n"
     ]
    },
    {
     "name": "stdout",
     "output_type": "stream",
     "text": [
      "Metrics: Train Loss: 0.0012119844461018704, Valid Loss: 0.0010731351713764296, Valid MAE: 0.018657325651609203\n"
     ]
    },
    {
     "name": "stderr",
     "output_type": "stream",
     "text": [
      "Train epoch 18 : 100%|██████████████████████████████████████████| 3970/3970 [00:51<00:00, 77.18it/s]\n",
      "Validation epoch 18 : 100%|██████████████████████████████████████| 992/992 [00:04<00:00, 218.46it/s]\n"
     ]
    },
    {
     "name": "stdout",
     "output_type": "stream",
     "text": [
      "Epoch 00018: reducing learning rate of group 0 to 5.0000e-06.\n",
      "Metrics: Train Loss: 0.0012087792544215354, Valid Loss: 0.0010731092720808674, Valid MAE: 0.01853304681595556\n"
     ]
    },
    {
     "name": "stderr",
     "output_type": "stream",
     "text": [
      "Train epoch 19 : 100%|██████████████████████████████████████████| 3970/3970 [00:51<00:00, 76.58it/s]\n",
      "Validation epoch 19 : 100%|██████████████████████████████████████| 992/992 [00:04<00:00, 211.63it/s]\n"
     ]
    },
    {
     "name": "stdout",
     "output_type": "stream",
     "text": [
      "Metrics: Train Loss: 0.0012113403517822394, Valid Loss: 0.0010758381530303006, Valid MAE: 0.018474458300765408\n"
     ]
    },
    {
     "name": "stderr",
     "output_type": "stream",
     "text": [
      "Train epoch 20 : 100%|██████████████████████████████████████████| 3970/3970 [00:51<00:00, 77.53it/s]\n",
      "Validation epoch 20 : 100%|██████████████████████████████████████| 992/992 [00:04<00:00, 222.73it/s]\n"
     ]
    },
    {
     "name": "stdout",
     "output_type": "stream",
     "text": [
      "Metrics: Train Loss: 0.001212953642181255, Valid Loss: 0.0010849232278048767, Valid MAE: 0.01855583363780151\n"
     ]
    },
    {
     "name": "stderr",
     "output_type": "stream",
     "text": [
      "Train epoch 21 : 100%|██████████████████████████████████████████| 3970/3970 [00:51<00:00, 76.97it/s]\n",
      "Validation epoch 21 : 100%|██████████████████████████████████████| 992/992 [00:04<00:00, 221.58it/s]\n"
     ]
    },
    {
     "name": "stdout",
     "output_type": "stream",
     "text": [
      "Metrics: Train Loss: 0.0012050911458672425, Valid Loss: 0.0010725127840034683, Valid MAE: 0.018319140177680326\n"
     ]
    },
    {
     "name": "stderr",
     "output_type": "stream",
     "text": [
      "Train epoch 22 : 100%|██████████████████████████████████████████| 3970/3970 [00:51<00:00, 77.34it/s]\n",
      "Validation epoch 22 : 100%|██████████████████████████████████████| 992/992 [00:04<00:00, 227.72it/s]\n"
     ]
    },
    {
     "name": "stdout",
     "output_type": "stream",
     "text": [
      "Metrics: Train Loss: 0.0012130101051742214, Valid Loss: 0.0010715097683346739, Valid MAE: 0.01847900844718797\n"
     ]
    },
    {
     "name": "stderr",
     "output_type": "stream",
     "text": [
      "Train epoch 23 : 100%|██████████████████████████████████████████| 3970/3970 [00:51<00:00, 76.78it/s]\n",
      "Validation epoch 23 : 100%|██████████████████████████████████████| 992/992 [00:04<00:00, 215.65it/s]\n"
     ]
    },
    {
     "name": "stdout",
     "output_type": "stream",
     "text": [
      "Metrics: Train Loss: 0.001211961929297569, Valid Loss: 0.0010936356608678127, Valid MAE: 0.018780413174733782\n"
     ]
    },
    {
     "name": "stderr",
     "output_type": "stream",
     "text": [
      "Train epoch 24 : 100%|██████████████████████████████████████████| 3970/3970 [00:51<00:00, 77.27it/s]\n",
      "Validation epoch 24 : 100%|██████████████████████████████████████| 992/992 [00:04<00:00, 219.38it/s]\n"
     ]
    },
    {
     "name": "stdout",
     "output_type": "stream",
     "text": [
      "Epoch 00024: reducing learning rate of group 0 to 5.0000e-07.\n",
      "Metrics: Train Loss: 0.0012079641295701363, Valid Loss: 0.001085348355332057, Valid MAE: 0.01866224609891284\n"
     ]
    },
    {
     "name": "stderr",
     "output_type": "stream",
     "text": [
      "Train epoch 25 : 100%|██████████████████████████████████████████| 3970/3970 [00:50<00:00, 78.02it/s]\n",
      "Validation epoch 25 : 100%|██████████████████████████████████████| 992/992 [00:04<00:00, 220.96it/s]\n"
     ]
    },
    {
     "name": "stdout",
     "output_type": "stream",
     "text": [
      "Metrics: Train Loss: 0.001216921423060859, Valid Loss: 0.0010950567822410292, Valid MAE: 0.018738430400701306\n"
     ]
    },
    {
     "name": "stderr",
     "output_type": "stream",
     "text": [
      "Train epoch 26 : 100%|██████████████████████████████████████████| 3970/3970 [00:52<00:00, 76.24it/s]\n",
      "Validation epoch 26 : 100%|██████████████████████████████████████| 992/992 [00:04<00:00, 213.29it/s]\n"
     ]
    },
    {
     "name": "stdout",
     "output_type": "stream",
     "text": [
      "Metrics: Train Loss: 0.0012123025216944226, Valid Loss: 0.0010884677060327517, Valid MAE: 0.01848724844270692\n"
     ]
    },
    {
     "name": "stderr",
     "output_type": "stream",
     "text": [
      "Train epoch 27 : 100%|██████████████████████████████████████████| 3970/3970 [00:51<00:00, 77.83it/s]\n",
      "Validation epoch 27 : 100%|██████████████████████████████████████| 992/992 [00:04<00:00, 207.29it/s]\n"
     ]
    },
    {
     "name": "stdout",
     "output_type": "stream",
     "text": [
      "Epoch 00027: reducing learning rate of group 0 to 5.0000e-08.\n",
      "Metrics: Train Loss: 0.0012095998119950385, Valid Loss: 0.0010806948655622298, Valid MAE: 0.018682436125126926\n"
     ]
    },
    {
     "name": "stderr",
     "output_type": "stream",
     "text": [
      "Train epoch 28 : 100%|██████████████████████████████████████████| 3970/3970 [00:52<00:00, 76.20it/s]\n",
      "Validation epoch 28 : 100%|██████████████████████████████████████| 992/992 [00:04<00:00, 211.90it/s]\n"
     ]
    },
    {
     "name": "stdout",
     "output_type": "stream",
     "text": [
      "Metrics: Train Loss: 0.0012148781301157365, Valid Loss: 0.0010749517904233045, Valid MAE: 0.01841986277520345\n"
     ]
    },
    {
     "name": "stderr",
     "output_type": "stream",
     "text": [
      "Train epoch 29 : 100%|██████████████████████████████████████████| 3970/3970 [00:52<00:00, 76.28it/s]\n",
      "Validation epoch 29 : 100%|██████████████████████████████████████| 992/992 [00:04<00:00, 221.91it/s]\n"
     ]
    },
    {
     "name": "stdout",
     "output_type": "stream",
     "text": [
      "Metrics: Train Loss: 0.0012128218639605828, Valid Loss: 0.001087060150029525, Valid MAE: 0.018765259780008266\n"
     ]
    },
    {
     "name": "stderr",
     "output_type": "stream",
     "text": [
      "Train epoch 30 : 100%|██████████████████████████████████████████| 3970/3970 [00:51<00:00, 77.05it/s]\n",
      "Validation epoch 30 : 100%|██████████████████████████████████████| 992/992 [00:04<00:00, 214.51it/s]"
     ]
    },
    {
     "name": "stdout",
     "output_type": "stream",
     "text": [
      "Epoch 00030: reducing learning rate of group 0 to 5.0000e-09.\n",
      "Metrics: Train Loss: 0.0012110458602083846, Valid Loss: 0.0010947828626571674, Valid MAE: 0.01882568439025851\n"
     ]
    },
    {
     "name": "stderr",
     "output_type": "stream",
     "text": [
      "\n"
     ]
    }
   ],
   "source": [
    "# 훈련 루프\n",
    "for epoch in range(1, epochs + 1):\n",
    "    model.train()\n",
    "    train_loss = 0\n",
    "    for step in tqdm(range(steps_per_epoch), desc=f'Train epoch {epoch} ', ncols=100):\n",
    "        inputs, targets = next(train_iter)\n",
    "        output = model(inputs, targets)\n",
    "        output = output.view(-1)\n",
    "        targets = targets.view(-1)\n",
    "        loss = loss_fn(output, targets)\n",
    "        optimizer.zero_grad()\n",
    "        loss.backward()\n",
    "        torch.nn.utils.clip_grad_norm_(model.parameters(), 1)\n",
    "        optimizer.step()\n",
    "        train_loss += loss.item()\n",
    "    train_loss /= steps_per_epoch\n",
    "    metrics['train'].append(train_loss)\n",
    "\n",
    "    model.eval()\n",
    "    val_loss = 0\n",
    "    val_mae = 0\n",
    "    for step in tqdm(range(valid_steps), desc=f'Validation epoch {epoch} ', ncols=100):\n",
    "        inputs, targets = next(valid_iter)\n",
    "        output = model(inputs, targets)\n",
    "        pm_out = output[:, :, 0].view(-1)\n",
    "        pm_target = targets[:, :, 0].view(-1)\n",
    "        output = output.view(-1)\n",
    "        targets = targets.view(-1)\n",
    "        loss = loss_fn(output, targets)\n",
    "        val_loss += loss.item()\n",
    "        val_mae += mae(pm_out, pm_target).item()\n",
    "\n",
    "    val_loss /= valid_steps\n",
    "    val_mae /= valid_steps\n",
    "    metrics['valid'].append(val_loss)\n",
    "    metrics['mae'].append(val_mae)\n",
    "    scheduler.step(val_mae)\n",
    "    \n",
    "    print(f'Metrics: Train Loss: {train_loss}, Valid Loss: {val_loss}, Valid MAE: {val_mae}')"
   ]
  },
  {
   "cell_type": "code",
   "execution_count": 72,
   "id": "744fa780",
   "metadata": {},
   "outputs": [
    {
     "data": {
      "image/png": "[encoded data removed]",
      "text/plain": [
       "<Figure size 640x480 with 1 Axes>"
      ]
     },
     "metadata": {},
     "output_type": "display_data"
    }
   ],
   "source": [
    "train_metrics = metrics['train']\n",
    "val_metrics = metrics['valid']\n",
    "plt.plot(range(len(train_metrics)), train_metrics, label='Train')\n",
    "plt.plot(range(1, len(val_metrics) + 1), val_metrics, label='Valid')\n",
    "plt.legend()\n",
    "plt.show()"
   ]
  }
 ],
 "metadata": {
  "kernelspec": {
   "display_name": "Python 3",
   "language": "python",
   "name": "python3"
  },
  "language_info": {
   "codemirror_mode": {
    "name": "ipython",
    "version": 3
   },
   "file_extension": ".py",
   "mimetype": "text/x-python",
   "name": "python",
   "nbconvert_exporter": "python",
   "pygments_lexer": "ipython3",
   "version": "3.10.9"
  }
 },
 "nbformat": 4,
 "nbformat_minor": 5
}
