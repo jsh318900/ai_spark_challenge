{
 "cells": [
  {
   "cell_type": "markdown",
   "id": "09a7542a",
   "metadata": {},
   "source": [
    "# 1. import"
   ]
  },
  {
   "cell_type": "code",
   "execution_count": 1,
   "id": "be145310",
   "metadata": {},
   "outputs": [],
   "source": [
    "from copy import deepcopy\n",
    "import random\n",
    "import torch\n",
    "import torch.nn as nn\n",
    "import torch.optim as optim\n",
    "from torch.utils.data import Dataset, Sampler, DataLoader, Subset\n",
    "\n",
    "import numpy as np\n",
    "import pandas as pd\n",
    "import matplotlib.pyplot as plt\n",
    "from tqdm import tqdm\n",
    "\n",
    "from sklearn.model_selection import train_test_split\n",
    "from sklearn.preprocessing import OrdinalEncoder, MinMaxScaler\n",
    "\n",
    "# 커스텀 파이토치 데이터셋 / 모델 + 유틸 함수 import\n",
    "from data_utils import *\n",
    "from feature_eng import *\n",
    "\n",
    "torch.manual_seed(42)\n",
    "random.seed(42)\n",
    "np.random.seed(42)"
   ]
  },
  {
   "cell_type": "markdown",
   "id": "746dd376",
   "metadata": {},
   "source": [
    "# 2. 데이터 정보 + 상수 선언"
   ]
  },
  {
   "cell_type": "code",
   "execution_count": 2,
   "id": "2c369ba4",
   "metadata": {},
   "outputs": [],
   "source": [
    "aws_df = combine_df('./TRAIN_AWS/', './META/awsmap.csv')\n",
    "pm_df = combine_df('./TRAIN/', './META/pmmap.csv')"
   ]
  },
  {
   "cell_type": "markdown",
   "id": "f00c2542",
   "metadata": {},
   "source": [
    "## 2.1 기상 관측소 (AWS) 데이터"
   ]
  },
  {
   "cell_type": "code",
   "execution_count": 3,
   "id": "bf640a63",
   "metadata": {},
   "outputs": [
    {
     "name": "stdout",
     "output_type": "stream",
     "text": [
      "<class 'pandas.core.frame.DataFrame'>\n",
      "Int64Index: 1051920 entries, 0 to 35063\n",
      "Data columns (total 10 columns):\n",
      " #   Column     Non-Null Count    Dtype  \n",
      "---  ------     --------------    -----  \n",
      " 0   연도         1051920 non-null  int64  \n",
      " 1   일시         1051920 non-null  object \n",
      " 2   지점         1051920 non-null  object \n",
      " 3   기온(°C)     1032972 non-null  float64\n",
      " 4   풍향(deg)    1032972 non-null  float64\n",
      " 5   풍속(m/s)    1032972 non-null  float64\n",
      " 6   강수량(mm)    1032972 non-null  float64\n",
      " 7   습도(%)      1032972 non-null  float64\n",
      " 8   Latitude   1051920 non-null  float64\n",
      " 9   Longitude  1051920 non-null  float64\n",
      "dtypes: float64(7), int64(1), object(2)\n",
      "memory usage: 88.3+ MB\n"
     ]
    }
   ],
   "source": [
    "aws_df.info()"
   ]
  },
  {
   "cell_type": "markdown",
   "id": "d3ea5dc6",
   "metadata": {},
   "source": [
    "## 2.2 미세먼지 관측소 (PM) 데이터"
   ]
  },
  {
   "cell_type": "code",
   "execution_count": 4,
   "id": "a7db16e0",
   "metadata": {},
   "outputs": [
    {
     "name": "stdout",
     "output_type": "stream",
     "text": [
      "<class 'pandas.core.frame.DataFrame'>\n",
      "Int64Index: 596088 entries, 0 to 35063\n",
      "Data columns (total 6 columns):\n",
      " #   Column     Non-Null Count   Dtype  \n",
      "---  ------     --------------   -----  \n",
      " 0   연도         596088 non-null  int64  \n",
      " 1   일시         596088 non-null  object \n",
      " 2   측정소        596088 non-null  object \n",
      " 3   PM2.5      580546 non-null  float64\n",
      " 4   Latitude   596088 non-null  float64\n",
      " 5   Longitude  596088 non-null  float64\n",
      "dtypes: float64(3), int64(1), object(2)\n",
      "memory usage: 31.8+ MB\n"
     ]
    }
   ],
   "source": [
    "pm_df.info()"
   ]
  },
  {
   "cell_type": "markdown",
   "id": "06252e25",
   "metadata": {},
   "source": [
    "## 2. 3 상수 선언"
   ]
  },
  {
   "cell_type": "code",
   "execution_count": 5,
   "id": "c23ecfd9",
   "metadata": {},
   "outputs": [],
   "source": [
    "num_aws = 30           # 총 기상 관측소 개수\n",
    "num_pm = 17            # 총 미세먼지 관측소 개수\n",
    "num_aws_features = 7   # 기상 특성 개수\n",
    "num_pm_features = 8    # 기상 특성 + 미세먼지 특성 개수\n",
    "num_timestamps = len(aws_df.groupby(['연도', '일시']).groups)\n",
    "\n",
    "aws_dir = './TRAIN_AWS/'"
   ]
  },
  {
   "cell_type": "markdown",
   "id": "3d97a2fa",
   "metadata": {},
   "source": [
    "# 3. AWS 예측 모델\n",
    "\n",
    "## 3.1 전처리"
   ]
  },
  {
   "cell_type": "code",
   "execution_count": 6,
   "id": "ee2af8ff",
   "metadata": {},
   "outputs": [
    {
     "data": {
      "text/html": [
       "<style>#sk-container-id-1 {color: black;background-color: white;}#sk-container-id-1 pre{padding: 0;}#sk-container-id-1 div.sk-toggleable {background-color: white;}#sk-container-id-1 label.sk-toggleable__label {cursor: pointer;display: block;width: 100%;margin-bottom: 0;padding: 0.3em;box-sizing: border-box;text-align: center;}#sk-container-id-1 label.sk-toggleable__label-arrow:before {content: \"▸\";float: left;margin-right: 0.25em;color: #696969;}#sk-container-id-1 label.sk-toggleable__label-arrow:hover:before {color: black;}#sk-container-id-1 div.sk-estimator:hover label.sk-toggleable__label-arrow:before {color: black;}#sk-container-id-1 div.sk-toggleable__content {max-height: 0;max-width: 0;overflow: hidden;text-align: left;background-color: #f0f8ff;}#sk-container-id-1 div.sk-toggleable__content pre {margin: 0.2em;color: black;border-radius: 0.25em;background-color: #f0f8ff;}#sk-container-id-1 input.sk-toggleable__control:checked~div.sk-toggleable__content {max-height: 200px;max-width: 100%;overflow: auto;}#sk-container-id-1 input.sk-toggleable__control:checked~label.sk-toggleable__label-arrow:before {content: \"▾\";}#sk-container-id-1 div.sk-estimator input.sk-toggleable__control:checked~label.sk-toggleable__label {background-color: #d4ebff;}#sk-container-id-1 div.sk-label input.sk-toggleable__control:checked~label.sk-toggleable__label {background-color: #d4ebff;}#sk-container-id-1 input.sk-hidden--visually {border: 0;clip: rect(1px 1px 1px 1px);clip: rect(1px, 1px, 1px, 1px);height: 1px;margin: -1px;overflow: hidden;padding: 0;position: absolute;width: 1px;}#sk-container-id-1 div.sk-estimator {font-family: monospace;background-color: #f0f8ff;border: 1px dotted black;border-radius: 0.25em;box-sizing: border-box;margin-bottom: 0.5em;}#sk-container-id-1 div.sk-estimator:hover {background-color: #d4ebff;}#sk-container-id-1 div.sk-parallel-item::after {content: \"\";width: 100%;border-bottom: 1px solid gray;flex-grow: 1;}#sk-container-id-1 div.sk-label:hover label.sk-toggleable__label {background-color: #d4ebff;}#sk-container-id-1 div.sk-serial::before {content: \"\";position: absolute;border-left: 1px solid gray;box-sizing: border-box;top: 0;bottom: 0;left: 50%;z-index: 0;}#sk-container-id-1 div.sk-serial {display: flex;flex-direction: column;align-items: center;background-color: white;padding-right: 0.2em;padding-left: 0.2em;position: relative;}#sk-container-id-1 div.sk-item {position: relative;z-index: 1;}#sk-container-id-1 div.sk-parallel {display: flex;align-items: stretch;justify-content: center;background-color: white;position: relative;}#sk-container-id-1 div.sk-item::before, #sk-container-id-1 div.sk-parallel-item::before {content: \"\";position: absolute;border-left: 1px solid gray;box-sizing: border-box;top: 0;bottom: 0;left: 50%;z-index: -1;}#sk-container-id-1 div.sk-parallel-item {display: flex;flex-direction: column;z-index: 1;position: relative;background-color: white;}#sk-container-id-1 div.sk-parallel-item:first-child::after {align-self: flex-end;width: 50%;}#sk-container-id-1 div.sk-parallel-item:last-child::after {align-self: flex-start;width: 50%;}#sk-container-id-1 div.sk-parallel-item:only-child::after {width: 0;}#sk-container-id-1 div.sk-dashed-wrapped {border: 1px dashed gray;margin: 0 0.4em 0.5em 0.4em;box-sizing: border-box;padding-bottom: 0.4em;background-color: white;}#sk-container-id-1 div.sk-label label {font-family: monospace;font-weight: bold;display: inline-block;line-height: 1.2em;}#sk-container-id-1 div.sk-label-container {text-align: center;}#sk-container-id-1 div.sk-container {/* jupyter's `normalize.less` sets `[hidden] { display: none; }` but bootstrap.min.css set `[hidden] { display: none !important; }` so we also need the `!important` here to be able to override the default hidden behavior on the sphinx rendered scikit-learn.org. See: https://github.com/scikit-learn/scikit-learn/issues/21755 */display: inline-block !important;position: relative;}#sk-container-id-1 div.sk-text-repr-fallback {display: none;}</style><div id=\"sk-container-id-1\" class=\"sk-top-container\"><div class=\"sk-text-repr-fallback\"><pre>MinMaxScaler()</pre><b>In a Jupyter environment, please rerun this cell to show the HTML representation or trust the notebook. <br />On GitHub, the HTML representation is unable to render, please try loading this page with nbviewer.org.</b></div><div class=\"sk-container\" hidden><div class=\"sk-item\"><div class=\"sk-estimator sk-toggleable\"><input class=\"sk-toggleable__control sk-hidden--visually\" id=\"sk-estimator-id-1\" type=\"checkbox\" checked><label for=\"sk-estimator-id-1\" class=\"sk-toggleable__label sk-toggleable__label-arrow\">MinMaxScaler</label><div class=\"sk-toggleable__content\"><pre>MinMaxScaler()</pre></div></div></div></div></div>"
      ],
      "text/plain": [
       "MinMaxScaler()"
      ]
     },
     "execution_count": 6,
     "metadata": {},
     "output_type": "execute_result"
    }
   ],
   "source": [
    "positions = pd.concat([aws_df[['Latitude', 'Longitude']], pm_df[['Latitude', 'Longitude']]])\n",
    "lat_scaler = MinMaxScaler()\n",
    "lon_scaler = MinMaxScaler()\n",
    "lat_scaler.fit(positions['Latitude'].values.reshape(-1, 1))\n",
    "lon_scaler.fit(positions['Longitude'].values.reshape(-1, 1))"
   ]
  },
  {
   "cell_type": "code",
   "execution_count": 7,
   "id": "41fbb985",
   "metadata": {},
   "outputs": [],
   "source": [
    "# 위도 경도 정보 불러오기 + 위치 명 정수화 하기\n",
    "region_encoder = OrdinalEncoder()\n",
    "meta_df = pd.read_csv('./META/awsmap.csv')\n",
    "meta_df['지점'] = meta_df['Location'].copy()\n",
    "meta_df['Location'] = region_encoder.fit_transform(meta_df['지점'].to_frame())\n",
    "meta_df = meta_df.iloc[:, :-2].sort_values(by='Location')\n",
    "meta_df = pd.DataFrame(meta_df, index=meta_df['Location'], columns=['Latitude', 'Longitude'])"
   ]
  },
  {
   "cell_type": "code",
   "execution_count": 8,
   "id": "f654b677",
   "metadata": {},
   "outputs": [],
   "source": [
    "# 정수화된 지점 아이디와 지점 이름 매핑\n",
    "regions = list(region_encoder.inverse_transform(np.array(range(30)).reshape(-1, 1)).flatten())\n",
    "id_to_region = dict(zip(range(30), regions))\n",
    "regions_to_id = dict(zip(regions, range(30)))"
   ]
  },
  {
   "cell_type": "markdown",
   "id": "69778415",
   "metadata": {},
   "source": [
    "## 3.2 데이터 numpy array로 적제 후 PyTorch 데이터셋 생성하기"
   ]
  },
  {
   "cell_type": "code",
   "execution_count": 9,
   "id": "3b78b73a",
   "metadata": {},
   "outputs": [],
   "source": [
    "data = np.zeros((num_timestamps, num_aws, num_aws_features), float)\n",
    "data[:, :, :] = np.nan\n",
    "\n",
    "for i in range(30):\n",
    "    aws_df = pd.read_csv(aws_dir + id_to_region[i] + '.csv')\n",
    "    features = aws_df.values[:,3:]\n",
    "    lat = lat_scaler.transform(meta_df.iloc[i, 0].reshape(-1, 1))\n",
    "    long = lon_scaler.transform(meta_df.iloc[i, 1].reshape(-1, 1))\n",
    "    data[:, i, :-2] = features\n",
    "    data[:, i, -2:] = np.array([lat, long]).flatten()"
   ]
  },
  {
   "cell_type": "code",
   "execution_count": 10,
   "id": "09b6029b",
   "metadata": {},
   "outputs": [],
   "source": [
    "# 훈련셋 검증셋 나누기\n",
    "dataset = AWSTrainDataset(data, num_aws=num_aws, time_size=10)\n",
    "train_idx, valid_idx = train_test_split(range(len(dataset)), test_size=0.2, random_state=42)\n",
    "trainset, validset = Subset(dataset, train_idx), Subset(dataset, valid_idx)"
   ]
  },
  {
   "cell_type": "markdown",
   "id": "d62015fe",
   "metadata": {},
   "source": [
    "## 3.3 AWS 모델 훈련"
   ]
  },
  {
   "cell_type": "code",
   "execution_count": 11,
   "id": "3482dfc2",
   "metadata": {},
   "outputs": [],
   "source": [
    "# 하이퍼 파라미터\n",
    "num_lstm_out = 5\n",
    "hidden_size = 20\n",
    "time_size = 10\n",
    "batch_size = 12\n",
    "patience = 2\n",
    "epochs = 50\n",
    "steps_per_epoch = len(trainset) // batch_size // 10\n",
    "valid_steps = len(validset) // batch_size // 10\n",
    "\n",
    "# 데이터로더\n",
    "trainloader = DataLoader(trainset, batch_size=batch_size, sampler=NonNullSampler(trainset))\n",
    "validloader = DataLoader(validset, batch_size=batch_size, sampler=NonNullSampler(validset))\n",
    "train_iter = iter(trainloader)\n",
    "valid_iter = iter(validloader)\n",
    "\n",
    "# 모델 생성 \n",
    "aws_model = FeatureSeqNet(num_aws=num_aws, num_features=num_aws_features, time_size=time_size, hidden_size=hidden_size, num_lstm_out=num_lstm_out)\n",
    "aws_model.to(float)\n",
    "\n",
    "# 옵티마이저, 스켸줄러, 손실함수 객체 생성\n",
    "optimizer = optim.Adagrad(aws_model.parameters(), lr=0.00125, lr_decay=0.0001)\n",
    "loss_fn = nn.MSELoss()\n",
    "\n",
    "# 훈련 결과 저장용\n",
    "metrics = {'train':[], 'valid':[]}"
   ]
  },
  {
   "cell_type": "code",
   "execution_count": 12,
   "id": "a183ec9f",
   "metadata": {
    "scrolled": false
   },
   "outputs": [
    {
     "name": "stderr",
     "output_type": "stream",
     "text": [
      "Train epoch 1 : 100%|███████████████████████████████████████████| 7009/7009 [01:59<00:00, 58.50it/s]\n",
      "Validation epoch 1 : 100%|█████████████████████████████████████| 1752/1752 [00:09<00:00, 181.50it/s]\n"
     ]
    },
    {
     "name": "stdout",
     "output_type": "stream",
     "text": [
      "Metrics: Train Loss: 0.025639055033215216, Valid Loss: 0.021694008635412813\n"
     ]
    },
    {
     "name": "stderr",
     "output_type": "stream",
     "text": [
      "Train epoch 2 : 100%|███████████████████████████████████████████| 7009/7009 [01:51<00:00, 62.65it/s]\n",
      "Validation epoch 2 : 100%|█████████████████████████████████████| 1752/1752 [00:12<00:00, 138.17it/s]\n"
     ]
    },
    {
     "name": "stdout",
     "output_type": "stream",
     "text": [
      "Metrics: Train Loss: 0.02058482146396599, Valid Loss: 0.019898252286546042\n"
     ]
    },
    {
     "name": "stderr",
     "output_type": "stream",
     "text": [
      "Train epoch 3 : 100%|███████████████████████████████████████████| 7009/7009 [02:08<00:00, 54.50it/s]\n",
      "Validation epoch 3 : 100%|█████████████████████████████████████| 1752/1752 [00:11<00:00, 148.13it/s]\n"
     ]
    },
    {
     "name": "stdout",
     "output_type": "stream",
     "text": [
      "Metrics: Train Loss: 0.019638714581550715, Valid Loss: 0.019362829416375665\n"
     ]
    },
    {
     "name": "stderr",
     "output_type": "stream",
     "text": [
      "Train epoch 4 : 100%|███████████████████████████████████████████| 7009/7009 [02:10<00:00, 53.56it/s]\n",
      "Validation epoch 4 : 100%|█████████████████████████████████████| 1752/1752 [00:11<00:00, 149.37it/s]\n"
     ]
    },
    {
     "name": "stdout",
     "output_type": "stream",
     "text": [
      "Metrics: Train Loss: 0.019263854559629374, Valid Loss: 0.019274512062783043\n"
     ]
    },
    {
     "name": "stderr",
     "output_type": "stream",
     "text": [
      "Train epoch 5 : 100%|███████████████████████████████████████████| 7009/7009 [02:07<00:00, 55.18it/s]\n",
      "Validation epoch 5 : 100%|█████████████████████████████████████| 1752/1752 [00:11<00:00, 152.06it/s]\n"
     ]
    },
    {
     "name": "stdout",
     "output_type": "stream",
     "text": [
      "Metrics: Train Loss: 0.019480293317234675, Valid Loss: 0.0191556498545063\n"
     ]
    },
    {
     "name": "stderr",
     "output_type": "stream",
     "text": [
      "Train epoch 6 : 100%|███████████████████████████████████████████| 7009/7009 [02:07<00:00, 55.09it/s]\n",
      "Validation epoch 6 : 100%|█████████████████████████████████████| 1752/1752 [00:11<00:00, 152.22it/s]\n"
     ]
    },
    {
     "name": "stdout",
     "output_type": "stream",
     "text": [
      "Metrics: Train Loss: 0.01900085687189312, Valid Loss: 0.01886541594340642\n"
     ]
    },
    {
     "name": "stderr",
     "output_type": "stream",
     "text": [
      "Train epoch 7 : 100%|███████████████████████████████████████████| 7009/7009 [02:05<00:00, 55.98it/s]\n",
      "Validation epoch 7 : 100%|█████████████████████████████████████| 1752/1752 [00:11<00:00, 153.26it/s]\n"
     ]
    },
    {
     "name": "stdout",
     "output_type": "stream",
     "text": [
      "Metrics: Train Loss: 0.018833139062776394, Valid Loss: 0.01881876163664371\n"
     ]
    },
    {
     "name": "stderr",
     "output_type": "stream",
     "text": [
      "Train epoch 8 : 100%|███████████████████████████████████████████| 7009/7009 [02:08<00:00, 54.54it/s]\n",
      "Validation epoch 8 : 100%|█████████████████████████████████████| 1752/1752 [00:11<00:00, 150.77it/s]\n"
     ]
    },
    {
     "name": "stdout",
     "output_type": "stream",
     "text": [
      "Metrics: Train Loss: 0.01873911012104395, Valid Loss: 0.01858146030857045\n"
     ]
    },
    {
     "name": "stderr",
     "output_type": "stream",
     "text": [
      "Train epoch 9 : 100%|███████████████████████████████████████████| 7009/7009 [02:06<00:00, 55.22it/s]\n",
      "Validation epoch 9 : 100%|█████████████████████████████████████| 1752/1752 [00:11<00:00, 149.81it/s]\n"
     ]
    },
    {
     "name": "stdout",
     "output_type": "stream",
     "text": [
      "Metrics: Train Loss: 0.01860000131328874, Valid Loss: 0.01856708608490867\n"
     ]
    },
    {
     "name": "stderr",
     "output_type": "stream",
     "text": [
      "Train epoch 10 : 100%|██████████████████████████████████████████| 7009/7009 [02:06<00:00, 55.46it/s]\n",
      "Validation epoch 10 : 100%|████████████████████████████████████| 1752/1752 [00:11<00:00, 147.37it/s]\n"
     ]
    },
    {
     "name": "stdout",
     "output_type": "stream",
     "text": [
      "Metrics: Train Loss: 0.018533493465826893, Valid Loss: 0.01846384078026623\n"
     ]
    },
    {
     "name": "stderr",
     "output_type": "stream",
     "text": [
      "Train epoch 11 : 100%|██████████████████████████████████████████| 7009/7009 [02:08<00:00, 54.75it/s]\n",
      "Validation epoch 11 : 100%|████████████████████████████████████| 1752/1752 [00:11<00:00, 151.63it/s]\n"
     ]
    },
    {
     "name": "stdout",
     "output_type": "stream",
     "text": [
      "Metrics: Train Loss: 0.018527399979123203, Valid Loss: 0.018256237794430138\n"
     ]
    },
    {
     "name": "stderr",
     "output_type": "stream",
     "text": [
      "Train epoch 12 : 100%|██████████████████████████████████████████| 7009/7009 [02:05<00:00, 55.98it/s]\n",
      "Validation epoch 12 : 100%|████████████████████████████████████| 1752/1752 [00:11<00:00, 155.78it/s]\n"
     ]
    },
    {
     "name": "stdout",
     "output_type": "stream",
     "text": [
      "Metrics: Train Loss: 0.018405996830759178, Valid Loss: 0.01832784419065535\n"
     ]
    },
    {
     "name": "stderr",
     "output_type": "stream",
     "text": [
      "Train epoch 13 : 100%|██████████████████████████████████████████| 7009/7009 [02:03<00:00, 56.96it/s]\n",
      "Validation epoch 13 : 100%|████████████████████████████████████| 1752/1752 [00:11<00:00, 155.59it/s]\n"
     ]
    },
    {
     "name": "stdout",
     "output_type": "stream",
     "text": [
      "Metrics: Train Loss: 0.018359330809773883, Valid Loss: 0.018329313650941058\n"
     ]
    },
    {
     "name": "stderr",
     "output_type": "stream",
     "text": [
      "Train epoch 14 : 100%|██████████████████████████████████████████| 7009/7009 [02:05<00:00, 55.92it/s]\n",
      "Validation epoch 14 : 100%|████████████████████████████████████| 1752/1752 [00:11<00:00, 153.05it/s]\n"
     ]
    },
    {
     "name": "stdout",
     "output_type": "stream",
     "text": [
      "Metrics: Train Loss: 0.01827755904060477, Valid Loss: 0.018481712589014324\n"
     ]
    },
    {
     "name": "stderr",
     "output_type": "stream",
     "text": [
      "Train epoch 15 : 100%|██████████████████████████████████████████| 7009/7009 [02:02<00:00, 57.09it/s]\n",
      "Validation epoch 15 : 100%|████████████████████████████████████| 1752/1752 [00:11<00:00, 153.96it/s]\n"
     ]
    },
    {
     "name": "stdout",
     "output_type": "stream",
     "text": [
      "Metrics: Train Loss: 0.018292110716471598, Valid Loss: 0.018337601811403998\n"
     ]
    },
    {
     "name": "stderr",
     "output_type": "stream",
     "text": [
      "Train epoch 16 : 100%|██████████████████████████████████████████| 7009/7009 [02:04<00:00, 56.11it/s]\n",
      "Validation epoch 16 : 100%|████████████████████████████████████| 1752/1752 [00:11<00:00, 156.90it/s]\n"
     ]
    },
    {
     "name": "stdout",
     "output_type": "stream",
     "text": [
      "Metrics: Train Loss: 0.018262236326305505, Valid Loss: 0.018253569478622406\n"
     ]
    },
    {
     "name": "stderr",
     "output_type": "stream",
     "text": [
      "Train epoch 17 : 100%|██████████████████████████████████████████| 7009/7009 [02:03<00:00, 56.76it/s]\n",
      "Validation epoch 17 : 100%|████████████████████████████████████| 1752/1752 [00:11<00:00, 152.56it/s]\n"
     ]
    },
    {
     "name": "stdout",
     "output_type": "stream",
     "text": [
      "Metrics: Train Loss: 0.018196925507707636, Valid Loss: 0.018282055964577486\n"
     ]
    },
    {
     "name": "stderr",
     "output_type": "stream",
     "text": [
      "Train epoch 18 : 100%|██████████████████████████████████████████| 7009/7009 [02:05<00:00, 55.67it/s]\n",
      "Validation epoch 18 : 100%|████████████████████████████████████| 1752/1752 [00:11<00:00, 156.84it/s]\n"
     ]
    },
    {
     "name": "stdout",
     "output_type": "stream",
     "text": [
      "Metrics: Train Loss: 0.018135303542436462, Valid Loss: 0.018101273230912703\n"
     ]
    },
    {
     "name": "stderr",
     "output_type": "stream",
     "text": [
      "Train epoch 19 : 100%|██████████████████████████████████████████| 7009/7009 [02:05<00:00, 55.96it/s]\n",
      "Validation epoch 19 : 100%|████████████████████████████████████| 1752/1752 [00:11<00:00, 153.47it/s]\n"
     ]
    },
    {
     "name": "stdout",
     "output_type": "stream",
     "text": [
      "Metrics: Train Loss: 0.01817152040887151, Valid Loss: 0.01826031708534698\n"
     ]
    },
    {
     "name": "stderr",
     "output_type": "stream",
     "text": [
      "Train epoch 20 : 100%|██████████████████████████████████████████| 7009/7009 [02:07<00:00, 54.97it/s]\n",
      "Validation epoch 20 : 100%|████████████████████████████████████| 1752/1752 [00:11<00:00, 152.31it/s]\n"
     ]
    },
    {
     "name": "stdout",
     "output_type": "stream",
     "text": [
      "Metrics: Train Loss: 0.018136852619924423, Valid Loss: 0.018105106966422896\n"
     ]
    },
    {
     "name": "stderr",
     "output_type": "stream",
     "text": [
      "Train epoch 21 : 100%|██████████████████████████████████████████| 7009/7009 [02:06<00:00, 55.21it/s]\n",
      "Validation epoch 21 : 100%|████████████████████████████████████| 1752/1752 [00:11<00:00, 150.80it/s]\n"
     ]
    },
    {
     "name": "stdout",
     "output_type": "stream",
     "text": [
      "Metrics: Train Loss: 0.018045372265344008, Valid Loss: 0.018011000720868562\n"
     ]
    },
    {
     "name": "stderr",
     "output_type": "stream",
     "text": [
      "Train epoch 22 : 100%|██████████████████████████████████████████| 7009/7009 [02:03<00:00, 56.79it/s]\n",
      "Validation epoch 22 : 100%|████████████████████████████████████| 1752/1752 [00:11<00:00, 152.94it/s]\n"
     ]
    },
    {
     "name": "stdout",
     "output_type": "stream",
     "text": [
      "Metrics: Train Loss: 0.01813537855396627, Valid Loss: 0.018281047842101834\n"
     ]
    },
    {
     "name": "stderr",
     "output_type": "stream",
     "text": [
      "Train epoch 23 : 100%|██████████████████████████████████████████| 7009/7009 [02:04<00:00, 56.16it/s]\n",
      "Validation epoch 23 : 100%|████████████████████████████████████| 1752/1752 [00:11<00:00, 153.91it/s]\n"
     ]
    },
    {
     "name": "stdout",
     "output_type": "stream",
     "text": [
      "Metrics: Train Loss: 0.01812686846762959, Valid Loss: 0.01806933055296173\n"
     ]
    },
    {
     "name": "stderr",
     "output_type": "stream",
     "text": [
      "Train epoch 24 : 100%|██████████████████████████████████████████| 7009/7009 [02:05<00:00, 56.05it/s]\n",
      "Validation epoch 24 : 100%|████████████████████████████████████| 1752/1752 [00:11<00:00, 151.62it/s]\n"
     ]
    },
    {
     "name": "stdout",
     "output_type": "stream",
     "text": [
      "Metrics: Train Loss: 0.018079229677713967, Valid Loss: 0.018066633840674265\n"
     ]
    },
    {
     "name": "stderr",
     "output_type": "stream",
     "text": [
      "Train epoch 25 : 100%|██████████████████████████████████████████| 7009/7009 [01:58<00:00, 59.02it/s]\n",
      "Validation epoch 25 : 100%|████████████████████████████████████| 1752/1752 [00:10<00:00, 168.50it/s]\n"
     ]
    },
    {
     "name": "stdout",
     "output_type": "stream",
     "text": [
      "Metrics: Train Loss: 0.018095566067428646, Valid Loss: 0.018102830267948296\n"
     ]
    },
    {
     "name": "stderr",
     "output_type": "stream",
     "text": [
      "Train epoch 26 : 100%|██████████████████████████████████████████| 7009/7009 [01:52<00:00, 62.33it/s]\n",
      "Validation epoch 26 : 100%|████████████████████████████████████| 1752/1752 [00:10<00:00, 169.57it/s]\n"
     ]
    },
    {
     "name": "stdout",
     "output_type": "stream",
     "text": [
      "Metrics: Train Loss: 0.01815310742695911, Valid Loss: 0.018266019614236493\n"
     ]
    },
    {
     "name": "stderr",
     "output_type": "stream",
     "text": [
      "Train epoch 27 : 100%|██████████████████████████████████████████| 7009/7009 [01:55<00:00, 60.77it/s]\n",
      "Validation epoch 27 : 100%|████████████████████████████████████| 1752/1752 [00:10<00:00, 164.61it/s]\n"
     ]
    },
    {
     "name": "stdout",
     "output_type": "stream",
     "text": [
      "Metrics: Train Loss: 0.018210828946410667, Valid Loss: 0.01826599809512855\n"
     ]
    },
    {
     "name": "stderr",
     "output_type": "stream",
     "text": [
      "Train epoch 28 : 100%|██████████████████████████████████████████| 7009/7009 [01:53<00:00, 61.60it/s]\n",
      "Validation epoch 28 : 100%|████████████████████████████████████| 1752/1752 [00:10<00:00, 166.02it/s]\n"
     ]
    },
    {
     "name": "stdout",
     "output_type": "stream",
     "text": [
      "Metrics: Train Loss: 0.01826724712775314, Valid Loss: 0.018379072345071797\n"
     ]
    },
    {
     "name": "stderr",
     "output_type": "stream",
     "text": [
      "Train epoch 29 : 100%|██████████████████████████████████████████| 7009/7009 [01:53<00:00, 61.72it/s]\n",
      "Validation epoch 29 : 100%|████████████████████████████████████| 1752/1752 [00:10<00:00, 172.39it/s]\n"
     ]
    },
    {
     "name": "stdout",
     "output_type": "stream",
     "text": [
      "Metrics: Train Loss: 0.018320681284015802, Valid Loss: 0.01827126280447153\n"
     ]
    },
    {
     "name": "stderr",
     "output_type": "stream",
     "text": [
      "Train epoch 30 : 100%|██████████████████████████████████████████| 7009/7009 [01:49<00:00, 64.01it/s]\n",
      "Validation epoch 30 : 100%|████████████████████████████████████| 1752/1752 [00:10<00:00, 174.92it/s]\n"
     ]
    },
    {
     "name": "stdout",
     "output_type": "stream",
     "text": [
      "Metrics: Train Loss: 0.018134048452457096, Valid Loss: 0.018179005908154515\n"
     ]
    },
    {
     "name": "stderr",
     "output_type": "stream",
     "text": [
      "Train epoch 31 : 100%|██████████████████████████████████████████| 7009/7009 [01:49<00:00, 63.94it/s]\n",
      "Validation epoch 31 : 100%|████████████████████████████████████| 1752/1752 [00:09<00:00, 177.99it/s]\n"
     ]
    },
    {
     "name": "stdout",
     "output_type": "stream",
     "text": [
      "Metrics: Train Loss: 0.018104341020141086, Valid Loss: 0.018126453789197767\n"
     ]
    },
    {
     "name": "stderr",
     "output_type": "stream",
     "text": [
      "Train epoch 32 : 100%|██████████████████████████████████████████| 7009/7009 [01:49<00:00, 64.05it/s]\n",
      "Validation epoch 32 : 100%|████████████████████████████████████| 1752/1752 [00:10<00:00, 168.43it/s]\n"
     ]
    },
    {
     "name": "stdout",
     "output_type": "stream",
     "text": [
      "Metrics: Train Loss: 0.01812605447047501, Valid Loss: 0.01800958679369945\n"
     ]
    },
    {
     "name": "stderr",
     "output_type": "stream",
     "text": [
      "Train epoch 33 : 100%|██████████████████████████████████████████| 7009/7009 [01:49<00:00, 63.78it/s]\n",
      "Validation epoch 33 : 100%|████████████████████████████████████| 1752/1752 [00:10<00:00, 173.85it/s]\n"
     ]
    },
    {
     "name": "stdout",
     "output_type": "stream",
     "text": [
      "Metrics: Train Loss: 0.0181720137128044, Valid Loss: 0.018156992446483153\n"
     ]
    },
    {
     "name": "stderr",
     "output_type": "stream",
     "text": [
      "Train epoch 34 : 100%|██████████████████████████████████████████| 7009/7009 [01:49<00:00, 63.90it/s]\n",
      "Validation epoch 34 : 100%|████████████████████████████████████| 1752/1752 [00:09<00:00, 178.21it/s]\n"
     ]
    },
    {
     "name": "stdout",
     "output_type": "stream",
     "text": [
      "Metrics: Train Loss: 0.01817829314419991, Valid Loss: 0.01810614286865475\n"
     ]
    },
    {
     "name": "stderr",
     "output_type": "stream",
     "text": [
      "Train epoch 35 : 100%|██████████████████████████████████████████| 7009/7009 [01:49<00:00, 64.22it/s]\n",
      "Validation epoch 35 : 100%|████████████████████████████████████| 1752/1752 [00:10<00:00, 172.08it/s]\n"
     ]
    },
    {
     "name": "stdout",
     "output_type": "stream",
     "text": [
      "Metrics: Train Loss: 0.018139245789759367, Valid Loss: 0.0180755809527532\n"
     ]
    },
    {
     "name": "stderr",
     "output_type": "stream",
     "text": [
      "Train epoch 36 : 100%|██████████████████████████████████████████| 7009/7009 [01:49<00:00, 63.79it/s]\n",
      "Validation epoch 36 : 100%|████████████████████████████████████| 1752/1752 [00:10<00:00, 174.86it/s]\n"
     ]
    },
    {
     "name": "stdout",
     "output_type": "stream",
     "text": [
      "Metrics: Train Loss: 0.01811219286346246, Valid Loss: 0.01822907652560996\n"
     ]
    },
    {
     "name": "stderr",
     "output_type": "stream",
     "text": [
      "Train epoch 37 : 100%|██████████████████████████████████████████| 7009/7009 [01:49<00:00, 64.22it/s]\n",
      "Validation epoch 37 : 100%|████████████████████████████████████| 1752/1752 [00:10<00:00, 171.62it/s]\n"
     ]
    },
    {
     "name": "stdout",
     "output_type": "stream",
     "text": [
      "Metrics: Train Loss: 0.018343805235383023, Valid Loss: 0.018211064103785292\n"
     ]
    },
    {
     "name": "stderr",
     "output_type": "stream",
     "text": [
      "Train epoch 38 : 100%|██████████████████████████████████████████| 7009/7009 [01:49<00:00, 64.00it/s]\n",
      "Validation epoch 38 : 100%|████████████████████████████████████| 1752/1752 [00:09<00:00, 176.40it/s]\n"
     ]
    },
    {
     "name": "stdout",
     "output_type": "stream",
     "text": [
      "Metrics: Train Loss: 0.018405570827367365, Valid Loss: 0.018169514269259786\n"
     ]
    },
    {
     "name": "stderr",
     "output_type": "stream",
     "text": [
      "Train epoch 39 : 100%|██████████████████████████████████████████| 7009/7009 [01:50<00:00, 63.60it/s]\n",
      "Validation epoch 39 : 100%|████████████████████████████████████| 1752/1752 [00:09<00:00, 178.89it/s]\n"
     ]
    },
    {
     "name": "stdout",
     "output_type": "stream",
     "text": [
      "Metrics: Train Loss: 0.01824738619586165, Valid Loss: 0.018266707734202185\n"
     ]
    },
    {
     "name": "stderr",
     "output_type": "stream",
     "text": [
      "Train epoch 40 : 100%|██████████████████████████████████████████| 7009/7009 [01:51<00:00, 62.68it/s]\n",
      "Validation epoch 40 : 100%|████████████████████████████████████| 1752/1752 [00:10<00:00, 171.57it/s]\n"
     ]
    },
    {
     "name": "stdout",
     "output_type": "stream",
     "text": [
      "Metrics: Train Loss: 0.018302658012654235, Valid Loss: 0.01797579082962059\n"
     ]
    },
    {
     "name": "stderr",
     "output_type": "stream",
     "text": [
      "Train epoch 41 : 100%|██████████████████████████████████████████| 7009/7009 [01:52<00:00, 62.55it/s]\n",
      "Validation epoch 41 : 100%|████████████████████████████████████| 1752/1752 [00:10<00:00, 170.88it/s]\n"
     ]
    },
    {
     "name": "stdout",
     "output_type": "stream",
     "text": [
      "Metrics: Train Loss: 0.018118088426889094, Valid Loss: 0.01815607444208412\n"
     ]
    },
    {
     "name": "stderr",
     "output_type": "stream",
     "text": [
      "Train epoch 42 : 100%|██████████████████████████████████████████| 7009/7009 [01:51<00:00, 62.91it/s]\n",
      "Validation epoch 42 : 100%|████████████████████████████████████| 1752/1752 [00:09<00:00, 175.54it/s]\n"
     ]
    },
    {
     "name": "stdout",
     "output_type": "stream",
     "text": [
      "Metrics: Train Loss: 0.0181933110505179, Valid Loss: 0.01812399144705104\n"
     ]
    },
    {
     "name": "stderr",
     "output_type": "stream",
     "text": [
      "Train epoch 43 : 100%|██████████████████████████████████████████| 7009/7009 [01:50<00:00, 63.42it/s]\n",
      "Validation epoch 43 : 100%|████████████████████████████████████| 1752/1752 [00:09<00:00, 177.23it/s]\n"
     ]
    },
    {
     "name": "stdout",
     "output_type": "stream",
     "text": [
      "Metrics: Train Loss: 0.0182644474724085, Valid Loss: 0.01829521496200011\n"
     ]
    },
    {
     "name": "stderr",
     "output_type": "stream",
     "text": [
      "Train epoch 44 : 100%|██████████████████████████████████████████| 7009/7009 [01:51<00:00, 63.11it/s]\n",
      "Validation epoch 44 : 100%|████████████████████████████████████| 1752/1752 [00:09<00:00, 178.58it/s]\n"
     ]
    },
    {
     "name": "stdout",
     "output_type": "stream",
     "text": [
      "Metrics: Train Loss: 0.0181531695550421, Valid Loss: 0.01807878179550882\n"
     ]
    },
    {
     "name": "stderr",
     "output_type": "stream",
     "text": [
      "Train epoch 45 : 100%|██████████████████████████████████████████| 7009/7009 [01:50<00:00, 63.33it/s]\n",
      "Validation epoch 45 : 100%|████████████████████████████████████| 1752/1752 [00:10<00:00, 171.77it/s]\n"
     ]
    },
    {
     "name": "stdout",
     "output_type": "stream",
     "text": [
      "Metrics: Train Loss: 0.018172264813124592, Valid Loss: 0.018190015775059052\n"
     ]
    },
    {
     "name": "stderr",
     "output_type": "stream",
     "text": [
      "Train epoch 46 : 100%|██████████████████████████████████████████| 7009/7009 [01:50<00:00, 63.66it/s]\n",
      "Validation epoch 46 : 100%|████████████████████████████████████| 1752/1752 [00:10<00:00, 173.08it/s]\n"
     ]
    },
    {
     "name": "stdout",
     "output_type": "stream",
     "text": [
      "Metrics: Train Loss: 0.018223751082557093, Valid Loss: 0.018044522758234392\n"
     ]
    },
    {
     "name": "stderr",
     "output_type": "stream",
     "text": [
      "Train epoch 47 : 100%|██████████████████████████████████████████| 7009/7009 [01:50<00:00, 63.42it/s]\n",
      "Validation epoch 47 : 100%|████████████████████████████████████| 1752/1752 [00:10<00:00, 173.17it/s]\n"
     ]
    },
    {
     "name": "stdout",
     "output_type": "stream",
     "text": [
      "Metrics: Train Loss: 0.018155442782329494, Valid Loss: 0.018048284215488326\n"
     ]
    },
    {
     "name": "stderr",
     "output_type": "stream",
     "text": [
      "Train epoch 48 : 100%|██████████████████████████████████████████| 7009/7009 [01:49<00:00, 63.79it/s]\n",
      "Validation epoch 48 : 100%|████████████████████████████████████| 1752/1752 [00:10<00:00, 175.17it/s]\n"
     ]
    },
    {
     "name": "stdout",
     "output_type": "stream",
     "text": [
      "Metrics: Train Loss: 0.018274647139705464, Valid Loss: 0.018216050187878127\n"
     ]
    },
    {
     "name": "stderr",
     "output_type": "stream",
     "text": [
      "Train epoch 49 : 100%|██████████████████████████████████████████| 7009/7009 [01:50<00:00, 63.53it/s]\n",
      "Validation epoch 49 : 100%|████████████████████████████████████| 1752/1752 [00:10<00:00, 174.59it/s]\n"
     ]
    },
    {
     "name": "stdout",
     "output_type": "stream",
     "text": [
      "Metrics: Train Loss: 0.018363473867726483, Valid Loss: 0.018538429543815613\n"
     ]
    },
    {
     "name": "stderr",
     "output_type": "stream",
     "text": [
      "Train epoch 50 : 100%|██████████████████████████████████████████| 7009/7009 [01:50<00:00, 63.58it/s]\n",
      "Validation epoch 50 : 100%|████████████████████████████████████| 1752/1752 [00:10<00:00, 172.25it/s]"
     ]
    },
    {
     "name": "stdout",
     "output_type": "stream",
     "text": [
      "Metrics: Train Loss: 0.018456019815444976, Valid Loss: 0.018406979620323713\n"
     ]
    },
    {
     "name": "stderr",
     "output_type": "stream",
     "text": [
      "\n"
     ]
    }
   ],
   "source": [
    "# 훈련 루프\n",
    "min_val = np.inf\n",
    "best_params = None\n",
    "for epoch in range(1, epochs + 1):\n",
    "    aws_model.train()\n",
    "    train_loss = 0\n",
    "    for step in tqdm(range(steps_per_epoch), desc=f'Train epoch {epoch} ', ncols=100):\n",
    "        inputs, targets = next(train_iter)\n",
    "        output = aws_model(inputs, targets)\n",
    "        output = output.view(-1)\n",
    "        targets = targets.view(-1)\n",
    "        loss = loss_fn(output, targets)\n",
    "        optimizer.zero_grad()\n",
    "        loss.backward()\n",
    "        torch.nn.utils.clip_grad_norm_(aws_model.parameters(), 1)\n",
    "        optimizer.step()\n",
    "        train_loss += loss.item()\n",
    "    train_loss /= steps_per_epoch\n",
    "    metrics['train'].append(train_loss)\n",
    "\n",
    "    aws_model.eval()\n",
    "    val_loss = 0\n",
    "    for step in tqdm(range(valid_steps), desc=f'Validation epoch {epoch} ', ncols=100):\n",
    "        inputs, targets = next(valid_iter)\n",
    "        output = aws_model(inputs, targets)\n",
    "        output = output.view(-1)\n",
    "        targets = targets.view(-1)\n",
    "        loss = loss_fn(output, targets)\n",
    "        val_loss += loss.item()\n",
    "\n",
    "    val_loss /= valid_steps\n",
    "    metrics['valid'].append(val_loss)\n",
    "\n",
    "    if val_loss < min_val:\n",
    "        min_val = val_loss\n",
    "        best_params = deepcopy(aws_model.state_dict())\n",
    "\n",
    "    print(f'Metrics: Train Loss: {train_loss}, Valid Loss: {val_loss}')"
   ]
  },
  {
   "cell_type": "markdown",
   "id": "ae359709",
   "metadata": {},
   "source": [
    "## 3.4 AWS 모델 훈련 시각화"
   ]
  },
  {
   "cell_type": "code",
   "execution_count": 13,
   "id": "e40e6045",
   "metadata": {},
   "outputs": [
    {
     "data": {
      "image/png": "[encoded data removed]",
      "text/plain": [
       "<Figure size 640x480 with 1 Axes>"
      ]
     },
     "metadata": {},
     "output_type": "display_data"
    }
   ],
   "source": [
    "aws_model.load_state_dict(best_params)\n",
    "train_metrics = metrics['train']\n",
    "val_metrics = metrics['valid']\n",
    "plt.plot(range(len(train_metrics)), train_metrics, label='Train')\n",
    "plt.plot(range(1, len(val_metrics) + 1), val_metrics, label='Valid')\n",
    "plt.legend()\n",
    "plt.show()"
   ]
  },
  {
   "cell_type": "markdown",
   "id": "3e39fc79",
   "metadata": {},
   "source": [
    "## 3.5 AWS 결측치 예측"
   ]
  },
  {
   "cell_type": "code",
   "execution_count": 14,
   "id": "20185c96",
   "metadata": {},
   "outputs": [],
   "source": [
    "# 시간 (index)과 관측소 (column)별로 측정값이 있는지 없는지 계산하여 DataFrame 형식으로 리턴\n",
    "def null_time_intervals(root_dir, metadata_path, regions_to_id):\n",
    "    dfs = []\n",
    "    meta_df = pd.read_csv(metadata_path)\n",
    "    for i in range(meta_df.shape[0]):\n",
    "        csv_path = meta_df.iloc[i]['Location'] + '.csv'\n",
    "        measure_df = pd.read_csv(root_dir + csv_path)\n",
    "        null_datapoints = measure_df.isnull().sum(axis=1) > 0\n",
    "        dfs.append(null_datapoints)\n",
    "    result = pd.DataFrame()\n",
    "    for i in range(meta_df.shape[0]):\n",
    "        result[regions_to_id[meta_df.iloc[i]['Location']]] = dfs[i]\n",
    "    return pd.DataFrame(result, columns=list(range(num_aws)))\n",
    "\n",
    "# 결측값들의 (time_idx, aws_idx)의 리스트 만들기\n",
    "null_times = null_time_intervals('./TRAIN_AWS/', './META/awsmap.csv', regions_to_id)\n",
    "null_list = []\n",
    "for time_idx in range(num_timestamps):\n",
    "    for aws_idx in range(num_aws):\n",
    "        if null_times.iloc[time_idx, aws_idx]:\n",
    "            null_list.append((time_idx, aws_idx))"
   ]
  },
  {
   "cell_type": "code",
   "execution_count": 15,
   "id": "eeca1db7",
   "metadata": {},
   "outputs": [],
   "source": [
    "# 결측치 채우기\n",
    "aws_model.eval()\n",
    "spatial_enc = aws_model.spatial_encoder\n",
    "seq_enc = aws_model.sequential_encoder\n",
    "decoder = aws_model.decoder\n",
    "\n",
    "data = dataset.data\n",
    "for time_idx, aws_idx in null_list:\n",
    "    inputs = torch.Tensor(dataset.get(time_idx, aws_idx))\n",
    "    spatial_x = spatial_enc(inputs.unsqueeze(0).double())\n",
    "    cnn_out = seq_enc(spatial_x).reshape(1, 1, -1)\n",
    "    output, _ = decoder.lstm(cnn_out.repeat((1,1,2)).double())\n",
    "    output = decoder.affine(torch.concat([cnn_out, output], dim=2).double()).flatten()\n",
    "    if np.isnan(output.detach().numpy()).sum() > 0:\n",
    "        raise Exception()\n",
    "    data[time_idx, aws_idx, :-2] = output.detach().numpy()"
   ]
  },
  {
   "cell_type": "markdown",
   "id": "9e4a499f",
   "metadata": {},
   "source": [
    "## 3.6 AWS 모델 이용하여 PM 관측소의 기상정보 예측"
   ]
  },
  {
   "cell_type": "code",
   "execution_count": 16,
   "id": "117cc3cd",
   "metadata": {},
   "outputs": [],
   "source": [
    "# pm\n",
    "pm_encoder = OrdinalEncoder()\n",
    "pm_meta_df = pd.read_csv('./META/pmmap.csv')\n",
    "pm_meta_df['측정소'] = pm_meta_df['Location'].copy()\n",
    "pm_meta_df['Location'] = pm_encoder.fit_transform(pm_meta_df['측정소'].to_frame())\n",
    "pm_meta_df = pm_meta_df.iloc[:, :-2].sort_values(by='Location')\n",
    "pm_meta_df = pd.DataFrame(pm_meta_df, index=pm_meta_df['Location'], columns=['Latitude', 'Longitude'])\n",
    "\n",
    "ids = np.arange(17).reshape(-1, 1)\n",
    "pms = pm_encoder.inverse_transform(ids).flatten()\n",
    "pm_to_id = dict(zip(pms, ids.flatten()))\n",
    "id_to_pm = dict(zip(ids.flatten(), pms))"
   ]
  },
  {
   "cell_type": "code",
   "execution_count": 18,
   "id": "7b117157",
   "metadata": {},
   "outputs": [
    {
     "name": "stderr",
     "output_type": "stream",
     "text": [
      "100%|█████████████████████████████████████████████████████████| 35054/35054 [15:50<00:00, 36.86it/s]\n"
     ]
    }
   ],
   "source": [
    "pm_data = np.zeros((num_timestamps, 17, 7))\n",
    "for time_idx in tqdm(range(10, num_timestamps), ncols=100):\n",
    "    for pm_idx in range(17):\n",
    "        lat, lon = list(pm_meta_df.iloc[pm_idx])\n",
    "        pm_pos = np.array([lat_scaler.transform([[lat]]), lon_scaler.transform([[lon]])])\n",
    "        inputs = torch.Tensor(dataset.get(time_idx, aws_idx))\n",
    "        spatial_x = spatial_enc(inputs.unsqueeze(0).double())\n",
    "        cnn_out = seq_enc(spatial_x).reshape(1, 1, -1)\n",
    "        output, _ = decoder.lstm(cnn_out.repeat((1,1,2)).double())\n",
    "        output = decoder.affine(torch.concat([cnn_out, output], dim=2).double()).flatten()\n",
    "        if np.isnan(output.detach().numpy()).sum() > 0:\n",
    "            raise Exception()\n",
    "        pm_data[time_idx, pm_idx, :-2] = output.detach().numpy()\n",
    "        pm_data[time_idx, pm_idx, -2:] = pm_pos.flatten()"
   ]
  },
  {
   "cell_type": "markdown",
   "id": "6e1be6c7",
   "metadata": {},
   "source": [
    "# 4. PM 예측 모델"
   ]
  },
  {
   "cell_type": "markdown",
   "id": "bd8bd39a",
   "metadata": {},
   "source": [
    "## 4.1 PM 데이터 전처리"
   ]
  },
  {
   "cell_type": "code",
   "execution_count": 19,
   "id": "62aa5861",
   "metadata": {},
   "outputs": [],
   "source": [
    "# 0번째 특성 PM2.5 추가\n",
    "data = np.zeros((pm_data.shape[0], pm_data.shape[1], pm_data.shape[2] + 1))\n",
    "data[:, :, 1:] = pm_data[:, :, :]\n",
    "data[:10, :, 3] = np.nan\n",
    "data[:, :, 0] = np.nan\n",
    "\n",
    "for i in range(num_pm):\n",
    "    df = pd.read_csv(f'./TRAIN/{id_to_pm[i]}.csv')\n",
    "    for time_idx in range(data.shape[0]):\n",
    "        data[time_idx, i, 0] = df.iloc[time_idx]['PM2.5']"
   ]
  },
  {
   "cell_type": "code",
   "execution_count": 20,
   "id": "779a4868",
   "metadata": {},
   "outputs": [],
   "source": [
    "pm_meta_df = pd.read_csv('./META/pmmap.csv')\n",
    "pm_meta_df['측정소'] = pm_meta_df['Location'].copy()\n",
    "pm_meta_df['Location'] = pm_encoder.transform(pm_meta_df['측정소'].to_frame())\n",
    "pm_meta_df = pm_meta_df.iloc[:, :-2].sort_values(by='Location')\n",
    "pm_meta_df = pd.DataFrame(pm_meta_df, index=pm_meta_df['Location'], columns=['Latitude', 'Longitude'])"
   ]
  },
  {
   "cell_type": "markdown",
   "id": "e044eccd",
   "metadata": {},
   "source": [
    "## 4.2 PyTorch 데이터셋 생성하기"
   ]
  },
  {
   "cell_type": "code",
   "execution_count": 21,
   "id": "c54db012",
   "metadata": {},
   "outputs": [],
   "source": [
    "dataset = PMTrainDataset(data, num_aws=num_pm, time_size=time_size)\n",
    "train_idx, valid_idx = train_test_split(range(len(dataset)), test_size=0.2, random_state=12345)\n",
    "trainset, validset = Subset(dataset, train_idx), Subset(dataset, valid_idx)\n",
    "trainloader = DataLoader(trainset, batch_size=batch_size, sampler=NonNullSampler(trainset))\n",
    "validloader = DataLoader(validset, batch_size=batch_size, sampler=NonNullSampler(validset))"
   ]
  },
  {
   "cell_type": "markdown",
   "id": "945df2b2",
   "metadata": {},
   "source": [
    "## 4.3 PM 모델 훈련"
   ]
  },
  {
   "cell_type": "code",
   "execution_count": 22,
   "id": "94b2747c",
   "metadata": {},
   "outputs": [],
   "source": [
    "# 하이퍼파라미터\n",
    "num_lstm_out = 6\n",
    "lr = 0.01\n",
    "patience = 2\n",
    "epochs = 50\n",
    "steps_per_epoch = len(trainset) // batch_size // 10\n",
    "valid_steps = len(validset) // batch_size // 10\n",
    "\n",
    "# 모델 생성\n",
    "pm_model = FeatureSeqNet(num_aws=num_pm, num_features=num_pm_features, time_size=time_size, hidden_size=hidden_size, num_lstm_out=num_lstm_out)\n",
    "pm_model.to(float)\n",
    "\n",
    "# 옵티마이저, 스켸줄러, 손실함수 생성\n",
    "optimizer = optim.Adagrad(pm_model.parameters(), lr=0.01, lr_decay=0.001)\n",
    "loss_fn = nn.L1Loss()\n",
    "train_iter = iter(trainloader)\n",
    "valid_iter = iter(validloader)\n",
    "\n",
    "# 훈련 결과 저장용\n",
    "metrics = {'train':[], 'valid':[], 'pm mae':[]}"
   ]
  },
  {
   "cell_type": "code",
   "execution_count": 23,
   "id": "8ac8c214",
   "metadata": {
    "scrolled": false
   },
   "outputs": [
    {
     "name": "stderr",
     "output_type": "stream",
     "text": [
      "Train epoch 1 : 100%|███████████████████████████████████████████| 3970/3970 [00:57<00:00, 69.50it/s]\n",
      "Validation epoch 1 : 100%|███████████████████████████████████████| 992/992 [00:05<00:00, 189.46it/s]\n"
     ]
    },
    {
     "name": "stdout",
     "output_type": "stream",
     "text": [
      "Metrics: Train Loss: 0.03129017908869164, Valid Loss: 0.026656369320026546, Valid PM MAE: 0.025667447676955227\n"
     ]
    },
    {
     "name": "stderr",
     "output_type": "stream",
     "text": [
      "Train epoch 2 : 100%|███████████████████████████████████████████| 3970/3970 [00:58<00:00, 68.23it/s]\n",
      "Validation epoch 2 : 100%|███████████████████████████████████████| 992/992 [00:05<00:00, 185.81it/s]\n"
     ]
    },
    {
     "name": "stdout",
     "output_type": "stream",
     "text": [
      "Metrics: Train Loss: 0.02615802393030755, Valid Loss: 0.02557198323863488, Valid PM MAE: 0.0244888385718494\n"
     ]
    },
    {
     "name": "stderr",
     "output_type": "stream",
     "text": [
      "Train epoch 3 : 100%|███████████████████████████████████████████| 3970/3970 [00:58<00:00, 67.31it/s]\n",
      "Validation epoch 3 : 100%|███████████████████████████████████████| 992/992 [00:05<00:00, 182.37it/s]\n"
     ]
    },
    {
     "name": "stdout",
     "output_type": "stream",
     "text": [
      "Metrics: Train Loss: 0.025549435462013645, Valid Loss: 0.025349573793144717, Valid PM MAE: 0.023830274318371834\n"
     ]
    },
    {
     "name": "stderr",
     "output_type": "stream",
     "text": [
      "Train epoch 4 : 100%|███████████████████████████████████████████| 3970/3970 [00:58<00:00, 67.68it/s]\n",
      "Validation epoch 4 : 100%|███████████████████████████████████████| 992/992 [00:05<00:00, 179.55it/s]\n"
     ]
    },
    {
     "name": "stdout",
     "output_type": "stream",
     "text": [
      "Metrics: Train Loss: 0.025290933408964926, Valid Loss: 0.02519610567681464, Valid PM MAE: 0.023470915738425132\n"
     ]
    },
    {
     "name": "stderr",
     "output_type": "stream",
     "text": [
      "Train epoch 5 : 100%|███████████████████████████████████████████| 3970/3970 [01:02<00:00, 63.66it/s]\n",
      "Validation epoch 5 : 100%|███████████████████████████████████████| 992/992 [00:06<00:00, 160.26it/s]\n"
     ]
    },
    {
     "name": "stdout",
     "output_type": "stream",
     "text": [
      "Metrics: Train Loss: 0.02513367066192151, Valid Loss: 0.02496821794157428, Valid PM MAE: 0.023546745159109754\n"
     ]
    },
    {
     "name": "stderr",
     "output_type": "stream",
     "text": [
      "Train epoch 6 : 100%|███████████████████████████████████████████| 3970/3970 [01:08<00:00, 58.28it/s]\n",
      "Validation epoch 6 : 100%|███████████████████████████████████████| 992/992 [00:06<00:00, 158.28it/s]\n"
     ]
    },
    {
     "name": "stdout",
     "output_type": "stream",
     "text": [
      "Metrics: Train Loss: 0.025024332605823374, Valid Loss: 0.02482223753833114, Valid PM MAE: 0.023045898754321174\n"
     ]
    },
    {
     "name": "stderr",
     "output_type": "stream",
     "text": [
      "Train epoch 7 : 100%|███████████████████████████████████████████| 3970/3970 [01:09<00:00, 57.11it/s]\n",
      "Validation epoch 7 : 100%|███████████████████████████████████████| 992/992 [00:06<00:00, 157.56it/s]\n"
     ]
    },
    {
     "name": "stdout",
     "output_type": "stream",
     "text": [
      "Metrics: Train Loss: 0.024880863436029212, Valid Loss: 0.02488243699244763, Valid PM MAE: 0.02314648221356423\n"
     ]
    },
    {
     "name": "stderr",
     "output_type": "stream",
     "text": [
      "Train epoch 8 : 100%|███████████████████████████████████████████| 3970/3970 [01:09<00:00, 56.84it/s]\n",
      "Validation epoch 8 : 100%|███████████████████████████████████████| 992/992 [00:06<00:00, 146.71it/s]\n"
     ]
    },
    {
     "name": "stdout",
     "output_type": "stream",
     "text": [
      "Metrics: Train Loss: 0.02492620351783109, Valid Loss: 0.024708678311471718, Valid PM MAE: 0.023292676999915517\n"
     ]
    },
    {
     "name": "stderr",
     "output_type": "stream",
     "text": [
      "Train epoch 9 : 100%|███████████████████████████████████████████| 3970/3970 [01:08<00:00, 57.67it/s]\n",
      "Validation epoch 9 : 100%|███████████████████████████████████████| 992/992 [00:06<00:00, 159.47it/s]\n"
     ]
    },
    {
     "name": "stdout",
     "output_type": "stream",
     "text": [
      "Metrics: Train Loss: 0.02479633606830267, Valid Loss: 0.024725847827701448, Valid PM MAE: 0.023235911089595253\n"
     ]
    },
    {
     "name": "stderr",
     "output_type": "stream",
     "text": [
      "Train epoch 10 : 100%|██████████████████████████████████████████| 3970/3970 [01:08<00:00, 57.56it/s]\n",
      "Validation epoch 10 : 100%|██████████████████████████████████████| 992/992 [00:06<00:00, 150.60it/s]\n"
     ]
    },
    {
     "name": "stdout",
     "output_type": "stream",
     "text": [
      "Metrics: Train Loss: 0.02470140461722732, Valid Loss: 0.024636734634427053, Valid PM MAE: 0.02294872043904199\n"
     ]
    },
    {
     "name": "stderr",
     "output_type": "stream",
     "text": [
      "Train epoch 11 : 100%|██████████████████████████████████████████| 3970/3970 [01:08<00:00, 58.38it/s]\n",
      "Validation epoch 11 : 100%|██████████████████████████████████████| 992/992 [00:06<00:00, 156.23it/s]\n"
     ]
    },
    {
     "name": "stdout",
     "output_type": "stream",
     "text": [
      "Metrics: Train Loss: 0.024709752087244803, Valid Loss: 0.024724793322589134, Valid PM MAE: 0.022877552824166144\n"
     ]
    },
    {
     "name": "stderr",
     "output_type": "stream",
     "text": [
      "Train epoch 12 : 100%|██████████████████████████████████████████| 3970/3970 [01:07<00:00, 58.51it/s]\n",
      "Validation epoch 12 : 100%|██████████████████████████████████████| 992/992 [00:06<00:00, 159.56it/s]\n"
     ]
    },
    {
     "name": "stdout",
     "output_type": "stream",
     "text": [
      "Metrics: Train Loss: 0.024692132062271218, Valid Loss: 0.024628415671277, Valid PM MAE: 0.023006453029350647\n"
     ]
    },
    {
     "name": "stderr",
     "output_type": "stream",
     "text": [
      "Train epoch 13 : 100%|██████████████████████████████████████████| 3970/3970 [01:08<00:00, 57.88it/s]\n",
      "Validation epoch 13 : 100%|██████████████████████████████████████| 992/992 [00:06<00:00, 156.66it/s]\n"
     ]
    },
    {
     "name": "stdout",
     "output_type": "stream",
     "text": [
      "Metrics: Train Loss: 0.024616843629129637, Valid Loss: 0.024588057687530404, Valid PM MAE: 0.022832390813125002\n"
     ]
    },
    {
     "name": "stderr",
     "output_type": "stream",
     "text": [
      "Train epoch 14 : 100%|██████████████████████████████████████████| 3970/3970 [01:07<00:00, 58.91it/s]\n",
      "Validation epoch 14 : 100%|██████████████████████████████████████| 992/992 [00:06<00:00, 154.56it/s]\n"
     ]
    },
    {
     "name": "stdout",
     "output_type": "stream",
     "text": [
      "Metrics: Train Loss: 0.02455985880828495, Valid Loss: 0.02460854308337988, Valid PM MAE: 0.022848940313553768\n"
     ]
    },
    {
     "name": "stderr",
     "output_type": "stream",
     "text": [
      "Train epoch 15 : 100%|██████████████████████████████████████████| 3970/3970 [01:08<00:00, 57.97it/s]\n",
      "Validation epoch 15 : 100%|██████████████████████████████████████| 992/992 [00:06<00:00, 156.51it/s]\n"
     ]
    },
    {
     "name": "stdout",
     "output_type": "stream",
     "text": [
      "Metrics: Train Loss: 0.02461998363099305, Valid Loss: 0.024438571548384875, Valid PM MAE: 0.02273419533972863\n"
     ]
    },
    {
     "name": "stderr",
     "output_type": "stream",
     "text": [
      "Train epoch 16 : 100%|██████████████████████████████████████████| 3970/3970 [01:08<00:00, 58.18it/s]\n",
      "Validation epoch 16 : 100%|██████████████████████████████████████| 992/992 [00:06<00:00, 155.01it/s]\n"
     ]
    },
    {
     "name": "stdout",
     "output_type": "stream",
     "text": [
      "Metrics: Train Loss: 0.024632258481950896, Valid Loss: 0.024587279310726996, Valid PM MAE: 0.02277839528133215\n"
     ]
    },
    {
     "name": "stderr",
     "output_type": "stream",
     "text": [
      "Train epoch 17 : 100%|██████████████████████████████████████████| 3970/3970 [01:08<00:00, 58.14it/s]\n",
      "Validation epoch 17 : 100%|██████████████████████████████████████| 992/992 [00:06<00:00, 157.25it/s]\n"
     ]
    },
    {
     "name": "stdout",
     "output_type": "stream",
     "text": [
      "Metrics: Train Loss: 0.024548813946201155, Valid Loss: 0.02443835023953607, Valid PM MAE: 0.022856385606254935\n"
     ]
    },
    {
     "name": "stderr",
     "output_type": "stream",
     "text": [
      "Train epoch 18 : 100%|██████████████████████████████████████████| 3970/3970 [01:08<00:00, 58.30it/s]\n",
      "Validation epoch 18 : 100%|██████████████████████████████████████| 992/992 [00:06<00:00, 157.06it/s]\n"
     ]
    },
    {
     "name": "stdout",
     "output_type": "stream",
     "text": [
      "Metrics: Train Loss: 0.02454943991793683, Valid Loss: 0.024496535529466203, Valid PM MAE: 0.022725898070216514\n"
     ]
    },
    {
     "name": "stderr",
     "output_type": "stream",
     "text": [
      "Train epoch 19 : 100%|██████████████████████████████████████████| 3970/3970 [01:07<00:00, 58.47it/s]\n",
      "Validation epoch 19 : 100%|██████████████████████████████████████| 992/992 [00:06<00:00, 156.74it/s]\n"
     ]
    },
    {
     "name": "stdout",
     "output_type": "stream",
     "text": [
      "Metrics: Train Loss: 0.024556364601283867, Valid Loss: 0.024540652401811677, Valid PM MAE: 0.022778114669158876\n"
     ]
    },
    {
     "name": "stderr",
     "output_type": "stream",
     "text": [
      "Train epoch 20 : 100%|██████████████████████████████████████████| 3970/3970 [01:07<00:00, 59.14it/s]\n",
      "Validation epoch 20 : 100%|██████████████████████████████████████| 992/992 [00:06<00:00, 157.88it/s]\n"
     ]
    },
    {
     "name": "stdout",
     "output_type": "stream",
     "text": [
      "Metrics: Train Loss: 0.02451455824953795, Valid Loss: 0.024526154418927394, Valid PM MAE: 0.022930562989249885\n"
     ]
    },
    {
     "name": "stderr",
     "output_type": "stream",
     "text": [
      "Train epoch 21 : 100%|██████████████████████████████████████████| 3970/3970 [01:06<00:00, 59.56it/s]\n",
      "Validation epoch 21 : 100%|██████████████████████████████████████| 992/992 [00:06<00:00, 164.10it/s]\n"
     ]
    },
    {
     "name": "stdout",
     "output_type": "stream",
     "text": [
      "Metrics: Train Loss: 0.024508203904221253, Valid Loss: 0.02438056015543558, Valid PM MAE: 0.022493499327144204\n"
     ]
    },
    {
     "name": "stderr",
     "output_type": "stream",
     "text": [
      "Train epoch 22 : 100%|██████████████████████████████████████████| 3970/3970 [01:07<00:00, 58.99it/s]\n",
      "Validation epoch 22 : 100%|██████████████████████████████████████| 992/992 [00:06<00:00, 154.40it/s]\n"
     ]
    },
    {
     "name": "stdout",
     "output_type": "stream",
     "text": [
      "Metrics: Train Loss: 0.024445878775666986, Valid Loss: 0.024491952190003885, Valid PM MAE: 0.02272439209450321\n"
     ]
    },
    {
     "name": "stderr",
     "output_type": "stream",
     "text": [
      "Train epoch 23 : 100%|██████████████████████████████████████████| 3970/3970 [01:07<00:00, 58.62it/s]\n",
      "Validation epoch 23 : 100%|██████████████████████████████████████| 992/992 [00:06<00:00, 160.19it/s]\n"
     ]
    },
    {
     "name": "stdout",
     "output_type": "stream",
     "text": [
      "Metrics: Train Loss: 0.024449060442527162, Valid Loss: 0.024397564383129684, Valid PM MAE: 0.02258822403187407\n"
     ]
    },
    {
     "name": "stderr",
     "output_type": "stream",
     "text": [
      "Train epoch 24 : 100%|██████████████████████████████████████████| 3970/3970 [01:07<00:00, 58.72it/s]\n",
      "Validation epoch 24 : 100%|██████████████████████████████████████| 992/992 [00:06<00:00, 153.94it/s]\n"
     ]
    },
    {
     "name": "stdout",
     "output_type": "stream",
     "text": [
      "Metrics: Train Loss: 0.02449138089122954, Valid Loss: 0.02450325276627005, Valid PM MAE: 0.02260893832086742\n"
     ]
    },
    {
     "name": "stderr",
     "output_type": "stream",
     "text": [
      "Train epoch 25 : 100%|██████████████████████████████████████████| 3970/3970 [01:07<00:00, 58.98it/s]\n",
      "Validation epoch 25 : 100%|██████████████████████████████████████| 992/992 [00:06<00:00, 154.35it/s]\n"
     ]
    },
    {
     "name": "stdout",
     "output_type": "stream",
     "text": [
      "Metrics: Train Loss: 0.02446855470227151, Valid Loss: 0.024273347200972607, Valid PM MAE: 0.022478501451880666\n"
     ]
    },
    {
     "name": "stderr",
     "output_type": "stream",
     "text": [
      "Train epoch 26 : 100%|██████████████████████████████████████████| 3970/3970 [01:07<00:00, 58.42it/s]\n",
      "Validation epoch 26 : 100%|██████████████████████████████████████| 992/992 [00:06<00:00, 155.89it/s]\n"
     ]
    },
    {
     "name": "stdout",
     "output_type": "stream",
     "text": [
      "Metrics: Train Loss: 0.024426036991615944, Valid Loss: 0.024514800803840085, Valid PM MAE: 0.022453956854624375\n"
     ]
    },
    {
     "name": "stderr",
     "output_type": "stream",
     "text": [
      "Train epoch 27 : 100%|██████████████████████████████████████████| 3970/3970 [01:07<00:00, 58.94it/s]\n",
      "Validation epoch 27 : 100%|██████████████████████████████████████| 992/992 [00:06<00:00, 154.45it/s]\n"
     ]
    },
    {
     "name": "stdout",
     "output_type": "stream",
     "text": [
      "Metrics: Train Loss: 0.02440787242611068, Valid Loss: 0.024338575335980054, Valid PM MAE: 0.022618214522084408\n"
     ]
    },
    {
     "name": "stderr",
     "output_type": "stream",
     "text": [
      "Train epoch 28 : 100%|██████████████████████████████████████████| 3970/3970 [01:08<00:00, 58.15it/s]\n",
      "Validation epoch 28 : 100%|██████████████████████████████████████| 992/992 [00:06<00:00, 153.47it/s]\n"
     ]
    },
    {
     "name": "stdout",
     "output_type": "stream",
     "text": [
      "Metrics: Train Loss: 0.024405596070118017, Valid Loss: 0.0243164608769714, Valid PM MAE: 0.022849496052357195\n"
     ]
    },
    {
     "name": "stderr",
     "output_type": "stream",
     "text": [
      "Train epoch 29 : 100%|██████████████████████████████████████████| 3970/3970 [01:08<00:00, 57.92it/s]\n",
      "Validation epoch 29 : 100%|██████████████████████████████████████| 992/992 [00:06<00:00, 154.43it/s]\n"
     ]
    },
    {
     "name": "stdout",
     "output_type": "stream",
     "text": [
      "Metrics: Train Loss: 0.024466486753557816, Valid Loss: 0.024439558446075628, Valid PM MAE: 0.022636907412115024\n"
     ]
    },
    {
     "name": "stderr",
     "output_type": "stream",
     "text": [
      "Train epoch 30 : 100%|██████████████████████████████████████████| 3970/3970 [01:07<00:00, 58.85it/s]\n",
      "Validation epoch 30 : 100%|██████████████████████████████████████| 992/992 [00:06<00:00, 160.20it/s]\n"
     ]
    },
    {
     "name": "stdout",
     "output_type": "stream",
     "text": [
      "Metrics: Train Loss: 0.02443334725423519, Valid Loss: 0.024477092330593378, Valid PM MAE: 0.022771450649175264\n"
     ]
    },
    {
     "name": "stderr",
     "output_type": "stream",
     "text": [
      "Train epoch 31 : 100%|██████████████████████████████████████████| 3970/3970 [01:08<00:00, 57.75it/s]\n",
      "Validation epoch 31 : 100%|██████████████████████████████████████| 992/992 [00:06<00:00, 157.67it/s]\n"
     ]
    },
    {
     "name": "stdout",
     "output_type": "stream",
     "text": [
      "Metrics: Train Loss: 0.024396125120768334, Valid Loss: 0.024339340603120905, Valid PM MAE: 0.022580775156228822\n"
     ]
    },
    {
     "name": "stderr",
     "output_type": "stream",
     "text": [
      "Train epoch 32 : 100%|██████████████████████████████████████████| 3970/3970 [01:07<00:00, 58.56it/s]\n",
      "Validation epoch 32 : 100%|██████████████████████████████████████| 992/992 [00:06<00:00, 153.44it/s]\n"
     ]
    },
    {
     "name": "stdout",
     "output_type": "stream",
     "text": [
      "Metrics: Train Loss: 0.024383761128005572, Valid Loss: 0.024366047246213947, Valid PM MAE: 0.022699335194614114\n"
     ]
    },
    {
     "name": "stderr",
     "output_type": "stream",
     "text": [
      "Train epoch 33 : 100%|██████████████████████████████████████████| 3970/3970 [01:07<00:00, 58.72it/s]\n",
      "Validation epoch 33 : 100%|██████████████████████████████████████| 992/992 [00:06<00:00, 158.27it/s]\n"
     ]
    },
    {
     "name": "stdout",
     "output_type": "stream",
     "text": [
      "Metrics: Train Loss: 0.024407335483216552, Valid Loss: 0.024354833067205747, Valid PM MAE: 0.022452956211871575\n"
     ]
    },
    {
     "name": "stderr",
     "output_type": "stream",
     "text": [
      "Train epoch 34 : 100%|██████████████████████████████████████████| 3970/3970 [01:08<00:00, 58.20it/s]\n",
      "Validation epoch 34 : 100%|██████████████████████████████████████| 992/992 [00:06<00:00, 158.14it/s]\n"
     ]
    },
    {
     "name": "stdout",
     "output_type": "stream",
     "text": [
      "Metrics: Train Loss: 0.024371200788535257, Valid Loss: 0.02428970478592155, Valid PM MAE: 0.022686865345675832\n"
     ]
    },
    {
     "name": "stderr",
     "output_type": "stream",
     "text": [
      "Train epoch 35 : 100%|██████████████████████████████████████████| 3970/3970 [01:07<00:00, 59.00it/s]\n",
      "Validation epoch 35 : 100%|██████████████████████████████████████| 992/992 [00:06<00:00, 159.43it/s]\n"
     ]
    },
    {
     "name": "stdout",
     "output_type": "stream",
     "text": [
      "Metrics: Train Loss: 0.024430195969856586, Valid Loss: 0.024345515772946844, Valid PM MAE: 0.02238134920334231\n"
     ]
    },
    {
     "name": "stderr",
     "output_type": "stream",
     "text": [
      "Train epoch 36 : 100%|██████████████████████████████████████████| 3970/3970 [01:06<00:00, 59.93it/s]\n",
      "Validation epoch 36 : 100%|██████████████████████████████████████| 992/992 [00:06<00:00, 162.24it/s]\n"
     ]
    },
    {
     "name": "stdout",
     "output_type": "stream",
     "text": [
      "Metrics: Train Loss: 0.024438493034610806, Valid Loss: 0.024428163447463642, Valid PM MAE: 0.02242564265322647\n"
     ]
    },
    {
     "name": "stderr",
     "output_type": "stream",
     "text": [
      "Train epoch 37 : 100%|██████████████████████████████████████████| 3970/3970 [01:06<00:00, 59.27it/s]\n",
      "Validation epoch 37 : 100%|██████████████████████████████████████| 992/992 [00:06<00:00, 163.66it/s]\n"
     ]
    },
    {
     "name": "stdout",
     "output_type": "stream",
     "text": [
      "Metrics: Train Loss: 0.024384980646380505, Valid Loss: 0.024293403022657693, Valid PM MAE: 0.02242994646644121\n"
     ]
    },
    {
     "name": "stderr",
     "output_type": "stream",
     "text": [
      "Train epoch 38 : 100%|██████████████████████████████████████████| 3970/3970 [01:06<00:00, 59.29it/s]\n",
      "Validation epoch 38 : 100%|██████████████████████████████████████| 992/992 [00:05<00:00, 165.60it/s]\n"
     ]
    },
    {
     "name": "stdout",
     "output_type": "stream",
     "text": [
      "Metrics: Train Loss: 0.024424566137779272, Valid Loss: 0.024333536422334226, Valid PM MAE: 0.02217835430568473\n"
     ]
    },
    {
     "name": "stderr",
     "output_type": "stream",
     "text": [
      "Train epoch 39 : 100%|██████████████████████████████████████████| 3970/3970 [01:07<00:00, 58.90it/s]\n",
      "Validation epoch 39 : 100%|██████████████████████████████████████| 992/992 [00:06<00:00, 158.19it/s]\n"
     ]
    },
    {
     "name": "stdout",
     "output_type": "stream",
     "text": [
      "Metrics: Train Loss: 0.024330713607928097, Valid Loss: 0.024275594300310833, Valid PM MAE: 0.022519397248209908\n"
     ]
    },
    {
     "name": "stderr",
     "output_type": "stream",
     "text": [
      "Train epoch 40 : 100%|██████████████████████████████████████████| 3970/3970 [01:08<00:00, 58.34it/s]\n",
      "Validation epoch 40 : 100%|██████████████████████████████████████| 992/992 [00:06<00:00, 157.17it/s]\n"
     ]
    },
    {
     "name": "stdout",
     "output_type": "stream",
     "text": [
      "Metrics: Train Loss: 0.02441349978661843, Valid Loss: 0.02425420914867224, Valid PM MAE: 0.022335681854095693\n"
     ]
    },
    {
     "name": "stderr",
     "output_type": "stream",
     "text": [
      "Train epoch 41 : 100%|██████████████████████████████████████████| 3970/3970 [01:07<00:00, 58.98it/s]\n",
      "Validation epoch 41 : 100%|██████████████████████████████████████| 992/992 [00:06<00:00, 153.81it/s]\n"
     ]
    },
    {
     "name": "stdout",
     "output_type": "stream",
     "text": [
      "Metrics: Train Loss: 0.024395137351713395, Valid Loss: 0.024387684607298024, Valid PM MAE: 0.022571561787639374\n"
     ]
    },
    {
     "name": "stderr",
     "output_type": "stream",
     "text": [
      "Train epoch 42 : 100%|██████████████████████████████████████████| 3970/3970 [01:07<00:00, 58.87it/s]\n",
      "Validation epoch 42 : 100%|██████████████████████████████████████| 992/992 [00:06<00:00, 155.44it/s]\n"
     ]
    },
    {
     "name": "stdout",
     "output_type": "stream",
     "text": [
      "Metrics: Train Loss: 0.024387180519357347, Valid Loss: 0.024271063731295478, Valid PM MAE: 0.02229795509553379\n"
     ]
    },
    {
     "name": "stderr",
     "output_type": "stream",
     "text": [
      "Train epoch 43 : 100%|██████████████████████████████████████████| 3970/3970 [01:07<00:00, 59.17it/s]\n",
      "Validation epoch 43 : 100%|██████████████████████████████████████| 992/992 [00:06<00:00, 157.31it/s]\n"
     ]
    },
    {
     "name": "stdout",
     "output_type": "stream",
     "text": [
      "Metrics: Train Loss: 0.024425539664265833, Valid Loss: 0.02430428401502115, Valid PM MAE: 0.02251566176791056\n"
     ]
    },
    {
     "name": "stderr",
     "output_type": "stream",
     "text": [
      "Train epoch 44 : 100%|██████████████████████████████████████████| 3970/3970 [01:07<00:00, 58.56it/s]\n",
      "Validation epoch 44 : 100%|██████████████████████████████████████| 992/992 [00:06<00:00, 158.70it/s]\n"
     ]
    },
    {
     "name": "stdout",
     "output_type": "stream",
     "text": [
      "Metrics: Train Loss: 0.0243636999623762, Valid Loss: 0.024252817880131148, Valid PM MAE: 0.022433834663980044\n"
     ]
    },
    {
     "name": "stderr",
     "output_type": "stream",
     "text": [
      "Train epoch 45 : 100%|██████████████████████████████████████████| 3970/3970 [01:07<00:00, 58.54it/s]\n",
      "Validation epoch 45 : 100%|██████████████████████████████████████| 992/992 [00:06<00:00, 164.75it/s]\n"
     ]
    },
    {
     "name": "stdout",
     "output_type": "stream",
     "text": [
      "Metrics: Train Loss: 0.024327040116883993, Valid Loss: 0.024376963812418474, Valid PM MAE: 0.022542706756902058\n"
     ]
    },
    {
     "name": "stderr",
     "output_type": "stream",
     "text": [
      "Train epoch 46 : 100%|██████████████████████████████████████████| 3970/3970 [01:07<00:00, 58.61it/s]\n",
      "Validation epoch 46 : 100%|██████████████████████████████████████| 992/992 [00:06<00:00, 159.48it/s]\n"
     ]
    },
    {
     "name": "stdout",
     "output_type": "stream",
     "text": [
      "Metrics: Train Loss: 0.02434096229518537, Valid Loss: 0.02430248848765078, Valid PM MAE: 0.02231975206086182\n"
     ]
    },
    {
     "name": "stderr",
     "output_type": "stream",
     "text": [
      "Train epoch 47 : 100%|██████████████████████████████████████████| 3970/3970 [01:08<00:00, 58.21it/s]\n",
      "Validation epoch 47 : 100%|██████████████████████████████████████| 992/992 [00:06<00:00, 163.79it/s]\n"
     ]
    },
    {
     "name": "stdout",
     "output_type": "stream",
     "text": [
      "Metrics: Train Loss: 0.024293801997069556, Valid Loss: 0.02428920219689974, Valid PM MAE: 0.022300218514401005\n"
     ]
    },
    {
     "name": "stderr",
     "output_type": "stream",
     "text": [
      "Train epoch 48 : 100%|██████████████████████████████████████████| 3970/3970 [01:07<00:00, 59.24it/s]\n",
      "Validation epoch 48 : 100%|██████████████████████████████████████| 992/992 [00:06<00:00, 161.87it/s]\n"
     ]
    },
    {
     "name": "stdout",
     "output_type": "stream",
     "text": [
      "Metrics: Train Loss: 0.02436404146858739, Valid Loss: 0.02427907593257162, Valid PM MAE: 0.022296156653114442\n"
     ]
    },
    {
     "name": "stderr",
     "output_type": "stream",
     "text": [
      "Train epoch 49 : 100%|██████████████████████████████████████████| 3970/3970 [01:06<00:00, 59.65it/s]\n",
      "Validation epoch 49 : 100%|██████████████████████████████████████| 992/992 [00:06<00:00, 161.43it/s]\n"
     ]
    },
    {
     "name": "stdout",
     "output_type": "stream",
     "text": [
      "Metrics: Train Loss: 0.024342912760718136, Valid Loss: 0.024353976392282206, Valid PM MAE: 0.022380884063493412\n"
     ]
    },
    {
     "name": "stderr",
     "output_type": "stream",
     "text": [
      "Train epoch 50 : 100%|██████████████████████████████████████████| 3970/3970 [01:06<00:00, 59.47it/s]\n",
      "Validation epoch 50 : 100%|██████████████████████████████████████| 992/992 [00:06<00:00, 158.00it/s]"
     ]
    },
    {
     "name": "stdout",
     "output_type": "stream",
     "text": [
      "Metrics: Train Loss: 0.024360603241661945, Valid Loss: 0.024322285629379277, Valid PM MAE: 0.022652041912878573\n"
     ]
    },
    {
     "name": "stderr",
     "output_type": "stream",
     "text": [
      "\n"
     ]
    }
   ],
   "source": [
    "min_val = np.inf\n",
    "best_params = None\n",
    "\n",
    "# 훈련 루프\n",
    "for epoch in range(1, epochs + 1):\n",
    "    pm_model.train()\n",
    "    train_loss = 0\n",
    "    for step in tqdm(range(steps_per_epoch), desc=f'Train epoch {epoch} ', ncols=100):\n",
    "        inputs, targets = next(train_iter)\n",
    "        output = pm_model(inputs, targets)\n",
    "        output = output.view(-1)\n",
    "        targets = targets.view(-1)\n",
    "        loss = loss_fn(output, targets)\n",
    "        optimizer.zero_grad()\n",
    "        loss.backward()\n",
    "        torch.nn.utils.clip_grad_norm_(pm_model.parameters(), 1)\n",
    "        optimizer.step()\n",
    "        train_loss += loss.item()\n",
    "    train_loss /= steps_per_epoch\n",
    "    metrics['train'].append(train_loss)\n",
    "\n",
    "    pm_model.eval()\n",
    "    val_loss = 0\n",
    "    val_mae = 0\n",
    "    for step in tqdm(range(valid_steps), desc=f'Validation epoch {epoch} ', ncols=100):\n",
    "        inputs, targets = next(valid_iter)\n",
    "        output = pm_model(inputs, targets)\n",
    "        pm_out = output[:, :, 0].view(-1)\n",
    "        pm_target = targets[:, :, 0].view(-1)\n",
    "        output = output.view(-1)\n",
    "        targets = targets.view(-1)\n",
    "        loss = loss_fn(output, targets)\n",
    "        val_loss += loss.item()\n",
    "        val_mae += loss_fn(pm_out, pm_target).item()\n",
    "\n",
    "    val_loss /= valid_steps\n",
    "    val_mae /= valid_steps\n",
    "    metrics['valid'].append(val_loss)\n",
    "    metrics['pm mae'].append(val_mae)\n",
    "    \n",
    "    if val_loss < min_val:\n",
    "        min_val = val_loss\n",
    "        best_params = deepcopy(pm_model.state_dict())\n",
    "    \n",
    "    print(f'Metrics: Train Loss: {train_loss}, Valid Loss: {val_loss}, Valid PM MAE: {val_mae}')"
   ]
  },
  {
   "cell_type": "code",
   "execution_count": 24,
   "id": "744fa780",
   "metadata": {},
   "outputs": [
    {
     "data": {
      "image/png": "[encoded data removed]",
      "text/plain": [
       "<Figure size 640x480 with 1 Axes>"
      ]
     },
     "metadata": {},
     "output_type": "display_data"
    }
   ],
   "source": [
    "train_metrics = metrics['train']\n",
    "val_metrics = metrics['valid']\n",
    "plt.plot(range(len(train_metrics)), train_metrics, label='Train')\n",
    "plt.plot(range(1, len(val_metrics) + 1), val_metrics, label='Valid')\n",
    "plt.legend()\n",
    "plt.show()"
   ]
  },
  {
   "cell_type": "code",
   "execution_count": 25,
   "id": "44e129fb",
   "metadata": {},
   "outputs": [
    {
     "data": {
      "text/plain": [
       "<All keys matched successfully>"
      ]
     },
     "execution_count": 25,
     "metadata": {},
     "output_type": "execute_result"
    }
   ],
   "source": [
    "pm_model.load_state_dict(best_params)"
   ]
  },
  {
   "cell_type": "markdown",
   "id": "be35a616",
   "metadata": {},
   "source": [
    "# 5. 제출 파일 작성"
   ]
  },
  {
   "cell_type": "markdown",
   "id": "36b888e3",
   "metadata": {},
   "source": [
    "## 5.1 test 데이터 불러오기"
   ]
  },
  {
   "cell_type": "code",
   "execution_count": 29,
   "id": "e538cbf4",
   "metadata": {},
   "outputs": [],
   "source": [
    "num_timestamps = 7728\n",
    "test_aws_data = np.zeros((num_timestamps, 30, 7))\n",
    "test_pm_data = np.zeros((num_timestamps, 17, 8))\n",
    "test_aws_data[:, :, :] = np.nan\n",
    "test_pm_data[:, :, :] = np.nan\n",
    "\n",
    "aws_meta = pd.read_csv('./META/awsmap.csv')\n",
    "aws_meta['idx'] = aws_meta['Location'].apply(lambda x : regions_to_id[x])\n",
    "aws_meta = aws_meta.sort_values(by='idx')\n",
    "aws_meta = aws_meta.reset_index().drop(['index', 'idx', 'Location', 'Description'], axis=1)\n",
    "\n",
    "pm_meta = pd.read_csv('./META/pmmap.csv')\n",
    "pm_meta['Location'] = pm_meta['Location'].apply(lambda x : pm_to_id[x])\n",
    "pm_meta = pm_meta.sort_values(by=['Location'])\n",
    "pm_meta = pm_meta.reset_index().drop(['index', 'Location', 'Description'], axis=1)\n",
    "\n",
    "for i in range(30):\n",
    "    df = pd.read_csv(f'./TEST_AWS/{id_to_region[i]}.csv')\n",
    "    lat = aws_meta.iloc[i]['Latitude']\n",
    "    long = aws_meta.iloc[i]['Longitude']\n",
    "    for t in range(num_timestamps):\n",
    "        test_aws_data[t, i, :5] = df.iloc[t, [3, 4, 5, 6, 7]]\n",
    "        test_aws_data[t, i, -2] = lat_scaler.transform([[lat]])\n",
    "        test_aws_data[t, i, -1] = lon_scaler.transform([[long]])\n",
    "        \n",
    "for i in range(17):\n",
    "    df = pd.read_csv(f'./TEST_INPUT/{id_to_pm[i]}.csv')\n",
    "    lat = pm_meta.iloc[i]['Latitude']\n",
    "    long = pm_meta.iloc[i]['Longitude']\n",
    "    for t in range(num_timestamps):\n",
    "        test_pm_data[t, i, 0] = df.iloc[t, 3]\n",
    "        test_pm_data[t, i, -2] = lat_scaler.transform([[lat]])\n",
    "        test_pm_data[t, i, -1] = lon_scaler.transform([[long]])\n",
    "\n",
    "aws_dataset = AWSTrainDataset(data=test_aws_data, num_aws=num_aws, time_size=10)"
   ]
  },
  {
   "cell_type": "markdown",
   "id": "bd381234",
   "metadata": {},
   "source": [
    "## 5.2 AWS 데이터 예측"
   ]
  },
  {
   "cell_type": "code",
   "execution_count": 38,
   "id": "e5e835cc",
   "metadata": {},
   "outputs": [],
   "source": [
    "spatial_enc = aws_model.spatial_encoder.to(float)\n",
    "seq_enc = aws_model.sequential_encoder.to(float)\n",
    "\n",
    "for i in range(10, num_timestamps):\n",
    "    if np.isnan(test_aws_data[i]).sum() > 0:\n",
    "        for aws_idx in range(30):\n",
    "            inputs = torch.Tensor(aws_dataset.get(i, aws_idx)).double()\n",
    "            spatial_x = spatial_enc(inputs.unsqueeze(0))\n",
    "            cnn_out = seq_enc(spatial_x).reshape(1, 1, -1)\n",
    "            output, _ = aws_model.decoder.lstm(cnn_out.repeat((1,1,2)))\n",
    "            output = aws_model.decoder.affine(torch.concat([cnn_out, output], dim=2)).flatten()\n",
    "            if np.isnan(output.detach().numpy()).sum() > 0:\n",
    "                print(output)\n",
    "                raise Exception()\n",
    "            test_aws_data[i, aws_idx, :-2] = output.detach().numpy()\n",
    "            aws_pos = list(aws_meta.iloc[aws_idx])\n",
    "            test_aws_data[i, aws_idx, -2:] = aws_pos"
   ]
  },
  {
   "cell_type": "markdown",
   "id": "095af5ef",
   "metadata": {},
   "source": [
    "## 5.3 PM 데이터 예측"
   ]
  },
  {
   "cell_type": "code",
   "execution_count": 44,
   "id": "e5d062ce",
   "metadata": {},
   "outputs": [],
   "source": [
    "pm_dataset = PMTrainDataset(test_pm_data, num_aws=num_pm, time_size=time_size)"
   ]
  },
  {
   "cell_type": "code",
   "execution_count": 47,
   "id": "c8c78b64",
   "metadata": {},
   "outputs": [],
   "source": [
    "spatial_enc = aws_model.spatial_encoder.to(float)\n",
    "seq_enc = aws_model.sequential_encoder.to(float)\n",
    "\n",
    "for i in range(10, test_pm_data.shape[0]):\n",
    "    if np.isnan(test_pm_data[i]).sum() > 0:\n",
    "        for pm_idx in range(17):\n",
    "            pm_pos = list(pm_meta.iloc[pm_idx])\n",
    "            inputs = torch.Tensor(aws_dataset.get_pm(i, pm_pos)).double()\n",
    "            spatial_x = spatial_enc(inputs.unsqueeze(0))\n",
    "            cnn_out = seq_enc(spatial_x).reshape(1, 1, -1)\n",
    "            output, _ = aws_model.decoder.lstm(cnn_out.repeat((1,1,2)))\n",
    "            output = aws_model.decoder.affine(torch.concat([cnn_out, output], dim=2)).flatten()\n",
    "            if np.isnan(output[0].detach()):\n",
    "                print(output)\n",
    "                raise Exception()\n",
    "            test_pm_data[i, pm_idx, 1:-2] = output.detach().numpy()\n",
    "            test_pm_data[i, pm_idx, -2:] = pm_pos"
   ]
  },
  {
   "cell_type": "code",
   "execution_count": 53,
   "id": "66abd637",
   "metadata": {},
   "outputs": [
    {
     "data": {
      "text/plain": [
       "(7728, 17, 8)"
      ]
     },
     "execution_count": 53,
     "metadata": {},
     "output_type": "execute_result"
    }
   ],
   "source": [
    "pm_dataset.data.shape"
   ]
  },
  {
   "cell_type": "code",
   "execution_count": 55,
   "id": "a1cb0b94",
   "metadata": {},
   "outputs": [],
   "source": [
    "spatial_enc = pm_model.spatial_encoder.to(float)\n",
    "seq_enc = pm_model.sequential_encoder.to(float)\n",
    "\n",
    "for i in range(10, test_pm_data.shape[0]):\n",
    "    if np.isnan(test_pm_data[i]).sum() > 0:\n",
    "        for pm_idx in range(17):\n",
    "            inputs = torch.Tensor(pm_dataset.get(i, pm_idx)).double()\n",
    "            spatial_x = spatial_enc(inputs.unsqueeze(0))\n",
    "            cnn_out = seq_enc(spatial_x).reshape(1, 1, -1)\n",
    "            output, _ = pm_model.decoder.lstm(cnn_out.repeat((1,1,2)))\n",
    "            output = pm_model.decoder.affine(torch.concat([cnn_out, output], dim=2)).flatten()\n",
    "            if np.isnan(output[0].detach()):\n",
    "                print(output)\n",
    "                raise Exception()\n",
    "            test_pm_data[i, pm_idx, 0] = output.detach().numpy()[0]"
   ]
  },
  {
   "cell_type": "markdown",
   "id": "4e2aff27",
   "metadata": {},
   "source": [
    "## 5.4 제출 파일 작성"
   ]
  },
  {
   "cell_type": "code",
   "execution_count": 57,
   "id": "4a2cca1d",
   "metadata": {},
   "outputs": [],
   "source": [
    "test_aws_df = pd.read_csv('./TEST_AWS/공주.csv')\n",
    "num_timestamps = 7728\n",
    "timestamp_to_id = {}\n",
    "for i in range(len(test_aws_df.index)):\n",
    "    timestamp_to_id[tuple(test_aws_df.loc[i, ['연도', '일시']])] = i"
   ]
  },
  {
   "cell_type": "code",
   "execution_count": 59,
   "id": "745ea852",
   "metadata": {},
   "outputs": [],
   "source": [
    "submission_csv = pd.read_csv('./answer_sample.csv')\n",
    "\n",
    "for i in range(len(submission_csv.index)):\n",
    "    time = tuple(submission_csv.iloc[i][['연도', '일시']])\n",
    "    time_idx = timestamp_to_id[time]\n",
    "    pm_idx = pm_to_id[submission_csv.iloc[i]['측정소']]\n",
    "    val = test_pm_data[time_idx, pm_idx, 0]\n",
    "    submission_csv.iloc[i, -1] = val if val > 0 else 0\n",
    "\n",
    "submission_csv.to_csv('revision1.csv', index=False)"
   ]
  }
 ],
 "metadata": {
  "kernelspec": {
   "display_name": "Python 3",
   "language": "python",
   "name": "python3"
  },
  "language_info": {
   "codemirror_mode": {
    "name": "ipython",
    "version": 3
   },
   "file_extension": ".py",
   "mimetype": "text/x-python",
   "name": "python",
   "nbconvert_exporter": "python",
   "pygments_lexer": "ipython3",
   "version": "3.10.9"
  }
 },
 "nbformat": 4,
 "nbformat_minor": 5
}
